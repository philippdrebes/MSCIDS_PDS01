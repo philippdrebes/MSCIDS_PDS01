{
 "cells": [
  {
   "cell_type": "markdown",
   "metadata": {},
   "source": [
    "# global VS local VS free VS nonlocal Variables ..."
   ]
  },
  {
   "cell_type": "code",
   "execution_count": null,
   "metadata": {},
   "outputs": [],
   "source": [
    "x                        # name 'x' is not defined  => NameError occurs!"
   ]
  },
  {
   "cell_type": "code",
   "execution_count": null,
   "metadata": {},
   "outputs": [],
   "source": [
    "x = 99                  \n",
    "x                      # name x is defined\n"
   ]
  },
  {
   "cell_type": "code",
   "execution_count": null,
   "metadata": {},
   "outputs": [],
   "source": [
    "type(x)"
   ]
  },
  {
   "cell_type": "code",
   "execution_count": null,
   "metadata": {},
   "outputs": [],
   "source": [
    "# x is a object => press Tab after 'x.'   and you see all methods of object x!!!!\n",
    "# uncomment next line!\n",
    "# x."
   ]
  },
  {
   "cell_type": "code",
   "execution_count": null,
   "metadata": {},
   "outputs": [],
   "source": [
    "# examples of methods:\n",
    "print(x.bit_length())\n",
    "print(type(x.bit_length()))\n",
    "type(x.bit_length())"
   ]
  },
  {
   "cell_type": "code",
   "execution_count": null,
   "metadata": {},
   "outputs": [],
   "source": [
    "# x has a \"identity\" ( something like a \"memory location\"  )\n",
    "# The 'build-in' function 'id()' returns the “identity” of an object. \n",
    "# This is an integer which is guaranteed to be unique and constant \n",
    "# for this object during its lifetime. \n",
    "# Two objects with non-overlapping lifetimes may have the same id() value.\n",
    "\n",
    "# Important: CPython implementation detail: This is the address of the object in memory.\n",
    "\n",
    "id(x)                  # returns e.g. 9788736"
   ]
  },
  {
   "cell_type": "code",
   "execution_count": null,
   "metadata": {},
   "outputs": [],
   "source": [
    "# How do I find out what Python implementation I am using?\n",
    "import platform\n",
    "platform.python_implementation()"
   ]
  },
  {
   "cell_type": "code",
   "execution_count": null,
   "metadata": {},
   "outputs": [],
   "source": [
    "# x is an object => show all the names (instance variables and methods) of object 'x'\n",
    "dir(x)"
   ]
  },
  {
   "cell_type": "code",
   "execution_count": null,
   "metadata": {},
   "outputs": [],
   "source": []
  },
  {
   "cell_type": "code",
   "execution_count": null,
   "metadata": {},
   "outputs": [],
   "source": [
    "# PPTX  Variables_in_Python_V3.0.pptx  => page 5 ff\n",
    "\n",
    "myList = [99,6,\"pit\"]\n",
    "myList2 = myList\n",
    "\n",
    "print(myList)\n",
    "print(myList2)\n",
    "\n",
    "print(id(myList))\n",
    "print(id(myList2))"
   ]
  },
  {
   "cell_type": "code",
   "execution_count": null,
   "metadata": {},
   "outputs": [],
   "source": [
    "# global Variable VS free variable   => page 6 \n",
    "\n",
    "x = 1\n",
    "\n",
    "def foo():\n",
    "    print(\"x in foo: \", x)\n",
    "        \n",
    "print(\"x in 'script': \", x)  \n",
    "foo()\n",
    "print(\"x in 'script': \", x)  "
   ]
  },
  {
   "cell_type": "code",
   "execution_count": null,
   "metadata": {},
   "outputs": [],
   "source": [
    "# global variable VS local variable   => page 7\n",
    "\n",
    "x = 1\n",
    "\n",
    "def foo():\n",
    "    \n",
    "    x = 2\n",
    "    print(\"x in foo: \", x)\n",
    "    \n",
    "print(\"x in 'script': \", x)  \n",
    "foo()\n",
    "print(\"x in 'script': \", x)  "
   ]
  },
  {
   "cell_type": "code",
   "execution_count": null,
   "metadata": {},
   "outputs": [],
   "source": [
    "# global variable VS statement 'global x'   => page 8\n",
    "\n",
    "x = 1\n",
    "\n",
    "def foo():\n",
    "    global x\n",
    "    x = 2\n",
    "    print(\"x in foo: \", x)\n",
    "    \n",
    "print(\"x in 'script': \", x)  \n",
    "foo()\n",
    "print(\"x in 'script': \", x)     "
   ]
  },
  {
   "cell_type": "code",
   "execution_count": null,
   "metadata": {},
   "outputs": [],
   "source": [
    "# global  VS local VS free   => page 9\n",
    "\n",
    "try:\n",
    "    if x:\n",
    "        del x        \n",
    "except:\n",
    "    pass\n",
    "\n",
    "x = 99\n",
    "\n",
    "def bar():\n",
    "    x = 1\n",
    "    def foo():\n",
    "        y = 2\n",
    "        print(\"x in foo: \", x)\n",
    "        print(\"y in foo: \", y)   \n",
    "    foo()\n",
    "    print(\"x in bar: \", x)\n",
    "    \n",
    "print(\"x in 'script': \", x)    \n",
    "bar()\n",
    "print(\"x in 'script': \", x)    "
   ]
  },
  {
   "cell_type": "code",
   "execution_count": null,
   "metadata": {},
   "outputs": [],
   "source": [
    "# global VS Local VS nonlocal   => page 10\n",
    "\n",
    "x = 99\n",
    "\n",
    "def bar():\n",
    "    x = 1\n",
    "    print(\"outer:\", x)\n",
    "    \n",
    "    def foo():\n",
    "        # print(x)            # not allowed: name 'x' is used prior to nonlocal declaration\n",
    "        \n",
    "        nonlocal x            # x points to the x of bar() in the next outside scope!!! \n",
    "        x = 55                # something like: influences the variable in the outer, directly surrounding scope\n",
    "        print(\"inner:\", x)\n",
    "\n",
    "    foo()\n",
    "    print(\"outer:\", x)\n",
    "\n",
    "print(\"global:\", x)\n",
    "bar()\n",
    "print(\"global:\", x)\n",
    "\n",
    "# Result:\n",
    "# global: 99\n",
    "# outer: 1\n",
    "# inner: 55\n",
    "# outer: 55\n",
    "# global: 99\n"
   ]
  },
  {
   "cell_type": "code",
   "execution_count": null,
   "metadata": {},
   "outputs": [],
   "source": [
    "# global VS Local (NO  'nonlocal' here! )   => page 11\n",
    "\n",
    "x = 99\n",
    "print(\"global:\", x)\n",
    "\n",
    "def bar():\n",
    "    x = 1\n",
    "    print(\"outer:\", x)\n",
    "    \n",
    "    def foo():\n",
    "        # print(x)            # not allowed: local variable 'x' referenced before assignment\n",
    "        \n",
    "        # nonlocal x           \n",
    "        x = 55                # here we define a NEW local variable 'x'  !!!\n",
    "        print(\"inner:\", x)\n",
    "\n",
    "    foo()\n",
    "    print(\"outer:\", x)\n",
    "\n",
    "\n",
    "bar()\n",
    "print(\"global:\", x)\n",
    "\n",
    "# Result:\n",
    "# global: 99\n",
    "# outer: 1\n",
    "# inner: 55\n",
    "# outer: 1              # normal output of outside variable x in bar()\n",
    "# global: 99"
   ]
  },
  {
   "cell_type": "code",
   "execution_count": null,
   "metadata": {},
   "outputs": [],
   "source": []
  }
 ],
 "metadata": {
  "kernelspec": {
   "display_name": "Python 3",
   "language": "python",
   "name": "python3"
  },
  "language_info": {
   "codemirror_mode": {
    "name": "ipython",
    "version": 3
   },
   "file_extension": ".py",
   "mimetype": "text/x-python",
   "name": "python",
   "nbconvert_exporter": "python",
   "pygments_lexer": "ipython3",
   "version": "3.8.5"
  }
 },
 "nbformat": 4,
 "nbformat_minor": 4
}
