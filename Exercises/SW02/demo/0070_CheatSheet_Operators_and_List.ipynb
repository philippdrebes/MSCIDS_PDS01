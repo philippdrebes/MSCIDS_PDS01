{
 "cells": [
  {
   "cell_type": "markdown",
   "source": [
    "Ideas from this source: https://www.udemy.com/course/the-complete-python-masterclass/learn/lecture/11121312#overview/ revised and rearranged: `mae`\n",
    "\n",
    "# Operators and Lists\n",
    "We can use **in** to check if an element is contained in another element."
   ],
   "metadata": {}
  },
  {
   "cell_type": "markdown",
   "source": [
    "### The in-Operator and Lists "
   ],
   "metadata": {}
  },
  {
   "cell_type": "markdown",
   "source": [
    "There are also operators for lists; for example, we can use the **in** operator to check whether an element is contained in a list. \n",
    " \n",
    "\n",
    "Formally, the syntax looks like this: **element <span style=\"color:green\">in</span> list**\n"
   ],
   "metadata": {}
  },
  {
   "cell_type": "code",
   "execution_count": null,
   "source": [
    "students = [\"Max\", \"Monika\", \"Erik\", \"Franziska\"]\r\n",
    "\r\n",
    "print(\"Monika\" in students)   \r\n",
    "print(\"Moritz\" in students)"
   ],
   "outputs": [],
   "metadata": {}
  },
  {
   "cell_type": "markdown",
   "source": [
    "The result of such a query is a Boolean, i.e. the value is either True or False. This allows us to use expressions with the in operator in if-else structures:"
   ],
   "metadata": {}
  },
  {
   "cell_type": "code",
   "execution_count": null,
   "source": [
    "if \"Monika\" in students:\r\n",
    "    print(\"Yes, Monika studies here!\")\r\n",
    "else:\r\n",
    "    print(\"No, Monika doesn't study here!\")\r\n",
    "    \r\n",
    "if \"Moritz\" in students:\r\n",
    "    print(\"Yes, Moritz studies here!\")\r\n",
    "else:\r\n",
    "    print(\"No, Moritz doesn't study here!\")"
   ],
   "outputs": [],
   "metadata": {}
  },
  {
   "cell_type": "markdown",
   "source": [
    "### The in operator and strings\n",
    "In fact, the in operator can also be applied to strings. For example, we can check whether a letter or character is contained in a word, or a word in a sentence, etc."
   ],
   "metadata": {}
  },
  {
   "cell_type": "code",
   "execution_count": null,
   "source": [
    "sentence = \"Yes, Monika studies here!\"\n",
    "\n",
    "if \"!\" in sentence:\n",
    "    print(\"YES\")\n",
    "else:\n",
    "    print(\"NO\")"
   ],
   "outputs": [],
   "metadata": {}
  },
  {
   "cell_type": "code",
   "execution_count": null,
   "source": [
    "word = \"Studies\"\n",
    "\n",
    "if \"ies\" in word:\n",
    "    print(\"YES\")\n",
    "else:\n",
    "    print(\"NO\")"
   ],
   "outputs": [],
   "metadata": {}
  },
  {
   "cell_type": "markdown",
   "source": [
    "### Why don't you play around with what you've learned a little bit?\n",
    "- Check some strings with the in operator! :-)\n"
   ],
   "metadata": {}
  },
  {
   "cell_type": "code",
   "execution_count": null,
   "source": [
    "\n",
    "\n"
   ],
   "outputs": [],
   "metadata": {}
  }
 ],
 "metadata": {
  "kernelspec": {
   "display_name": "Python 3",
   "language": "python",
   "name": "python3"
  },
  "language_info": {
   "codemirror_mode": {
    "name": "ipython",
    "version": 3
   },
   "file_extension": ".py",
   "mimetype": "text/x-python",
   "name": "python",
   "nbconvert_exporter": "python",
   "pygments_lexer": "ipython3",
   "version": "3.8.5"
  }
 },
 "nbformat": 4,
 "nbformat_minor": 2
}