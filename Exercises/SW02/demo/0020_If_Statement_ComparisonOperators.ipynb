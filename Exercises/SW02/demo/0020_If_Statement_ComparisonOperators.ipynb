{
 "cells": [
  {
   "cell_type": "markdown",
   "source": [
    "# Intro 'Conditional Statement'  \n",
    "\n",
    "\n",
    "Below are some code examples taken from https://www.python-course.eu/python3_conditional_statements.php - revised and rearranged: `mae`\n"
   ],
   "metadata": {}
  },
  {
   "cell_type": "markdown",
   "source": [
    "## Conditional Statements"
   ],
   "metadata": {}
  },
  {
   "cell_type": "markdown",
   "source": [
    "**Goal:** \n",
    "\n",
    "We would like to give children a recommendation, depending on their age, whether they should watch a film or not."
   ],
   "metadata": {}
  },
  {
   "cell_type": "markdown",
   "source": [
    "### Simplest if statement\n",
    "\n"
   ],
   "metadata": {}
  },
  {
   "cell_type": "code",
   "execution_count": null,
   "source": [
    "# try to find out: \r\n",
    "# what is the ouput of this little progam, if you enter '11' and then '14'\r\n",
    "\r\n",
    "\r\n",
    "age = int(input(\"Your age? \"))  \r\n",
    "# input:  11     (first run!)\r\n",
    "# input:  14     (second run!)\r\n",
    "\r\n",
    "if age < 12:\r\n",
    "    print(\"Sorry, the film is only from 12!\")\r\n"
   ],
   "outputs": [],
   "metadata": {
    "scrolled": true
   }
  },
  {
   "cell_type": "markdown",
   "source": [
    "In the cell below, make a small note of what we learned (using `markdown` notation) !)"
   ],
   "metadata": {}
  },
  {
   "cell_type": "code",
   "execution_count": null,
   "source": [],
   "outputs": [],
   "metadata": {}
  },
  {
   "cell_type": "markdown",
   "source": [
    "###  'if' statement with 'else'-branch"
   ],
   "metadata": {
    "scrolled": true
   }
  },
  {
   "cell_type": "code",
   "execution_count": null,
   "source": [
    "# now we always want to generate an output \n",
    "# no matter whether a child is  < 12 or not   => we use `else`:\n",
    "\n",
    "# As in the last example: Enter 11 first and then 14 to test.\n",
    "\n",
    "age = int(input(\"Your age? \"))\n",
    "# input:  11     (first run!)\n",
    "# input:  14     (second run!)\n",
    "\n",
    "if age < 12:\n",
    "    print(\"Sorry, the film is only from 12!\")\n",
    "else:\n",
    "    print(\"Okay, have fun!\")\n",
    "    "
   ],
   "outputs": [],
   "metadata": {}
  },
  {
   "cell_type": "code",
   "execution_count": null,
   "source": [],
   "outputs": [],
   "metadata": {}
  },
  {
   "cell_type": "markdown",
   "source": [
    "### 'else'-branch vs 'elif'-branch"
   ],
   "metadata": {}
  },
  {
   "cell_type": "markdown",
   "source": [
    "If we want to give the children more precise recommendations, we have to \"nest\" several if statements.\n",
    "\n",
    "The recommendations should look like this:\n",
    "- If age <4: Film is too complicated for you!\n",
    "- If age <12: Okay, have fun!\n",
    "- If age <16: Are you sure? Is this the right film for you?\n",
    "- If age> = 16: Forget the movie! Kid stuf!\n",
    "\n",
    "As in practice, often the recommendation will not be 100% clear.\\\n",
    "Decide for yourself (in a second step) what exactly should apply (e.g. on the borders)."
   ],
   "metadata": {}
  },
  {
   "cell_type": "markdown",
   "source": [
    "**Example 1:** With `nested if` - Statements "
   ],
   "metadata": {}
  },
  {
   "cell_type": "code",
   "execution_count": null,
   "source": [
    "# inputs:  3, 11, 14, 17 \n",
    "age = int(input(\"Your age? \"))\n",
    "\n",
    "if age < 4:\n",
    "    print(\"Film is too complicated for you!\")\n",
    "else:\n",
    "    if age < 12:\n",
    "        print(\"Okay, have fun!\")\n",
    "    else:\n",
    "        if age < 16:\n",
    "            print(\"Are you sure? Is this the right film for you?\")\n",
    "        else:\n",
    "            print(\"Forget the movie! Kid stuf!\")\n",
    "\n",
    "print(\"Movie recommendation ended!\")            \n",
    "            \n",
    "# test yourself the borders 4, 12, 16 ... is everything ok for you?           "
   ],
   "outputs": [],
   "metadata": {}
  },
  {
   "cell_type": "markdown",
   "source": [
    "The `elif` statement is often used in practice instead of `nested if` commands.\n",
    "\n",
    "You can see the same example below as above with `elif` commands.\n",
    "What do you think?"
   ],
   "metadata": {}
  },
  {
   "cell_type": "markdown",
   "source": [
    "**Example 2:**  With `elif` statements"
   ],
   "metadata": {}
  },
  {
   "cell_type": "code",
   "execution_count": null,
   "source": [
    "# inputs:  3, 11, 14, 17\n",
    "age = int(input(\"Your age? \"))\n",
    "\n",
    "if age < 4:\n",
    "    print(\"Film is too complicated for you!\")\n",
    "elif age < 12:\n",
    "    print(\"Okay, have fun!\")\n",
    "elif age < 16:\n",
    "    print(\"Are you sure? Is this the right film for you?\")\n",
    "else:\n",
    "    print(\"Forget the movie! Kid stuf!\")\n",
    "    \n",
    "print(\"Movie recommendation ended!\")      \n",
    "\n",
    "# test yourself the borders 4, 12, 16 ... is everything ok for you?    "
   ],
   "outputs": [],
   "metadata": {}
  },
  {
   "cell_type": "code",
   "execution_count": null,
   "source": [],
   "outputs": [],
   "metadata": {}
  },
  {
   "cell_type": "code",
   "execution_count": null,
   "source": [],
   "outputs": [],
   "metadata": {}
  },
  {
   "cell_type": "markdown",
   "source": [
    "### Comparison operators, conditions, True or False\n",
    "\n"
   ],
   "metadata": {}
  },
  {
   "cell_type": "markdown",
   "source": [
    "Have a look at https://docs.python.org/3/library/stdtypes.html#index-3  : <br>\n",
    "<br>\n",
    "\n",
    "The simple rule: **Anything that is not False, is True!** <br>\n",
    "\n",
    "So we only need to define what is “wrong”, i.e. what is false: <br>\n",
    "<br>\n",
    "\n",
    "Here are most of the built-in objects considered false:<br>\n",
    "■ constants defined to be false: None and False.<br>\n",
    "■ zero of any numeric type: 0, 0.0, 0j, Decimal(0), Fraction(0, 1)<br>\n",
    "■ empty sequences and collections: '', (), [], {}, set(), range(0)<br>\n",
    "\n",
    "<br>\n",
    "<b>Python regards all other values as \"true\", i.e. true.</b><br>\n",
    "<br>\n",
    "The following two examples explains that facts .... try it out! "
   ],
   "metadata": {}
  },
  {
   "cell_type": "code",
   "execution_count": null,
   "source": [
    "# inputs: 22, 0\n",
    "\n",
    "x = int(input(\"Input a Number: \"))\n",
    "if x:                             # reason: Anything that is not false is True!!!!\n",
    "    print(\"The number entered is not zero.\")\n",
    "else:\n",
    "    print(\"The number entered is zero.\")"
   ],
   "outputs": [],
   "metadata": {}
  },
  {
   "cell_type": "code",
   "execution_count": null,
   "source": [
    "# Addition: \"Normal\" (in other programming languages) is programmed as follows:\n",
    "# inputs: 22, 0 \n",
    "\n",
    "x = int(input(\"Input a Number: \"))\n",
    "if x == 0 :                           # check yourself if x is 0! \n",
    "    print(\"The number entered is zero.\")\n",
    "else:\n",
    "    print(\"The number entered is not zero.\")\n",
    "    \n",
    "\n",
    "# print(\"*\"* 20)     # as repetition\n",
    "    \n",
    "# a = 42             # this is a right-to-left assignment\n",
    "# print(a == 42  )   # this is a logical comparison: if a equals 42"
   ],
   "outputs": [],
   "metadata": {}
  },
  {
   "cell_type": "markdown",
   "source": [
    "Which of these two examples is better?\\\n",
    "This is often a \"matter of taste\" for the developer. You just have to be able to \"read\" both spellings.\n",
    "\n",
    "\n",
    "Here is another example that is often found in practice:\\\n",
    "It is examined whether **a list is empty or not.**"
   ],
   "metadata": {}
  },
  {
   "cell_type": "code",
   "execution_count": null,
   "source": [
    "liste = []\n",
    "#liste = [1,'HSLU']                      # second trial!\n",
    "\n",
    "\n",
    "if liste:                                # empty list = False !! => have a look above!\n",
    "    print(\"List contains elements!\")\n",
    "else:\n",
    "    print(\"List is empty!\")\n"
   ],
   "outputs": [],
   "metadata": {}
  },
  {
   "cell_type": "code",
   "execution_count": null,
   "source": [],
   "outputs": [],
   "metadata": {}
  },
  {
   "cell_type": "markdown",
   "source": [
    "### Exercises Condition (if and elif statements)\n",
    "Based on an Exercise of Bernd Klein (Einführung in Python) <br>\n",
    "\n",
    "\n",
    "If you want to compare the age of a dog with human years, the following calculation is often used: <br>\n",
    "You calculate dog years into human years by multiplying the dog's age by 7. <br> \n",
    "\n",
    "<br>\n",
    "However, the conversion looks a bit more complicated for e.g. big dogs and depends on breed (german: Rasse): \n",
    "\n",
    "- A one year old dog is roughly equivalent to a 14 year old human.\n",
    "- 2 years of a dog corresponds to 22 years of a human.\n",
    "- From then on, one dog year corresponds to 5 human years.<br>\n",
    "\n",
    "<br> \n",
    "Write a program that asks for the age of a dog and then uses the above method to calculate what age in human years  corresponds the entered value. "
   ],
   "metadata": {}
  },
  {
   "cell_type": "code",
   "execution_count": null,
   "source": [],
   "outputs": [],
   "metadata": {}
  },
  {
   "cell_type": "code",
   "execution_count": null,
   "source": [],
   "outputs": [],
   "metadata": {}
  },
  {
   "cell_type": "code",
   "execution_count": null,
   "source": [],
   "outputs": [],
   "metadata": {}
  },
  {
   "cell_type": "code",
   "execution_count": null,
   "source": [],
   "outputs": [],
   "metadata": {}
  },
  {
   "cell_type": "code",
   "execution_count": null,
   "source": [],
   "outputs": [],
   "metadata": {}
  },
  {
   "cell_type": "code",
   "execution_count": null,
   "source": [],
   "outputs": [],
   "metadata": {}
  },
  {
   "cell_type": "code",
   "execution_count": null,
   "source": [],
   "outputs": [],
   "metadata": {}
  },
  {
   "cell_type": "code",
   "execution_count": null,
   "source": [],
   "outputs": [],
   "metadata": {}
  },
  {
   "cell_type": "code",
   "execution_count": null,
   "source": [],
   "outputs": [],
   "metadata": {}
  },
  {
   "cell_type": "code",
   "execution_count": null,
   "source": [
    "# solution (proposal!!!)\n",
    "\n",
    "\n",
    "age = int(input(\"Enter the age of the dog (1,2,...): \"))\n",
    "print()\n",
    "if age < 0:\n",
    "    print(\"This cannot be true!\")\n",
    "elif age == 0:\n",
    "    print(\"This corresponds to 0 human years!\")\n",
    "elif age == 1:\n",
    "    print(\"Roughly 14 years!\")\n",
    "elif age == 2:\n",
    "    print(\"Approximately 22 years!\")\n",
    "else:\n",
    "    human = 22 + (age -2) * 5\n",
    "    print(\"Corresponds to  \" + str(human) + \" human years!\")"
   ],
   "outputs": [],
   "metadata": {}
  }
 ],
 "metadata": {
  "kernelspec": {
   "display_name": "Python 3",
   "language": "python",
   "name": "python3"
  },
  "language_info": {
   "codemirror_mode": {
    "name": "ipython",
    "version": 3
   },
   "file_extension": ".py",
   "mimetype": "text/x-python",
   "name": "python",
   "nbconvert_exporter": "python",
   "pygments_lexer": "ipython3",
   "version": "3.8.5"
  }
 },
 "nbformat": 4,
 "nbformat_minor": 2
}