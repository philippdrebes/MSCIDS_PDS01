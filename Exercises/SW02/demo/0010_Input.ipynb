{
 "cells": [
  {
   "cell_type": "markdown",
   "source": [
    "# Intro for 'Input' \n",
    "    \n"
   ],
   "metadata": {}
  },
  {
   "cell_type": "markdown",
   "source": [
    "## Input"
   ],
   "metadata": {}
  },
  {
   "cell_type": "markdown",
   "source": [
    "Have a look at:  https://www.python-course.eu/python3_input.ph\n"
   ],
   "metadata": {}
  },
  {
   "cell_type": "code",
   "execution_count": null,
   "source": [
    "# frist we do some \"normal\" output on the screen (standard output !)\r\n",
    "\r\n",
    "print(16*2)  \r\n",
    "print(4**2)\r\n",
    "print(7/2)\r\n",
    "print(21%8)\r\n",
    "print(42//4)"
   ],
   "outputs": [],
   "metadata": {
    "scrolled": true
   }
  },
  {
   "cell_type": "code",
   "execution_count": null,
   "source": [
    "# Note the \\n sign\r\n",
    "# What is it doing?\r\n",
    "\r\n",
    "print(\"What I don't know \\ doesn't make me hot. \\n-> It's not true at all!\")"
   ],
   "outputs": [],
   "metadata": {}
  },
  {
   "cell_type": "code",
   "execution_count": null,
   "source": [],
   "outputs": [],
   "metadata": {}
  },
  {
   "cell_type": "markdown",
   "source": [
    "If we want or have to make an input manually in a program, we can use the `input()` command.\n",
    "\n",
    "We're going to do some examples now."
   ],
   "metadata": {}
  },
  {
   "cell_type": "code",
   "execution_count": null,
   "source": [
    "# Input a string: \r\n",
    "\r\n",
    "placeOfStudy = input(\"Where do you study?\")\r\n",
    "\r\n",
    "print(\"It is nice that you are studying in \" + placeOfStudy + \"!\")"
   ],
   "outputs": [],
   "metadata": {}
  },
  {
   "cell_type": "code",
   "execution_count": null,
   "source": [
    "# Input a number:\n",
    "\n",
    "yourAge = input(\"How old are you? \")\n",
    "\n",
    "print(\"You are \" + yourAge + \" years old. Beautiful!\")"
   ],
   "outputs": [],
   "metadata": {}
  },
  {
   "cell_type": "markdown",
   "source": [
    "**Important:** The return value of the `input()` function is always of the type \"string\".\n",
    "\n",
    "If you expect a number as the result to calculate with this number,\\\n",
    "you have to convert the result of the `input()` function into a number.\n",
    "\n",
    "To do this, use the built-in functions `int()`"
   ],
   "metadata": {
    "scrolled": true
   }
  },
  {
   "cell_type": "code",
   "execution_count": null,
   "source": [],
   "outputs": [],
   "metadata": {
    "scrolled": true
   }
  },
  {
   "cell_type": "code",
   "execution_count": null,
   "source": [
    "yourAgeNumber = int(input(\"How old are you? \"))\n",
    "\n",
    "print(\"yourAgeNumber is a \", type(yourAgeNumber))\n",
    "\n",
    "print(\"In 10 years they will be \" + str(yourAgeNumber + 10) + \" years old!\") \n",
    "\n",
    "# Can you explain why str (...) is used?\n",
    "# What does str () do?"
   ],
   "outputs": [],
   "metadata": {}
  },
  {
   "cell_type": "code",
   "execution_count": null,
   "source": [
    "                        "
   ],
   "outputs": [],
   "metadata": {}
  },
  {
   "cell_type": "code",
   "execution_count": null,
   "source": [
    "# Summary:\n",
    "\n",
    "print(id(yourAge))                     # object ID of variable 'yourAge'\n",
    "print(id(yourAgeNumber))               # object ID of variable 'youAgeNumber'\n",
    "\n",
    "print(type(yourAge))\n",
    "print(type(yourAgeNumber))"
   ],
   "outputs": [],
   "metadata": {}
  },
  {
   "cell_type": "code",
   "execution_count": null,
   "source": [],
   "outputs": [],
   "metadata": {}
  },
  {
   "cell_type": "code",
   "execution_count": null,
   "source": [],
   "outputs": [],
   "metadata": {}
  },
  {
   "cell_type": "markdown",
   "source": [
    "If you have problems with \"input()\": <br>\n",
    "Probably you hit **Shift-Enter** a second time without completing the first input with **Enter**, so the kernel was always waiting until the first command completed, before executing it again. If you use in the menu <br>\n",
    "<br>\n",
    "\n",
    "**\"Kernel\", \"Interrupt\",**\n",
    "<br>\n",
    "\n",
    "all active commands are stopped (including the second execution of the box) and the problem should be solved without restarting the computer (or the browser / the kernel)."
   ],
   "metadata": {}
  }
 ],
 "metadata": {
  "kernelspec": {
   "display_name": "Python 3",
   "language": "python",
   "name": "python3"
  },
  "language_info": {
   "codemirror_mode": {
    "name": "ipython",
    "version": 3
   },
   "file_extension": ".py",
   "mimetype": "text/x-python",
   "name": "python",
   "nbconvert_exporter": "python",
   "pygments_lexer": "ipython3",
   "version": "3.8.5"
  }
 },
 "nbformat": 4,
 "nbformat_minor": 2
}