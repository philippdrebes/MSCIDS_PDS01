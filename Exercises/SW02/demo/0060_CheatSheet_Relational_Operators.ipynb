{
 "cells": [
  {
   "cell_type": "markdown",
   "source": [
    "Ideas from this source: https://www.udemy.com/course/the-complete-python-masterclass/learn/lecture/11121312#overview/ revised and rearranged: `mae`\n",
    "\n",
    "### Relational operators"
   ],
   "metadata": {}
  },
  {
   "cell_type": "markdown",
   "source": [
    "To better understand the conditions in the if-else structures, let's look at **comparison operations**. This will help us to formulate a variety of conditions."
   ],
   "metadata": {}
  },
  {
   "cell_type": "markdown",
   "source": [
    "### Inequality Operators and Bools  "
   ],
   "metadata": {}
  },
  {
   "cell_type": "code",
   "execution_count": null,
   "source": [
    "if 6 < 5:\r\n",
    "    print(\"Yes\")"
   ],
   "outputs": [],
   "metadata": {}
  },
  {
   "cell_type": "markdown",
   "source": [
    "Why is there no output with print()? <br> Let's look at expressions with inequality signs (<,>) in detail:"
   ],
   "metadata": {}
  },
  {
   "cell_type": "code",
   "execution_count": null,
   "source": [
    "print(6 < 5)  \r\n",
    "print(5 < 6)"
   ],
   "outputs": [],
   "metadata": {}
  },
  {
   "cell_type": "markdown",
   "source": [
    "**True** and **False** are other _fixed expressions_ in Python. In addition to strings (character strings), integers and floats, they form another data type - the **Bool**."
   ],
   "metadata": {}
  },
  {
   "cell_type": "code",
   "execution_count": null,
   "source": [
    "b = False\r\n",
    "print(b)"
   ],
   "outputs": [],
   "metadata": {}
  },
  {
   "cell_type": "markdown",
   "source": [
    "An if condition is therefore only executed more if a Boolean with the value True follows the if: "
   ],
   "metadata": {}
  },
  {
   "cell_type": "code",
   "execution_count": null,
   "source": [
    "result = 5 < 6\r\n",
    "if result:\r\n",
    "    print(\"5 is lower than 6\")"
   ],
   "outputs": [],
   "metadata": {}
  },
  {
   "cell_type": "code",
   "execution_count": null,
   "source": [
    "print(5 < 6)"
   ],
   "outputs": [],
   "metadata": {}
  },
  {
   "cell_type": "markdown",
   "source": [
    "### The equality operator"
   ],
   "metadata": {}
  },
  {
   "cell_type": "markdown",
   "source": [
    "Besides inequalities, we can of course also query equality with **===**"
   ],
   "metadata": {}
  },
  {
   "cell_type": "code",
   "execution_count": null,
   "source": [
    "print(5 == 5)\n",
    "print(5 == 4)"
   ],
   "outputs": [],
   "metadata": {}
  },
  {
   "cell_type": "code",
   "execution_count": null,
   "source": [
    "if 5 == 5:\n",
    "    print(\"5 is 5\")"
   ],
   "outputs": [],
   "metadata": {}
  },
  {
   "cell_type": "markdown",
   "source": [
    "Using the equality operator we can also query the _greater equal_ (**>=**) and _less equal_ (**<=**) states:"
   ],
   "metadata": {}
  },
  {
   "cell_type": "code",
   "execution_count": null,
   "source": [
    "print(5 < 5)\n",
    "print(5 <= 5)\n",
    "print(5 >= 5)"
   ],
   "outputs": [],
   "metadata": {}
  },
  {
   "cell_type": "markdown",
   "source": [
    "### Comparing Strings"
   ],
   "metadata": {}
  },
  {
   "cell_type": "markdown",
   "source": [
    "We can not only compare numbers, but also strings:"
   ],
   "metadata": {}
  },
  {
   "cell_type": "code",
   "execution_count": null,
   "source": [
    "word = \"Hello\"\n",
    "print(word == \"Hello\")\n",
    "print(word == \"World\")"
   ],
   "outputs": [],
   "metadata": {}
  },
  {
   "cell_type": "markdown",
   "source": [
    "### The Inequality Operator"
   ],
   "metadata": {}
  },
  {
   "cell_type": "markdown",
   "source": [
    "We check for inequality with the character **!=**"
   ],
   "metadata": {}
  },
  {
   "cell_type": "code",
   "execution_count": null,
   "source": [
    "word = \"Hello\"\n",
    "print(word != \"Hello\")\n",
    "print(word != \"World\")"
   ],
   "outputs": [],
   "metadata": {}
  },
  {
   "cell_type": "markdown",
   "source": [
    "Numbers can also be compared in terms of inequality:"
   ],
   "metadata": {}
  },
  {
   "cell_type": "code",
   "execution_count": null,
   "source": [
    "zahl = 4\n",
    "print(zahl != 4)\n",
    "print(zahl != 5.5)"
   ],
   "outputs": [],
   "metadata": {}
  },
  {
   "cell_type": "markdown",
   "source": [
    "### Why don't you play around with what you've learned a little bit?\n",
    "- Formulate your own comparison operations with the operators from this lesson! :-)"
   ],
   "metadata": {}
  },
  {
   "cell_type": "code",
   "execution_count": null,
   "source": [],
   "outputs": [],
   "metadata": {}
  }
 ],
 "metadata": {
  "kernelspec": {
   "display_name": "Python 3",
   "language": "python",
   "name": "python3"
  },
  "language_info": {
   "codemirror_mode": {
    "name": "ipython",
    "version": 3
   },
   "file_extension": ".py",
   "mimetype": "text/x-python",
   "name": "python",
   "nbconvert_exporter": "python",
   "pygments_lexer": "ipython3",
   "version": "3.8.5"
  }
 },
 "nbformat": 4,
 "nbformat_minor": 2
}