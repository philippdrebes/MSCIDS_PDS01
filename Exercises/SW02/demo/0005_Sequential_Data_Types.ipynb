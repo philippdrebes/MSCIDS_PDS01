{
 "cells": [
  {
   "cell_type": "markdown",
   "metadata": {},
   "source": [
    "# Sequential Data Types (List and Strings)\n",
    "       \n",
    "\n",
    "Source: https://www.python-course.eu/python3_sequential_data_types.php\n",
    "\n"
   ]
  },
  {
   "cell_type": "markdown",
   "metadata": {},
   "source": [
    "## Intro"
   ]
  },
  {
   "cell_type": "markdown",
   "metadata": {},
   "source": [
    "Sequences are one of the principal built-in data types.\\\n",
    "Python provides for sequence (or sequential) data types:\n",
    "\n",
    "- string\n",
    "- list\n",
    "- tupel\n",
    "\n",
    "and some more like 'range objects', 'byte sequences', .... \n",
    "\n",
    "The underlying concepts of this 'sequence types' is simple:\n",
    "- **The items or elements of strings, lists, tuples and range objects are ordered in a defined sequence.**\n",
    "- **The elements can be accessed via indices.**"
   ]
  },
  {
   "cell_type": "code",
   "execution_count": null,
   "metadata": {
    "scrolled": true
   },
   "outputs": [],
   "source": [
    "# what is an index? \n",
    "# let's show an example:\n",
    "\n",
    "text = \"Lists and Strings can be accessed via indices!\"\n",
    "print(text[0], text[10])    \n",
    "\n",
    "# what happens with negativ index-numbers? \n",
    "# let's try! \n"
   ]
  },
  {
   "cell_type": "markdown",
   "metadata": {},
   "source": [
    "We can also accessing `lists` with 'index':"
   ]
  },
  {
   "cell_type": "code",
   "execution_count": null,
   "metadata": {},
   "outputs": [],
   "source": [
    "lst = [\"Vienna\", \"London\", \"Paris\", \"Berlin\", \"Zurich\", \"Hamburg\"]\n",
    "\n",
    "# try to access some list element: \n",
    "print(lst[0])\n",
    "\n",
    "\n",
    "                 # -1 last element and so on ...try your self!"
   ]
  },
  {
   "cell_type": "markdown",
   "metadata": {},
   "source": [
    "On sequential data types the `len()` function may be applied (the number of elements in the sequential data type)"
   ]
  },
  {
   "cell_type": "code",
   "execution_count": null,
   "metadata": {},
   "outputs": [],
   "source": [
    "# example:\n",
    "countries = [\"Germany\", \"Switzerland\", \"Austria\", \n",
    "             \"France\", \"Belgium\", \"Netherlands\", \n",
    "             \"England\"]\n",
    "len(countries)  # the length of the list, i.e. the number of objects"
   ]
  },
  {
   "cell_type": "markdown",
   "metadata": {},
   "source": [
    "Or a in a `list of numbers` (here the beginning of the 'fibonacci sequence')"
   ]
  },
  {
   "cell_type": "code",
   "execution_count": null,
   "metadata": {},
   "outputs": [],
   "source": [
    "fib = [1, 1, 2, 3, 5, 8, 13, 21, 34, 55]\n",
    "len(fib)"
   ]
  },
  {
   "cell_type": "markdown",
   "metadata": {},
   "source": [
    "## List (Notation and Examples)"
   ]
  },
  {
   "cell_type": "code",
   "execution_count": null,
   "metadata": {},
   "outputs": [],
   "source": [
    "# empty list\n",
    "empty = []\n",
    "print(empty)"
   ]
  },
  {
   "cell_type": "code",
   "execution_count": null,
   "metadata": {},
   "outputs": [],
   "source": [
    "# A list of integers\n",
    "listOfIntegers = [1,1,2,3,5,8]\n",
    "print(listOfIntegers)"
   ]
  },
  {
   "cell_type": "code",
   "execution_count": null,
   "metadata": {},
   "outputs": [],
   "source": [
    "# A list of strings\n",
    "listOfStrings = [\"Luzern, Zürich\", \"Bern\"]\n",
    "print(listOfStrings)"
   ]
  },
  {
   "cell_type": "code",
   "execution_count": null,
   "metadata": {},
   "outputs": [],
   "source": [
    "# A nested list\n",
    "aNestedList = [[\"Luzern\",\"Schweiz\", 120000], [\"Bern\", \"Schweiz\", 250000]]\t\n",
    "print(aNestedList)"
   ]
  },
  {
   "cell_type": "code",
   "execution_count": null,
   "metadata": {},
   "outputs": [],
   "source": [
    "# A deeply nested list\n",
    "aDeeplyNestedList = [\"High up\", [\"further down\", [\"and down\", [\"deep down\", \"the answer\", 42]]]]\t\n",
    "print(aDeeplyNestedList)"
   ]
  },
  {
   "cell_type": "markdown",
   "metadata": {},
   "source": [
    "### Accessing List elements"
   ]
  },
  {
   "cell_type": "markdown",
   "metadata": {},
   "source": [
    "We can access elements of a list using an **index number**.\\\n",
    "The first index is 0!"
   ]
  },
  {
   "cell_type": "code",
   "execution_count": null,
   "metadata": {},
   "outputs": [],
   "source": [
    "# an example\n",
    "languages = [\"Python\", \"C\", \"C++\", \"Java\", \"Perl\"]\n",
    "\n",
    "# do yourself some examples with index 0, 1, ... -1, -2 \n",
    "print(languages[0])\n",
    "\n",
    "\n"
   ]
  },
  {
   "cell_type": "code",
   "execution_count": null,
   "metadata": {},
   "outputs": [],
   "source": [
    "# access to elements of a sublist\n",
    "person = [[\"Marc\", \"Mayer\"], [\"17, Oxford Str\", \"12345\", \"London\"], \"07876-7876\"]\n",
    "\n",
    "print(person[0])        # access to first element of a list\n",
    "print(person[0][1])     # access to name 'Mayer'\n",
    "\n",
    "# now try yourself!\n"
   ]
  },
  {
   "cell_type": "code",
   "execution_count": null,
   "metadata": {},
   "outputs": [],
   "source": [
    "# am more complex example:  (ok a little academic   ;-)  !) \n",
    "# find out how to access the element \"x\":\n",
    "\n",
    "complex_list = [[\"a\", [\"b\", [\"c\", \"x\"]]], 42]\n",
    "print(complex_list[0][1][1][0])     # access element ???? (write yourself)\n",
    "\n",
    "# now try yourself 2 other example with this complex_list"
   ]
  },
  {
   "cell_type": "markdown",
   "metadata": {},
   "source": [
    "### Changing List"
   ]
  },
  {
   "cell_type": "markdown",
   "metadata": {},
   "source": [
    "We can change an element of a list."
   ]
  },
  {
   "cell_type": "code",
   "execution_count": null,
   "metadata": {},
   "outputs": [],
   "source": [
    "# an example\n",
    "# replace \"Perl\" with \"Lisp\"\n",
    "\n",
    "languages = [\"Python\", \"C\", \"C++\", \"Java\", \"Perl\"]\n",
    "languages[4] = \"Lisp\"\n",
    "languages\n",
    "# print(languages)          # what's the 'difference' between 'languages' and print(languages) ?"
   ]
  },
  {
   "cell_type": "markdown",
   "metadata": {},
   "source": [
    "We can `append` an element to a list."
   ]
  },
  {
   "cell_type": "code",
   "execution_count": null,
   "metadata": {},
   "outputs": [],
   "source": [
    "# an example: Append \"Haskell\"   to the list 'languages'\n",
    "languages.append(\"Haskell\")\n",
    "languages"
   ]
  },
  {
   "cell_type": "markdown",
   "metadata": {},
   "source": [
    "We can `insert` a new item to the list at a specific position."
   ]
  },
  {
   "cell_type": "code",
   "execution_count": null,
   "metadata": {},
   "outputs": [],
   "source": [
    "# as an example: Insert \"Perl\" on position 1 (Index!)\n",
    "languages.insert(1, \"Perl\")\n",
    "languages"
   ]
  },
  {
   "cell_type": "markdown",
   "metadata": {},
   "source": [
    "As an experiment: Try to insert an element in a tuple as well."
   ]
  },
  {
   "cell_type": "code",
   "execution_count": null,
   "metadata": {},
   "outputs": [],
   "source": [
    "# as an example: We try to change \"immutable\" to \"mutable\"\n",
    "t = (\"tuples\", \"are\", \"immutable\")\n",
    "print(t[2])\n",
    "t[2]=\"mutable\""
   ]
  },
  {
   "cell_type": "markdown",
   "metadata": {},
   "source": [
    "### Slicing"
   ]
  },
  {
   "cell_type": "markdown",
   "metadata": {},
   "source": [
    "Python makes it very easy to slice a part of a string (or an other sequential data type!!!) with its slice operator. \n",
    "\n",
    "So every time you want to extract part of a string or a list (sequential data types!) in Python, \n",
    "you should use the slice operator. The syntax is simple. \n",
    "Actually it looks a little bit like accessing a single element with an index, \n",
    "but instead of just one number, we have more, separated with a `colon \":\"`. \n",
    "\n",
    "We have a `start` and an `end` index, one or both of them may be missing and optional a `step size`. \n",
    "\n",
    "It's best to study the `slice operation` by having a look at examples:"
   ]
  },
  {
   "cell_type": "code",
   "execution_count": null,
   "metadata": {},
   "outputs": [],
   "source": [
    "# slice the first 6 letters!\n",
    "slogan = \"Python is great!\"\n",
    "first_six = slogan[0:6]\n",
    "first_six"
   ]
  },
  {
   "cell_type": "markdown",
   "metadata": {},
   "source": [
    "We remember: **The value of the `end-index` is NEVER printed out!**"
   ]
  },
  {
   "cell_type": "code",
   "execution_count": null,
   "metadata": {},
   "outputs": [],
   "source": [
    "# slice the word 'great'\n",
    "slogan = \"Python is great!\"\n",
    "print(len(slogan))\n",
    "print(\"Last letter:\", slogan[15])\n",
    "#  print(\"Last letter: \" + slogan[15])    # the same printout!!! NOTE!!\n",
    "greatSilce = slogan[10:15]\n",
    "greatSilce"
   ]
  },
  {
   "cell_type": "code",
   "execution_count": null,
   "metadata": {},
   "outputs": [],
   "source": [
    "# print out the substring from index 5 to the end:\n",
    "starting_at_five = slogan[5:]\n",
    "starting_at_five"
   ]
  },
  {
   "cell_type": "code",
   "execution_count": null,
   "metadata": {},
   "outputs": [],
   "source": [
    "# print out everything of our 'slogan' string:\n",
    "print(slogan[:])       # no index => whole string!"
   ]
  },
  {
   "cell_type": "code",
   "execution_count": null,
   "metadata": {},
   "outputs": [],
   "source": [
    "# print out last element of sequence type (a Letter):\n",
    "print(slogan[-1])"
   ]
  },
  {
   "cell_type": "code",
   "execution_count": null,
   "metadata": {},
   "outputs": [],
   "source": [
    "# print out the last 6 letters (element of our string):\n",
    "print(slogan[-6:-1])            # hmm that's wrong!\n",
    "print(slogan[-6:])"
   ]
  },
  {
   "cell_type": "markdown",
   "metadata": {},
   "source": [
    "Slicing works with three arguments as well. If the third argument is for example 3, \n",
    "only every third element of the list, string or tuple from the range of the first two arguments will be taken.\n",
    "\n",
    "If `s` it is a sequential data type, it works like this:\n",
    "\n",
    "**`s[begin: end: step]`**\n",
    "\n",
    "The resulting sequence consists of the following elements:\n",
    "\n",
    " s[begin], s[begin + 1 * step], ... s[begin + i * step] for all (begin + i * step) < end. \n",
    "\n",
    "Let's see some examples:"
   ]
  },
  {
   "cell_type": "code",
   "execution_count": null,
   "metadata": {},
   "outputs": [],
   "source": [
    "# print out every third element\n",
    "slogan = \"0123456789\"\n",
    "slogan[::3]\n",
    "\n",
    "# try some variations!"
   ]
  },
  {
   "cell_type": "code",
   "execution_count": null,
   "metadata": {},
   "outputs": [],
   "source": [
    "# print out every third element\n",
    "slogan = \"Python under Linux is great\"\n",
    "slogan[::3]\n",
    "\n",
    "# try some variations!"
   ]
  },
  {
   "cell_type": "code",
   "execution_count": null,
   "metadata": {},
   "outputs": [],
   "source": [
    "# now try yourself!"
   ]
  },
  {
   "cell_type": "code",
   "execution_count": null,
   "metadata": {},
   "outputs": [],
   "source": []
  },
  {
   "cell_type": "markdown",
   "metadata": {},
   "source": [
    "### Check whether an element is in a list  (or in some other sequence type like 'string')"
   ]
  },
  {
   "cell_type": "markdown",
   "metadata": {},
   "source": [
    "It's easy to check, if an item is contained in a sequence.\n",
    "\n",
    "We can use the `in` or the `not in` operator for this purpose.\\\n",
    "The result will always be: `True` or `False`\n",
    "\n",
    "The following example shows how this operators can be applied:"
   ]
  },
  {
   "cell_type": "code",
   "execution_count": null,
   "metadata": {},
   "outputs": [],
   "source": [
    "# find out: Is 'a' in the List\n",
    "abc = [\"a\",\"b\",\"c\",\"d\",\"e\"]\n",
    "\"a\" in abc"
   ]
  },
  {
   "cell_type": "code",
   "execution_count": null,
   "metadata": {},
   "outputs": [],
   "source": [
    "# find out: Is 'a' not in the List\n",
    "\"a\" not in abc                # Think simple: Is the statement true: \"a\" not in abc  ?  yes or no"
   ]
  },
  {
   "cell_type": "code",
   "execution_count": null,
   "metadata": {},
   "outputs": [],
   "source": [
    "# some more example\n",
    "\"e\" not in abc"
   ]
  },
  {
   "cell_type": "code",
   "execution_count": null,
   "metadata": {},
   "outputs": [],
   "source": [
    "# # some more example\n",
    "\"f\" not in abc"
   ]
  },
  {
   "cell_type": "markdown",
   "metadata": {},
   "source": [
    "### Check whether a variable (object) belongs to a data type"
   ]
  },
  {
   "cell_type": "markdown",
   "metadata": {},
   "source": [
    "If we want to examine whether a variable is part of a `data type`, then we can use the `isinstance()` function."
   ]
  },
  {
   "cell_type": "code",
   "execution_count": null,
   "metadata": {},
   "outputs": [],
   "source": [
    "# examples\n",
    "x = [42,1,99,55,-666]\n",
    "print (isinstance(x,list))\n",
    "print (isinstance(x,tuple))\n",
    "\n",
    "y = (42,1,99,55,-666)\n",
    "print (isinstance(y,list))\n",
    "print (isinstance(y,tuple))"
   ]
  },
  {
   "cell_type": "code",
   "execution_count": null,
   "metadata": {},
   "outputs": [],
   "source": [
    "# You can also use the 'or' operator (more on that later!) if you like to query multiple conditions on one line:\n",
    "\n",
    "x = -23\n",
    "\n",
    "print(isinstance(x,float))\n",
    "print(isinstance(x,int))\n",
    "\n",
    "# on one line\n",
    "\n",
    "print(isinstance(x,float) or isinstance(x,int))"
   ]
  }
 ],
 "metadata": {
  "kernelspec": {
   "display_name": "Python 3 (ipykernel)",
   "language": "python",
   "name": "python3"
  },
  "language_info": {
   "codemirror_mode": {
    "name": "ipython",
    "version": 3
   },
   "file_extension": ".py",
   "mimetype": "text/x-python",
   "name": "python",
   "nbconvert_exporter": "python",
   "pygments_lexer": "ipython3",
   "version": "3.9.5"
  }
 },
 "nbformat": 4,
 "nbformat_minor": 2
}
