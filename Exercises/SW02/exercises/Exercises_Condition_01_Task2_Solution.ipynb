{
 "cells": [
  {
   "cell_type": "code",
   "execution_count": null,
   "source": [
    "# Exercises_Condition_01_Task2_Solution for if/elif Statment"
   ],
   "outputs": [],
   "metadata": {}
  },
  {
   "cell_type": "code",
   "execution_count": 9,
   "source": [
    "# How old is your customer?\r\n",
    "\r\n",
    "# To which category does the customer belong?\r\n",
    "# If the customer <18 => child i.e. may not be included\r\n",
    "# If: 18> = customer <25 then 'Youth' (output: The customer belongs to the 'Youth' category!)\r\n",
    "# If: 25> = customer <35 then 'YoungAdult'\r\n",
    "# If: 35> = customer <60 then 'MiddleAged'\r\n",
    "# If: 60> = customer then 'Senior'\r\n",
    "\r\n",
    "\r\n",
    "# Additive:\r\n",
    "# Ask at start: Do you want to reset the age limits?  \r\n",
    "# e.g. with (18,23,40,65) or (18, 27, 40, 70) etc.\r\n"
   ],
   "outputs": [],
   "metadata": {}
  },
  {
   "cell_type": "code",
   "execution_count": 1,
   "source": [
    "def main():\r\n",
    "    age = int(input(\"Input the age of the custumer:  \"))\r\n",
    "\r\n",
    "\r\n",
    "    if age < 18 :\r\n",
    "        print(\"The Customer may ot be included! A child?\")\r\n",
    "    elif age >= 18 and age <25:\r\n",
    "        print(\"The customer belongs to the 'Youth' category\")\r\n",
    "    elif age >= 25 and age <35:\r\n",
    "        print(\"The customer belongs to the 'YoungAdult' category\")\r\n",
    "    elif age >= 35 and age <60:\r\n",
    "        print(\"The customer belongs to the 'MiddleAged' category\")\r\n",
    "    elif age >= 60 :\r\n",
    "        print(\"The customer belongs to the 'Senior' category\")\r\n",
    "\r\n",
    "if __name__ == \"__main__\":\r\n",
    "    main()               # start the \"function\" main () above!"
   ],
   "outputs": [
    {
     "output_type": "stream",
     "name": "stdout",
     "text": [
      "Input the age of the custumer:  34\n",
      "The customer belongs to the 'YoungAdult' category\n"
     ]
    }
   ],
   "metadata": {}
  }
 ],
 "metadata": {
  "kernelspec": {
   "display_name": "Python 3",
   "language": "python",
   "name": "python3"
  },
  "language_info": {
   "codemirror_mode": {
    "name": "ipython",
    "version": 3
   },
   "file_extension": ".py",
   "mimetype": "text/x-python",
   "name": "python",
   "nbconvert_exporter": "python",
   "pygments_lexer": "ipython3",
   "version": "3.8.5"
  }
 },
 "nbformat": 4,
 "nbformat_minor": 4
}