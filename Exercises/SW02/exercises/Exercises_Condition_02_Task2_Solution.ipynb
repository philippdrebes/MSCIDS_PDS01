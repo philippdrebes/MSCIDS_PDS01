{
 "cells": [
  {
   "cell_type": "code",
   "execution_count": 6,
   "source": [
    "# Exercises_Condition_02_Task2_Solution  (proposal!)\r\n",
    "\r\n",
    "def main():\r\n",
    "\r\n",
    "    print(\"BMI - Calulator!\") \r\n",
    "\r\n",
    "    weight_str = input(\"Please enter your weight (in kg): \")\r\n",
    "    height_str = input(\"Please enter your height (in m): \")\r\n",
    "\r\n",
    "    weight = float(weight_str.replace(\",\", \".\"))  # if somebody enter e.g. 92,0\r\n",
    "    height = float(height_str.replace(\",\", \".\"))  # if somebody enter e.g. 1,82\r\n",
    "\r\n",
    "    bmi = weight / height ** 2\r\n",
    "\r\n",
    "    \r\n",
    "    if bmi < 18.5:\r\n",
    "        descripton = \"Underweight\"\r\n",
    "    elif bmi < 25:\r\n",
    "        descripton = \"Normal weight\"\r\n",
    "    elif bmi < 30:    \r\n",
    "        descripton = \"Overweight\"\r\n",
    "    else:    # BMI > 30 \r\n",
    "        descripton = \"Obesity (=Adipositas)\"\r\n",
    "        \r\n",
    "    print(\"Your BMI is: \" + str(round(bmi, 1)) + \"  (\" + descripton + \")\")    \r\n",
    "\r\n",
    "if __name__ == \"__main__\":\r\n",
    " main()\r\n",
    "\r\n"
   ],
   "outputs": [
    {
     "output_type": "stream",
     "name": "stdout",
     "text": [
      "BMI - Calulator!\n",
      "Please enter your weight (in kg): 92,0\n",
      "Please enter your height (in m): 1,82\n",
      "Your BMI is: 27.8(Overweight)\n"
     ]
    }
   ],
   "metadata": {}
  },
  {
   "cell_type": "code",
   "execution_count": null,
   "source": [],
   "outputs": [],
   "metadata": {}
  }
 ],
 "metadata": {
  "kernelspec": {
   "display_name": "Python 3",
   "language": "python",
   "name": "python3"
  },
  "language_info": {
   "codemirror_mode": {
    "name": "ipython",
    "version": 3
   },
   "file_extension": ".py",
   "mimetype": "text/x-python",
   "name": "python",
   "nbconvert_exporter": "python",
   "pygments_lexer": "ipython3",
   "version": "3.8.5"
  }
 },
 "nbformat": 4,
 "nbformat_minor": 4
}