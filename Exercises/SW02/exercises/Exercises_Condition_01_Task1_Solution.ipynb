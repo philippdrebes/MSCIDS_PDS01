{
 "cells": [
  {
   "cell_type": "code",
   "execution_count": null,
   "metadata": {},
   "outputs": [],
   "source": [
    "# Exercises_Condition_01_Task1_Solution  for if/elif Statement"
   ]
  },
  {
   "cell_type": "code",
   "execution_count": 12,
   "metadata": {},
   "outputs": [
    {
     "name": "stdout",
     "output_type": "stream",
     "text": [
      "Input the day of Week: (1 = Montag, 2 = Dienstag, ..., 7 = Sonntag) -2\n",
      "Wrong input or do you live on another planet?\n"
     ]
    }
   ],
   "source": [
    "def main():\n",
    "    daynumber = int(input(\"Input the day of Week: (1 = Montag, 2 = Dienstag, ..., 7 = Sonntag) \"))\n",
    "\n",
    "    # print(type(daynumber))\n",
    "    # print(\"daynumber:\", daynumber)\n",
    "    \n",
    "    if daynumber == 1:\n",
    "        print(\"You have to work ...!\")  \n",
    "    elif daynumber == 2:    \n",
    "         print(\"You have to work ...!\")\n",
    "    elif daynumber == 3:    \n",
    "         print(\"You have to work ...!\")            \n",
    "    elif daynumber == 4:    \n",
    "         print(\"You have to work ...!\")            \n",
    "    elif daynumber == 5:    \n",
    "         print(\"You have to work ...!\")            \n",
    "    elif daynumber == 6:    \n",
    "         print(\"Enjoy the time now ...!\")            \n",
    "    elif daynumber == 7:    \n",
    "         print(\"Enjoy the time now ...!\")           \n",
    "    else:\n",
    "        print(\"Wrong input or do you live on another planet?\")\n",
    "        \n",
    "if __name__ == \"__main__\":\n",
    "    main()                     # start the \"function\" main () above!\n"
   ]
  },
  {
   "cell_type": "code",
   "execution_count": null,
   "metadata": {},
   "outputs": [],
   "source": []
  },
  {
   "cell_type": "code",
   "execution_count": 8,
   "metadata": {},
   "outputs": [
    {
     "name": "stdout",
     "output_type": "stream",
     "text": [
      "Input the day of Week: (1 = Montag, 2 = Dienstag, ..., 7 = Sonntag) 23\n",
      "Wrong input or do you live on another planet?\n"
     ]
    }
   ],
   "source": [
    "\n",
    "def main():\n",
    "    daynumber = int(input(\"Input the day of Week: (1 = Montag, 2 = Dienstag, ..., 7 = Sonntag) \"))\n",
    "\n",
    "    # print(type(daynumber))\n",
    "    # print(\"daynumber:\", daynumber)\n",
    "\n",
    "    if daynumber in (1,2,3,4,5):\n",
    "        print(\"You have to work ...!\")\n",
    "    elif daynumber in (6,7):\n",
    "        print(\"Enjoy the time now ...!\")\n",
    "    else:\n",
    "        print(\"Wrong input or do you live on another planet?\")\n",
    "        \n",
    "if __name__ == \"__main__\":\n",
    "    main()                     # start the \"function\" main () above!\n",
    "    \n",
    "    \n"
   ]
  },
  {
   "cell_type": "code",
   "execution_count": null,
   "metadata": {},
   "outputs": [],
   "source": []
  },
  {
   "cell_type": "code",
   "execution_count": null,
   "metadata": {},
   "outputs": [],
   "source": []
  }
 ],
 "metadata": {
  "kernelspec": {
   "display_name": "Python 3 (ipykernel)",
   "language": "python",
   "name": "python3"
  },
  "language_info": {
   "codemirror_mode": {
    "name": "ipython",
    "version": 3
   },
   "file_extension": ".py",
   "mimetype": "text/x-python",
   "name": "python",
   "nbconvert_exporter": "python",
   "pygments_lexer": "ipython3",
   "version": "3.10.2"
  }
 },
 "nbformat": 4,
 "nbformat_minor": 4
}
