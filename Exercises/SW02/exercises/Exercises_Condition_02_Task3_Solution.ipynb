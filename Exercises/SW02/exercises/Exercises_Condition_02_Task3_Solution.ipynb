{
 "cells": [
  {
   "cell_type": "code",
   "execution_count": 6,
   "metadata": {},
   "outputs": [
    {
     "name": "stdout",
     "output_type": "stream",
     "text": [
      "Geneva\n"
     ]
    }
   ],
   "source": [
    "# Exercises_Condition_02_Task3a_Solution  (proposal!)\n",
    "\n",
    "def main():\n",
    "\n",
    "    a = 1;\n",
    "    b = 2;\n",
    "    c =2;      # false => if c=2 => true \n",
    "    \n",
    "    if (a>b or a<(b/2) or a+c>b ):\n",
    "        print(\"Geneva\");\n",
    " \n",
    "if __name__ == \"__main__\":\n",
    " main()\n",
    "\n"
   ]
  },
  {
   "cell_type": "code",
   "execution_count": 17,
   "metadata": {},
   "outputs": [
    {
     "name": "stdout",
     "output_type": "stream",
     "text": [
      "Bern\n"
     ]
    }
   ],
   "source": [
    "# Exercises_Condition_02_Task3b_Solution  (proposal!)\n",
    "\n",
    "def main():\n",
    "\n",
    "    a = 3;     #  true on a=3; false on a=1\n",
    "    b = 2;\n",
    "    c = 1;      \n",
    "    x = True;\n",
    "    y = False;\n",
    "\n",
    "    \n",
    "    if (a>b or a-c>0 and x!=y):\n",
    "        print(\"Bern\");\n",
    " \n",
    "if __name__ == \"__main__\":\n",
    " main()\n",
    "\n"
   ]
  },
  {
   "cell_type": "code",
   "execution_count": 23,
   "metadata": {},
   "outputs": [],
   "source": [
    "# Exercises_Condition_02_Task3c_Solution  (proposal!)\n",
    "\n",
    "def main():\n",
    "\n",
    "    a = 6;\n",
    "    b = 2;\n",
    "    c = 0;      \n",
    "\n",
    "    # Testexamples:\n",
    "    # a=6, b=2, c=0 => true\n",
    "    # a=5, b=2, c=1 => true\n",
    "    # a=5, b=5, c=2 => false \n",
    "\n",
    "    \n",
    "\n",
    "    if ((a-2)%4 == 0 or (b-c)%2 == 0 or (a != b) and (b != c)):\n",
    "        print(\"Lugano\");\n",
    " \n",
    "if __name__ == \"__main__\":\n",
    " main()\n",
    " "
   ]
  },
  {
   "cell_type": "code",
   "execution_count": null,
   "metadata": {},
   "outputs": [],
   "source": []
  }
 ],
 "metadata": {
  "kernelspec": {
   "display_name": "Python 3 (ipykernel)",
   "language": "python",
   "name": "python3"
  },
  "language_info": {
   "codemirror_mode": {
    "name": "ipython",
    "version": 3
   },
   "file_extension": ".py",
   "mimetype": "text/x-python",
   "name": "python",
   "nbconvert_exporter": "python",
   "pygments_lexer": "ipython3",
   "version": "3.9.5"
  }
 },
 "nbformat": 4,
 "nbformat_minor": 4
}
