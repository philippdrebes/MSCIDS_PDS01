{
 "cells": [
  {
   "cell_type": "markdown",
   "id": "72df9f38",
   "metadata": {},
   "source": [
    "# Conditional Statements 01\n",
    "## Task 1"
   ]
  },
  {
   "cell_type": "code",
   "execution_count": 13,
   "id": "6232990f",
   "metadata": {},
   "outputs": [
    {
     "name": "stdout",
     "output_type": "stream",
     "text": [
      "Input the number of the current day\n",
      "0=Monday\n",
      "1=Tuesday\n",
      "2=Wednesday\n",
      "3=Thursday\n",
      "4=Friday\n",
      "5=Saturday\n",
      "6=Sunday\n",
      "7\n",
      "Wrong input!\n"
     ]
    }
   ],
   "source": [
    "def run():\n",
    "    weekday = int(input(\"Input the number of the current day\\n0=Monday\\n1=Tuesday\\n2=Wednesday\\n3=Thursday\\n4=Friday\\n5=Saturday\\n6=Sunday\\n\"))\n",
    "    if 0 <= weekday < 5:\n",
    "        print(\"You have to work!\")\n",
    "    elif 7 > weekday > 4:\n",
    "        print(\"Enjoy the time now!\")\n",
    "    else:\n",
    "        print(\"Wrong input!\")\n",
    "    \n",
    "run()"
   ]
  },
  {
   "cell_type": "markdown",
   "id": "bba80ae4",
   "metadata": {},
   "source": [
    "## Task 2"
   ]
  },
  {
   "cell_type": "code",
   "execution_count": 15,
   "id": "bde399c7",
   "metadata": {},
   "outputs": [
    {
     "name": "stdout",
     "output_type": "stream",
     "text": [
      "Please input customer age:45\n",
      "The customer belongs to the 'MiddleAged' category!\n"
     ]
    }
   ],
   "source": [
    "def run():\n",
    "    age=int(input(\"Please input customer age:\"))\n",
    "    category=\"may not be included\"\n",
    "    if 18 <= age < 25:\n",
    "        category=\"Youth\"\n",
    "    if 25 <= age < 35:\n",
    "        category=\"YoungAdult\"\n",
    "    if 35 <= age < 60:\n",
    "        category=\"MiddleAged\"\n",
    "    if age >= 60:\n",
    "        category=\"Senior\"\n",
    "        \n",
    "    print(\"The customer belongs to the '{0}' category!\".format(category))\n",
    "        \n",
    "    \n",
    "run()"
   ]
  },
  {
   "cell_type": "markdown",
   "id": "c29147b9",
   "metadata": {},
   "source": [
    "# Conditional Statements 02\n",
    "## Task 3a"
   ]
  },
  {
   "cell_type": "code",
   "execution_count": 21,
   "id": "31ad6cb5",
   "metadata": {},
   "outputs": [],
   "source": [
    "a = 1\n",
    "b = 2\n",
    "c = 1\n",
    "\n",
    "if a > b or a < b / 2 or a + c > b:\n",
    "    print(\"Bern\")"
   ]
  },
  {
   "cell_type": "markdown",
   "id": "dd94f044",
   "metadata": {},
   "source": [
    "## Task 3b"
   ]
  },
  {
   "cell_type": "code",
   "execution_count": 26,
   "id": "5b726de8",
   "metadata": {},
   "outputs": [
    {
     "name": "stdout",
     "output_type": "stream",
     "text": [
      "Bern\n"
     ]
    }
   ],
   "source": [
    "a = 1\n",
    "b = 2\n",
    "c = 1\n",
    "x = True\n",
    "y = False\n",
    "\n",
    "if (a > b or a - c >= 0) and x != y:\n",
    "    print(\"Bern\")"
   ]
  },
  {
   "cell_type": "markdown",
   "id": "c3b44bbe",
   "metadata": {},
   "source": [
    "## Task 3c"
   ]
  },
  {
   "cell_type": "code",
   "execution_count": 31,
   "id": "71fa8012",
   "metadata": {},
   "outputs": [
    {
     "name": "stdout",
     "output_type": "stream",
     "text": [
      "Lugano\n"
     ]
    }
   ],
   "source": [
    "a = 6\n",
    "b = 2\n",
    "c = 0\n",
    "\n",
    "if (a / 2) % 2 == 1 or (b - c) % 2 == 0 or a != b and b != c:\n",
    "    print(\"Lugano\")"
   ]
  },
  {
   "cell_type": "code",
   "execution_count": null,
   "id": "07cd67c0",
   "metadata": {},
   "outputs": [],
   "source": []
  }
 ],
 "metadata": {
  "kernelspec": {
   "display_name": "Python 3 (ipykernel)",
   "language": "python",
   "name": "python3"
  },
  "language_info": {
   "codemirror_mode": {
    "name": "ipython",
    "version": 3
   },
   "file_extension": ".py",
   "mimetype": "text/x-python",
   "name": "python",
   "nbconvert_exporter": "python",
   "pygments_lexer": "ipython3",
   "version": "3.10.4"
  }
 },
 "nbformat": 4,
 "nbformat_minor": 5
}
