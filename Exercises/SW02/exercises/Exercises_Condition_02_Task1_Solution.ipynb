{
 "cells": [
  {
   "cell_type": "code",
   "execution_count": 12,
   "source": [
    "# Exercises_Condition_02_Task1_Solution  (proposal!)\r\n",
    "\r\n",
    "def main():  \r\n",
    "\r\n",
    "    # test all possibilites:\r\n",
    "\r\n",
    "    #  a:    b:   c:\r\n",
    "    #  5    10   20\r\n",
    "    #  5    20   10\r\n",
    "    # 10     5   20\r\n",
    "    # 10    20    5\r\n",
    "    # 20     5   10\r\n",
    "    # 20    10    5\r\n",
    "    \r\n",
    "    # a = b\r\n",
    "    #  5    5     2\r\n",
    "    #  5    5    10\r\n",
    "    \r\n",
    "    # a = c\r\n",
    "    # 10     5   10\r\n",
    "    # 10    20   10\r\n",
    "    \r\n",
    "    # b = c\r\n",
    "    # 10     5    5\r\n",
    "    #  2     5    5\r\n",
    "\r\n",
    "\r\n",
    "    a = int( input( \"Input 'a': \"))\r\n",
    "    b = int( input( \"Input 'b': \" ) )\r\n",
    "    c = int( input( \"Input 'c': \" ) )\r\n",
    "\r\n",
    "\r\n",
    "    if a < b:\r\n",
    "        if b < c:\r\n",
    "            print(a,b,c)\r\n",
    "        else:  # b > c\r\n",
    "            if a < c:\r\n",
    "                print(a,c,b)\r\n",
    "            else:  # a > c\r\n",
    "                print(c,a,b)\r\n",
    "    else:  # a > b\r\n",
    "        if b > c:\r\n",
    "            print(c,b,a)\r\n",
    "        else:  # b<c\r\n",
    "            if a > c:\r\n",
    "                print(b,c,a)\r\n",
    "            else:   # a < c\r\n",
    "                print(b,a,c)\r\n",
    "\r\n",
    "\r\n",
    "\r\n",
    "\r\n",
    "\r\n",
    "\r\n",
    "if __name__ == \"__main__\":\r\n",
    " main()\r\n",
    "\r\n"
   ],
   "outputs": [
    {
     "output_type": "stream",
     "name": "stdout",
     "text": [
      "Input 'a': 2\n",
      "Input 'b': 5\n",
      "Input 'c': 5\n",
      "2 5 5\n"
     ]
    }
   ],
   "metadata": {}
  },
  {
   "cell_type": "code",
   "execution_count": null,
   "source": [],
   "outputs": [],
   "metadata": {}
  }
 ],
 "metadata": {
  "kernelspec": {
   "display_name": "Python 3",
   "language": "python",
   "name": "python3"
  },
  "language_info": {
   "codemirror_mode": {
    "name": "ipython",
    "version": 3
   },
   "file_extension": ".py",
   "mimetype": "text/x-python",
   "name": "python",
   "nbconvert_exporter": "python",
   "pygments_lexer": "ipython3",
   "version": "3.8.5"
  }
 },
 "nbformat": 4,
 "nbformat_minor": 4
}