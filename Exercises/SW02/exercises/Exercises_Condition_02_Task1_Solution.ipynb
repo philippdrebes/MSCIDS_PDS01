{
 "cells": [
  {
   "cell_type": "code",
   "execution_count": 12,
   "source": [
    "# Exercises_Condition_02_Task1_Solution  (proposal!)\n",
    "\n",
    "def main():  \n",
    "\n",
    "    # test all possibilites:\n",
    "\n",
    "    #  a:    b:   c:\n",
    "    #  5    10   20\n",
    "    #  5    20   10\n",
    "    # 10     5   20\n",
    "    # 10    20    5\n",
    "    # 20     5   10\n",
    "    # 20    10    5\n",
    "    \n",
    "    # a = b\n",
    "    #  5    5     2\n",
    "    #  5    5    10\n",
    "    \n",
    "    # a = c\n",
    "    # 10     5   10\n",
    "    # 10    20   10\n",
    "    \n",
    "    # b = c\n",
    "    # 10     5    5\n",
    "    #  2     5    5\n",
    "\n",
    "\n",
    "    a = int( input( \"Input 'a': \"))\n",
    "    b = int( input( \"Input 'b': \" ) )\n",
    "    c = int( input( \"Input 'c': \" ) )\n",
    "\n",
    "\n",
    "    if a < b:\n",
    "        if b < c:\n",
    "            print(a,b,c)\n",
    "        else:  # b > c\n",
    "            if a < c:\n",
    "                print(a,c,b)\n",
    "            else:  # a > c\n",
    "                print(c,a,b)\n",
    "    else:  # a > b\n",
    "        if b > c:\n",
    "            print(c,b,a)\n",
    "        else:  # b<c\n",
    "            if a > c:\n",
    "                print(b,c,a)\n",
    "            else:   # a < c\n",
    "                print(b,a,c)\n",
    "\n",
    "\n",
    "\n",
    "\n",
    "\n",
    "\n",
    "if __name__ == \"__main__\":\n",
    " main()\n",
    "\n"
   ],
   "outputs": [
    {
     "output_type": "stream",
     "name": "stdout",
     "text": [
      "Input 'a': 2\n",
      "Input 'b': 5\n",
      "Input 'c': 5\n",
      "2 5 5\n"
     ]
    }
   ],
   "metadata": {}
  },
  {
   "cell_type": "code",
   "execution_count": null,
   "outputs": [],
   "source": [],
   "metadata": {
    "collapsed": false
   }
  },
  {
   "cell_type": "code",
   "execution_count": null,
   "source": [],
   "outputs": [],
   "metadata": {}
  },
  {
   "cell_type": "code",
   "execution_count": null,
   "outputs": [],
   "source": [],
   "metadata": {
    "collapsed": false
   }
  },
  {
   "cell_type": "code",
   "execution_count": null,
   "outputs": [],
   "source": [],
   "metadata": {
    "collapsed": false
   }
  }
 ],
 "metadata": {
  "kernelspec": {
   "display_name": "Python 3",
   "language": "python",
   "name": "python3"
  },
  "language_info": {
   "codemirror_mode": {
    "name": "ipython",
    "version": 3
   },
   "file_extension": ".py",
   "mimetype": "text/x-python",
   "name": "python",
   "nbconvert_exporter": "python",
   "pygments_lexer": "ipython3",
   "version": "3.8.5"
  }
 },
 "nbformat": 4,
 "nbformat_minor": 4
}
