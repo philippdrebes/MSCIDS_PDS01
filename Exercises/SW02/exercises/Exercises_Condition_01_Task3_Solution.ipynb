{
 "cells": [
  {
   "cell_type": "code",
   "execution_count": null,
   "source": [
    "# Exercises_Condition_01_Task3_Solution for if/elif Statment"
   ],
   "outputs": [],
   "metadata": {}
  },
  {
   "cell_type": "code",
   "execution_count": 2,
   "source": [
    "def main():\r\n",
    "   \r\n",
    "    temp = input(\"Input the  temperature you like to convert? (e.g., 45F, 102C etc.) : \")\r\n",
    "    degree = int(temp[:-1])\r\n",
    "    i_convention = temp[-1]\r\n",
    "\r\n",
    "    if i_convention.upper() == \"C\":\r\n",
    "      result = int(round((9 * degree) / 5 + 32))  \r\n",
    "      o_convention = \"Fahrenheit\"\r\n",
    "    elif i_convention.upper() == \"F\":\r\n",
    "      result = int(round((degree - 32) * 5 / 9))\r\n",
    "      o_convention = \"Celsius\"\r\n",
    "    else:\r\n",
    "      print(\"Input proper convention.\")\r\n",
    "      quit()\r\n",
    "    print(\"The temperature in\", o_convention, \"is\", result, \"degrees.\")\r\n",
    "\r\n",
    "\r\n",
    "if __name__ == \"__main__\":\r\n",
    "    main()               # start the \"function\" main () above!"
   ],
   "outputs": [
    {
     "output_type": "stream",
     "name": "stdout",
     "text": [
      "Input the  temperature you like to convert? (e.g., 45F, 102C etc.) : 45c\n",
      "The temperature in Fahrenheit is 113 degrees.\n"
     ]
    }
   ],
   "metadata": {}
  }
 ],
 "metadata": {
  "kernelspec": {
   "display_name": "Python 3",
   "language": "python",
   "name": "python3"
  },
  "language_info": {
   "codemirror_mode": {
    "name": "ipython",
    "version": 3
   },
   "file_extension": ".py",
   "mimetype": "text/x-python",
   "name": "python",
   "nbconvert_exporter": "python",
   "pygments_lexer": "ipython3",
   "version": "3.8.5"
  }
 },
 "nbformat": 4,
 "nbformat_minor": 4
}