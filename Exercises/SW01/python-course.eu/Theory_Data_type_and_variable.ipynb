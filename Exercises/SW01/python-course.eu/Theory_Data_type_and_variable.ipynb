{
 "cells": [
  {
   "cell_type": "markdown",
   "metadata": {},
   "source": [
    "# DATA TYPES AND VARIABLES\n",
    "\n",
    "Some ideas/pictures from https://www.python-course.eu/python3_variables.php\n",
    "\n",
    "<hr>\n"
   ]
  },
  {
   "cell_type": "markdown",
   "metadata": {},
   "source": [
    "## INTRODUCTION\n"
   ]
  },
  {
   "cell_type": "markdown",
   "metadata": {},
   "source": [
    "You have programmed low-level languages like C, C++\n",
    "or other similar programming languages? Therefore,\n",
    "you might think you know already enough about data\n",
    "types and variables? You know a lot that's right, but not\n",
    "enough for Python."
   ]
  },
  {
   "cell_type": "markdown",
   "metadata": {},
   "source": [
    "## VARIABLES"
   ]
  },
  {
   "cell_type": "markdown",
   "metadata": {},
   "source": [
    "#### GENERAL CONCEPT OF VARIABLES"
   ]
  },
  {
   "cell_type": "markdown",
   "metadata": {},
   "source": [
    "All **C, C++ and Java programmers**, should read the text [**GENERAL CONCEPT OF VARIABLES**](https://www.python-course.eu/python3_variables.php): <br>\n",
    "because the way these programming languages treat basic data types is **different** from the way Python does it. <br>\n",
    "Those who start learning Python as their first programming language may skip this chapter.\n"
   ]
  },
  {
   "cell_type": "markdown",
   "metadata": {},
   "source": [
    "#### VARIABLES IN PYTHON"
   ]
  },
  {
   "cell_type": "markdown",
   "metadata": {},
   "source": [
    "Think of a variable as a **name** attached to a particular object. <br>\n",
    "In Python, variables need not be declared or defined in advance, as is the case in many other programming languages. <br> \n",
    "To create a variable, you just assign it a value and then start using it. <br>\n",
    "Assignment is done with a single equals sign (=). <br>\n",
    "Let's create a variable with the **name** 'i' and assign the value 42:"
   ]
  },
  {
   "cell_type": "code",
   "execution_count": null,
   "metadata": {},
   "outputs": [],
   "source": [
    "i = 42     \n",
    "print(i)            # print out the actual value of the variable 'i'"
   ]
  },
  {
   "cell_type": "markdown",
   "metadata": {},
   "source": [
    "The equal \"=\" sign in the assignment shouldn\\'t be seen as \"is equal to\". It should be \"read\" or interpreted as **\"is\n",
    "set to\"**, <br>meaning in our example \"the variable i is set to 42\". \n",
    "Let's now increase the value of this variable by 1:\n"
   ]
  },
  {
   "cell_type": "code",
   "execution_count": null,
   "metadata": {},
   "outputs": [],
   "source": [
    "i = i + 1 \n",
    "print(i)"
   ]
  },
  {
   "cell_type": "markdown",
   "metadata": {},
   "source": [
    "**Note:** The **type of a variable can change** during the execution of a script. <br> Or to be precise: A\n",
    "new object, which can be of any type, will be assigned to it. <br>We illustrate this in our following cell with three examples:"
   ]
  },
  {
   "cell_type": "code",
   "execution_count": null,
   "metadata": {},
   "outputs": [],
   "source": [
    "i = 42              # data type is implicitly set to integer\n",
    "i = 42 + 0.11       # data type is changed to float\n",
    "i = \"forty\"         # and now it will be a string"
   ]
  },
  {
   "cell_type": "markdown",
   "metadata": {},
   "source": [
    "How we can find out the **data type** during a programm?<br>\n",
    "Use the build-in function [**type()**](https://docs.python.org/3/library/functions.html#type):"
   ]
  },
  {
   "cell_type": "code",
   "execution_count": null,
   "metadata": {},
   "outputs": [],
   "source": [
    "i = 42              # data type is implicitly set to integer\n",
    "print(\"i has now the data type: \", type(i))\n",
    "i = 42 + 0.11       # data type is changed to float\n",
    "print(\"i has now the data type: \", type(i))\n",
    "i = \"forty\"         # and now it will be a string\n",
    "print(\"i has now the data type: \", type(i))"
   ]
  },
  {
   "cell_type": "markdown",
   "metadata": {},
   "source": [
    "#### OBJECT REFERENCES"
   ]
  },
  {
   "cell_type": "markdown",
   "metadata": {},
   "source": [
    "Python variables reference always to objects, but the actual data is contained in the objects:"
   ]
  },
  {
   "cell_type": "markdown",
   "metadata": {},
   "source": [
    "<div>\n",
    "<img src=\"https://python-course.eu/images/python_variable_1.png\" width=\"300\"/>\n",
    "</div>"
   ]
  },
  {
   "cell_type": "markdown",
   "metadata": {},
   "source": [
    "**Note**: Variables (=names) point always to objects and objects can be of arbitrary data type.\\\n",
    "In Python variables NEVER can have types associated with them. \n",
    "\n",
    "This is a huge difference to C, C++ or Java, where a variable is always associated with a fixed data type.\\\n",
    "In e.g. Java the association between a variable an a the data type can NEVER be changed as long as the program is running.\n"
   ]
  },
  {
   "cell_type": "markdown",
   "metadata": {},
   "source": [
    "In Python we can change the assiciated data type to a variable:"
   ]
  },
  {
   "cell_type": "code",
   "execution_count": null,
   "metadata": {},
   "outputs": [],
   "source": [
    "x = 42\n",
    "print(x)\n",
    "\n",
    "x = \"Now x references a string\"\n",
    "print(x)\n"
   ]
  },
  {
   "cell_type": "markdown",
   "metadata": {},
   "source": [
    "Let's try an other example:"
   ]
  },
  {
   "cell_type": "code",
   "execution_count": null,
   "metadata": {},
   "outputs": [],
   "source": [
    "x = 42\n",
    "y = x"
   ]
  },
  {
   "cell_type": "markdown",
   "metadata": {},
   "source": [
    "We created an integer object 42 and assigned it to the variable x. <br>\n",
    "Then we assigned x to the variable y. <br>\n",
    "This means that both variables reference the same object. The following picture illustrates this:"
   ]
  },
  {
   "cell_type": "markdown",
   "metadata": {},
   "source": [
    "<div>\n",
    "<img src=\"https://python-course.eu/images/python_variable_2.png\" width=\"500\"/>\n",
    "</div>"
   ]
  },
  {
   "cell_type": "markdown",
   "metadata": {},
   "source": [
    "What will happen when we execute"
   ]
  },
  {
   "cell_type": "code",
   "execution_count": null,
   "metadata": {},
   "outputs": [],
   "source": [
    "y = 78"
   ]
  },
  {
   "cell_type": "markdown",
   "metadata": {},
   "source": [
    "after the previous code?\n",
    "<br>"
   ]
  },
  {
   "cell_type": "markdown",
   "metadata": {},
   "source": [
    "Python will create a new integer object with the content 78 and then the variable y will reference this newly\n",
    "created object, as we can see in the following picture:"
   ]
  },
  {
   "cell_type": "markdown",
   "metadata": {},
   "source": [
    "<div>\n",
    "<img src=\"https://python-course.eu/images/python_variable_3.png\" width=\"500\"/>\n",
    "</div>"
   ]
  },
  {
   "cell_type": "markdown",
   "metadata": {},
   "source": [
    "Most probably, we will see further changes to the variables in the flow of our program. There might be, for\n",
    "example, a string assignment (\"Text\") to the variable x. The previously integer object \"42\" will be orphaned after this\n",
    "assignment. It will be removed by Python, because no other variable is referencing it. We call this situation automatic \"Garbage Collection\"."
   ]
  },
  {
   "cell_type": "markdown",
   "metadata": {},
   "source": [
    "<div>\n",
    "<img src=\"https://python-course.eu/images/python_variable_4.png\" width=\"500\"/>\n",
    "</div>"
   ]
  },
  {
   "cell_type": "markdown",
   "metadata": {},
   "source": [
    "#### ID FUNCTION"
   ]
  },
  {
   "cell_type": "markdown",
   "metadata": {},
   "source": [
    "In a short time you will face the problem that you do not know whether two variables with different names (e.g. x and y) \\\n",
    "point to the same object. The build-in function **id()** (=identiy) is used to show this fact. \\\n",
    "\\\n",
    "**Note:** If the `id()`  return values for two variables are the same, then these two variables point to the **SAME object**!\\\n",
    "\\\n",
    "Let's have a look at our previous example and how the identities will change: \n",
    "\n"
   ]
  },
  {
   "cell_type": "code",
   "execution_count": null,
   "metadata": {},
   "outputs": [],
   "source": [
    "x = 42                      # define a new variable (name) x\n",
    "print(id(x))                # output the id of 'x' \n",
    "\n",
    "y = x                       # assign the object ID from x to y. Y points to the same object as x\n",
    "print(id(x), id(y))         # Proof that the object ID of x and y are the same"
   ]
  },
  {
   "cell_type": "markdown",
   "metadata": {},
   "source": [
    "Now we assign a new object to the variable y (the integer value 78):"
   ]
  },
  {
   "cell_type": "code",
   "execution_count": null,
   "metadata": {},
   "outputs": [],
   "source": [
    "y = 78\n",
    "print(id(x), id(y))"
   ]
  },
  {
   "cell_type": "markdown",
   "metadata": {},
   "source": [
    "Logical? The object IDs are no longer the same ...<br>\n",
    "<br>"
   ]
  },
  {
   "cell_type": "markdown",
   "metadata": {},
   "source": [
    "Have a look to: https://medium.com/@daniel.tooke/variables-and-memory-addresses-in-python-6d96d672ed3d"
   ]
  },
  {
   "cell_type": "markdown",
   "metadata": {},
   "source": [
    "## VALID VARIABLE NAMES"
   ]
  },
  {
   "cell_type": "markdown",
   "metadata": {},
   "source": [
    "A Python variable name follows the concept of an [**identifier**](https://docs.python.org/3/reference/expressions.html#index-3). \n",
    "An identifier in python is a name used to identify a variable, function, class, module or other object.\\\n",
    " An identifier (e.g. variable name) is build with \\\n",
    "- the uppercase letters \"A\" through \"Z\",\n",
    "- the lowercase letters \"a\" through \"z\" , \n",
    "- the underscore _ and, \n",
    "- the digits 0 through 9 (except for the first character).  \n",
    "\n",
    "Exceptions from the rules above are the special Python **keywords**.\\\n",
    "Python 3.x is based on Unicode.\\\n",
    "This means that variable names and identifier names can additionally contain Unicode characters as well. \\\n",
    "Identifiers are unlimited in length. \n",
    "Identifier names are case-sensitive! \n",
    "                                                                 \n",
    "If a name is bound in a [**block**](https://docs.python.org/3/reference/executionmodel.html#index-1) , it is a **local variable** of that block, unless declared as **nonlocal** or **global**.     \\\n",
    "\\\n",
    "The following variable definitions are all valid:"
   ]
  },
  {
   "cell_type": "code",
   "execution_count": null,
   "metadata": {},
   "outputs": [],
   "source": [
    "height = 10\n",
    "Height = 20                     # height <> Heigt => case sensitiv!\n",
    "maximum_height = 100\n",
    "\n",
    "幸福 = \"happiness\"              # all unicode - characters are allowed! "
   ]
  },
  {
   "cell_type": "markdown",
   "metadata": {},
   "source": [
    "For more info's about correct use of names ('naming conventions') have a look at: \n",
    "\n",
    "- [naming-conventions](https://pds01-hs20.it-grossniklaus.ch/doc/pds01/resources/pep/#naming-conventions)\n"
   ]
  },
  {
   "cell_type": "markdown",
   "metadata": {},
   "source": [
    "Here you will find a list of all key words. These are not allowed as 'names' in Python. <br>\n",
    "- [key-words](https://docs.python.org/3/reference/lexical_analysis.html#index-13)"
   ]
  },
  {
   "cell_type": "markdown",
   "metadata": {},
   "source": [
    "## NUMBERS"
   ]
  },
  {
   "cell_type": "markdown",
   "metadata": {},
   "source": [
    "There are four built-in data types in Python <br>\n",
    "- Integer\n",
    "- Long Integer\n",
    "- Floating-point numbers\n",
    "- Complex numbers\n",
    "\n",
    "Take a quick look at the following website:\n",
    "\n",
    "[python-course.eu//python3_variables.php#Numbers](https://www.python-course.eu/python3_variables.php#Numbers)"
   ]
  },
  {
   "cell_type": "markdown",
   "metadata": {},
   "source": [
    "## INTEGER DIVISION "
   ]
  },
  {
   "cell_type": "markdown",
   "metadata": {},
   "source": [
    "There are two different types of division in Python\\\n",
    "\\\n",
    "a)  '/' is the 'normal' division => result has decimal places  \\\n",
    "b)  '//'is the 'whole number' division => result is always only the whole number\\\n",
    "\\\n",
    "Let's do a couple of examples and the thing is immediately clear:"
   ]
  },
  {
   "cell_type": "code",
   "execution_count": null,
   "metadata": {},
   "outputs": [],
   "source": [
    "# 'normal' diviison\n",
    "\n",
    "10/3               # output: 3.3333333333333335"
   ]
  },
  {
   "cell_type": "code",
   "execution_count": null,
   "metadata": {},
   "outputs": [],
   "source": [
    "# the 'whole number' division only returns the whole number of the division\n",
    "\n",
    "10//3              # output: 3"
   ]
  },
  {
   "cell_type": "code",
   "execution_count": null,
   "metadata": {},
   "outputs": [],
   "source": [
    "# or ...\n",
    "\n",
    "21//4               # output: 5"
   ]
  }
 ],
 "metadata": {
  "kernelspec": {
   "display_name": "Python 3 (ipykernel)",
   "language": "python",
   "name": "python3"
  },
  "language_info": {
   "codemirror_mode": {
    "name": "ipython",
    "version": 3
   },
   "file_extension": ".py",
   "mimetype": "text/x-python",
   "name": "python",
   "nbconvert_exporter": "python",
   "pygments_lexer": "ipython3",
   "version": "3.9.5"
  }
 },
 "nbformat": 4,
 "nbformat_minor": 2
}
