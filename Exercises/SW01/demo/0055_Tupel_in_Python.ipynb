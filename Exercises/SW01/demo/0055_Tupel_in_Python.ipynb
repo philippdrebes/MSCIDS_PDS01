{
 "cells": [
  {
   "cell_type": "markdown",
   "metadata": {
    "collapsed": true
   },
   "source": [
    "Source: https://www.udemy.com/course/the-complete-python-masterclass/learn/lecture/10926578#overview\n",
    "revised and rearranged: `mae`\n",
    "\n",
    "\n",
    "# Tupel\n"
   ]
  },
  {
   "cell_type": "markdown",
   "metadata": {},
   "source": [
    "### Repetition: Elements in a List  \n",
    "As an introduction, let's take a quick look at what we've learned so far."
   ]
  },
  {
   "cell_type": "code",
   "execution_count": null,
   "metadata": {},
   "outputs": [],
   "source": [
    "# Strings in a List\n",
    "students = [\"Max\", \"Monika\", \"Erik\", \"Franziska\"]  "
   ]
  },
  {
   "cell_type": "code",
   "execution_count": null,
   "metadata": {},
   "outputs": [],
   "source": [
    "# Numbers in a List \n",
    "marks = [4, 3, 2, 1]"
   ]
  },
  {
   "cell_type": "code",
   "execution_count": null,
   "metadata": {},
   "outputs": [],
   "source": [
    "# or List with different Datatyps e.g. List in List\n",
    "chaos = [\"Mike\", \"Susie\", 4, 3.1415926, [\"FC Luzern\", \"FC Basel\", \"FC Sarnen\"]]"
   ]
  },
  {
   "cell_type": "markdown",
   "metadata": {},
   "source": [
    "... and we can output **List** like numbers and strings using the print () command:"
   ]
  },
  {
   "cell_type": "code",
   "execution_count": null,
   "metadata": {},
   "outputs": [],
   "source": [
    "print(students) \n",
    "print(marks)\n",
    "print(chaos)"
   ]
  },
  {
   "cell_type": "markdown",
   "metadata": {},
   "source": [
    "As we have already discussed: <br> \n",
    "Strings and numbers and e.g. nested lists appear next to each other. <br>\n",
    "This is usually not recommended. We will get to know more suitable structures for this later. :-)"
   ]
  },
  {
   "cell_type": "markdown",
   "metadata": {},
   "source": [
    "### New: the same thing now with brackets ... we create a 'Tuple'"
   ]
  },
  {
   "cell_type": "code",
   "execution_count": null,
   "metadata": {},
   "outputs": [],
   "source": [
    "# Strings in a Tupel\n",
    "students_tup = ######################"
   ]
  },
  {
   "cell_type": "code",
   "execution_count": null,
   "metadata": {},
   "outputs": [],
   "source": [
    "# Numbers in a Tupel \n",
    "marks_tup = ######################"
   ]
  },
  {
   "cell_type": "code",
   "execution_count": null,
   "metadata": {},
   "outputs": [],
   "source": [
    "# or Tupel with different Datatyps e.g. List in Tuple\n",
    "chaos_tup = ######################"
   ]
  },
  {
   "cell_type": "markdown",
   "metadata": {},
   "source": [
    "... and we can also output **Tuple** like numbers and strings using the print () command:"
   ]
  },
  {
   "cell_type": "code",
   "execution_count": null,
   "metadata": {},
   "outputs": [],
   "source": [
    "print(students_tup) \n",
    "print(marks_tup)\n",
    "print(chaos_tup)"
   ]
  },
  {
   "cell_type": "markdown",
   "metadata": {},
   "source": [
    "### What is the difference between 'List' and 'Tuple'?"
   ]
  },
  {
   "cell_type": "markdown",
   "metadata": {},
   "source": [
    "The main difference between lists and tuples is as follows:\n",
    "\n",
    "**Tuples can no longer be changed!**\n",
    "\n",
    "Formally, one can say:\\\n",
    "Tuples consist of a sequence of comma-separated references (='pointer'!)  to Python Objects.\\\n",
    "References cannot be removed, changed, or added from this sequence.\\\n",
    "**But:** The content of e.g. List reference can be changed. "
   ]
  },
  {
   "cell_type": "markdown",
   "metadata": {},
   "source": [
    "### Select an item from a tuple (no problem!)\n",
    "You can also access the items from a tupel individually. Imagine that all the items in a tupel are numbered, starting from 0. With **Index** you can select an element by its position in the list: \n",
    "\n",
    "**Tupelname[Position]**\n",
    "\n",
    "Specifically, it looks like this:"
   ]
  },
  {
   "cell_type": "code",
   "execution_count": null,
   "metadata": {},
   "outputs": [],
   "source": [
    "######################"
   ]
  },
  {
   "cell_type": "code",
   "execution_count": null,
   "metadata": {},
   "outputs": [],
   "source": [
    "######################"
   ]
  },
  {
   "cell_type": "code",
   "execution_count": null,
   "metadata": {},
   "outputs": [],
   "source": [
    "######################"
   ]
  },
  {
   "cell_type": "code",
   "execution_count": null,
   "metadata": {},
   "outputs": [],
   "source": [
    "######################"
   ]
  },
  {
   "cell_type": "markdown",
   "metadata": {},
   "source": [
    "You can then process the selected elements from a tupel as you already know from variables. You should pay attention to whether the elements are numbers or strings."
   ]
  },
  {
   "cell_type": "code",
   "execution_count": null,
   "metadata": {},
   "outputs": [],
   "source": [
    "print(students_tup[0] + ######################"
   ]
  },
  {
   "cell_type": "code",
   "execution_count": null,
   "metadata": {},
   "outputs": [],
   "source": [
    "# calculate the grade point average of a Tupel\n",
    "print((marks_tup[0] + marks_tup[1] ######################"
   ]
  },
  {
   "cell_type": "markdown",
   "metadata": {},
   "source": [
    "### Change an item (a reference)  => not possible"
   ]
  },
  {
   "cell_type": "markdown",
   "metadata": {},
   "source": [
    "You can not only read out any element in a list with e.g. marks[0] <br>\n",
    "but also change with the same \"spelling\": <br>\n",
    "\n",
    "<br>\n",
    "\n",
    "We try:  **marks_tup[0] = 5** <br>\n",
    "<br>\n",
    "Square bracket '[...]' because **index access**!"
   ]
  },
  {
   "cell_type": "code",
   "execution_count": null,
   "metadata": {},
   "outputs": [],
   "source": [
    "# we change the first element to '5'\n",
    "\n",
    "######################\n",
    "\n",
    "print(marks_tup)"
   ]
  },
  {
   "cell_type": "markdown",
   "metadata": {},
   "source": [
    "This is the proof that you CANNOT change the elements (= references) in a tuple."
   ]
  },
  {
   "cell_type": "markdown",
   "metadata": {},
   "source": [
    "### Unpack tuple"
   ]
  },
  {
   "cell_type": "markdown",
   "metadata": {},
   "source": [
    "Tuples can simply be 'unpacked'. <br>\n",
    "<br>\n",
    "\n",
    "**Procedure:** <br>\n",
    "On the left side of the assignment, write down as many variable names as there are elements (= references) <br>\n",
    "in the tuple. The elements of the tuple are automatically transferred to the variable names ('mapped').\n",
    "    \n",
    "    \n",
    "    "
   ]
  },
  {
   "cell_type": "code",
   "execution_count": null,
   "metadata": {},
   "outputs": [],
   "source": [
    "# Example:\n",
    "\n",
    "stud1, stud2, stud3, stud4 ######################"
   ]
  },
  {
   "cell_type": "code",
   "execution_count": null,
   "metadata": {},
   "outputs": [],
   "source": [
    "# now we have the elements of the Tupel in the four variables\n",
    "\n",
    "print(stud1, stud2, stud3, stud4)"
   ]
  },
  {
   "cell_type": "code",
   "execution_count": null,
   "metadata": {},
   "outputs": [],
   "source": [
    "# by the way: How can we put a comma between the names of the students, if that should be required?\n",
    "# There is a complicated and an elegant solution!\n",
    "\n",
    "# complicated solution:\n",
    "\n",
    "######################\n",
    "\n",
    "# elegant solution:  => use an optional parameter of print-function! \n",
    "\n",
    "######################\n"
   ]
  },
  {
   "cell_type": "markdown",
   "metadata": {},
   "source": [
    "\n",
    "\n",
    "### Append another element to a Tupel  => that dosn't work!\n"
   ]
  },
  {
   "cell_type": "code",
   "execution_count": null,
   "metadata": {},
   "outputs": [],
   "source": [
    "# proof: \n",
    "\n",
    "students_tup.append(\"Moritz\")"
   ]
  },
  {
   "cell_type": "markdown",
   "metadata": {},
   "source": [
    "### Get the length of a Tupel\n",
    "You can find out how many elements a Tupel contains with the len command: **len(tupel name)**"
   ]
  },
  {
   "cell_type": "code",
   "execution_count": null,
   "metadata": {},
   "outputs": [],
   "source": [
    "print(len(students_tup))"
   ]
  },
  {
   "cell_type": "markdown",
   "metadata": {},
   "source": [
    "### Now play around a little with what you've learned:\n",
    "- Make some tupel! :-)\n",
    "- ... and for clever minds: <br> Can a tuple (as a whole) really never be changed? In the tuple 'chaos_tup' try to replace 'FC Sarnen' with 'FC Sion'. <br> WAU .... that's possible! Why?"
   ]
  },
  {
   "cell_type": "code",
   "execution_count": null,
   "metadata": {},
   "outputs": [],
   "source": [
    "print(chaos_tup)"
   ]
  },
  {
   "cell_type": "code",
   "execution_count": null,
   "metadata": {},
   "outputs": [],
   "source": [
    "print(chaos_tup[4])"
   ]
  },
  {
   "cell_type": "code",
   "execution_count": null,
   "metadata": {},
   "outputs": [],
   "source": [
    "######################"
   ]
  }
 ],
 "metadata": {
  "kernelspec": {
   "display_name": "Python 3 (ipykernel)",
   "language": "python",
   "name": "python3"
  },
  "language_info": {
   "codemirror_mode": {
    "name": "ipython",
    "version": 3
   },
   "file_extension": ".py",
   "mimetype": "text/x-python",
   "name": "python",
   "nbconvert_exporter": "python",
   "pygments_lexer": "ipython3",
   "version": "3.9.5"
  }
 },
 "nbformat": 4,
 "nbformat_minor": 2
}
