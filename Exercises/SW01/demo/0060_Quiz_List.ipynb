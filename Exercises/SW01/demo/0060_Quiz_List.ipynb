{
 "cells": [
  {
   "cell_type": "markdown",
   "metadata": {},
   "source": [
    "Source: https://www.udemy.com/course/the-complete-python-masterclass/learn/lecture/10926588#overview\n",
    "revised and rearranged: `mae`\n",
    "\n",
    "\n",
    "## Quiz: List"
   ]
  },
  {
   "cell_type": "markdown",
   "metadata": {},
   "source": [
    "#### Task 1  \n",
    "\n",
    "How is a list defined in Python?\n",
    "\n",
    "- A) `{\"Ivanka\", \"Donald\"}`\n",
    "- B) `[\"Ivanka\", \"Donald\"]`\n",
    "- C) `[\"Ivanka\"; \"Donald\"]`\n",
    "- D) `(\"Ivanka\", \"Donald\")`"
   ]
  },
  {
   "cell_type": "markdown",
   "metadata": {
    "collapsed": true
   },
   "source": [
    "Correct answer: "
   ]
  },
  {
   "cell_type": "markdown",
   "metadata": {},
   "source": [
    "#### Task 2\n",
    "\n",
    "How do you access the 3rd element?\n",
    "\n",
    "```python\n",
    "firstnames = [\"Ivanka\", \"Donald\", \"Ivana\", \"Barron\"]\n",
    "```\n",
    "\n",
    "- A) `firstnames[0]`\n",
    "- B) `firstnames[1]`\n",
    "- C) `firstnames[2]`\n",
    "- D) `firstnames[3]`"
   ]
  },
  {
   "cell_type": "markdown",
   "metadata": {},
   "source": [
    "Correct answer: "
   ]
  },
  {
   "cell_type": "markdown",
   "metadata": {},
   "source": [
    "#### Task 3\n",
    "\n",
    "How do you add a third element to the `wars` list?\n",
    "\n",
    "```python\n",
    "wars = [1, 2]\n",
    "```\n",
    "\n",
    "- A) `wars.add(3)`\n",
    "- B) `wars[3] = 3`\n",
    "- C) `wars.hinzufügen(3)`\n",
    "- D) `wars.append(3)?`"
   ]
  },
  {
   "cell_type": "markdown",
   "metadata": {},
   "source": [
    "Correct answer: "
   ]
  }
 ],
 "metadata": {
  "kernelspec": {
   "display_name": "Python 3 (ipykernel)",
   "language": "python",
   "name": "python3"
  },
  "language_info": {
   "codemirror_mode": {
    "name": "ipython",
    "version": 3
   },
   "file_extension": ".py",
   "mimetype": "text/x-python",
   "name": "python",
   "nbconvert_exporter": "python",
   "pygments_lexer": "ipython3",
   "version": "3.9.5"
  }
 },
 "nbformat": 4,
 "nbformat_minor": 2
}
