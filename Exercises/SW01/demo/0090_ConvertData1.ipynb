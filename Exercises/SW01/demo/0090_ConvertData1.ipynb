{
 "cells": [
  {
   "cell_type": "markdown",
   "metadata": {},
   "source": [
    "Source: https://www.udemy.com/course/the-complete-python-masterclass/learn/lecture/10926610#overview\n",
    "revised and rearranged: `mae`\n",
    "\n",
    "\n",
    "# Converting data (part 1):  Strings and Numbers\n"
   ]
  },
  {
   "cell_type": "markdown",
   "metadata": {},
   "source": [
    "### Convert a string to an integer\n",
    "\n",
    "To do this, we apply the `int( )` command to a string (stored directly or in a variable): <br>\n",
    "<br>\n",
    "**`int(string)`**\n",
    "\n",
    "\n",
    "`int( )` is a function and stands for **integer**, the English term for whole number."
   ]
  },
  {
   "cell_type": "code",
   "execution_count": null,
   "metadata": {},
   "outputs": [],
   "source": [
    "a = \"5\"\n",
    "b = \"6\"\n",
    "  \n",
    "#!\n",
    "#!\n",
    "#!"
   ]
  },
  {
   "cell_type": "markdown",
   "metadata": {},
   "source": [
    "### Convert a string to a point number\n",
    "To do this, we apply the `float( )` command to a string (stored directly or in a variable): <br>\n",
    "\n",
    "**`float(string)`** \n",
    "\n",
    "The name **float** comes from the fact that point numbers are also called floating point numbers."
   ]
  },
  {
   "cell_type": "code",
   "execution_count": null,
   "metadata": {},
   "outputs": [],
   "source": [
    "a = \"5.5\"\n",
    "b = \"6.6\"\n",
    "\n",
    "#!\n",
    "#!\n",
    "#!"
   ]
  },
  {
   "cell_type": "markdown",
   "metadata": {},
   "source": [
    "### Convert a number (int or float) into a string\n",
    "To do this, we apply the `str ( )` command to an integer or a decimal point (stored directly or in a variable): <br>\n",
    "\n",
    "**`str (number)`**"
   ]
  },
  {
   "cell_type": "code",
   "execution_count": null,
   "metadata": {},
   "outputs": [],
   "source": [
    "age = 21\n",
    "#!  "
   ]
  },
  {
   "cell_type": "markdown",
   "metadata": {},
   "source": [
    "### Play around a little with what you've learned :-)\n",
    "\n",
    "- Convert numbers to strings and output them as part of a concatenated string!\n",
    "- Convert strings into numbers that you can then calculate with!\n"
   ]
  },
  {
   "cell_type": "code",
   "execution_count": null,
   "metadata": {},
   "outputs": [],
   "source": []
  }
 ],
 "metadata": {
  "kernelspec": {
   "display_name": "Python 3 (ipykernel)",
   "language": "python",
   "name": "python3"
  },
  "language_info": {
   "codemirror_mode": {
    "name": "ipython",
    "version": 3
   },
   "file_extension": ".py",
   "mimetype": "text/x-python",
   "name": "python",
   "nbconvert_exporter": "python",
   "pygments_lexer": "ipython3",
   "version": "3.9.5"
  }
 },
 "nbformat": 4,
 "nbformat_minor": 2
}
