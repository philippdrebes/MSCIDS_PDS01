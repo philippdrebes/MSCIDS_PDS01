{
 "cells": [
  {
   "cell_type": "markdown",
   "metadata": {},
   "source": [
    "Source: https://www.udemy.com/course/the-complete-python-masterclass/learn/lecture/10926620#overview \\\n",
    "revised and rearranged: `mae`\n",
    "\n",
    "\n",
    "# Completion of Python Basics\n",
    "\n",
    "Take your time to complete the tasks carefully. Good luck! :)\n",
    "\n",
    "When you have finished this exercise sheet, you can use the sample solution in text form (File: `End_of_Python_Basics_Solution`). \n",
    "\n",
    "\n",
    "**Important:** Everywhere you find this string **#######################** something has to be programmed (one or more lines of code).\n",
    "\n"
   ]
  },
  {
   "cell_type": "markdown",
   "metadata": {},
   "source": [
    "### 1.) An automated trick\n",
    "\n",
    "#### a.) \n",
    "A mathemagician asks you to automate one of her tricks with a small program. The trick starts as follows: \n",
    "\n",
    "1. think of a number (variable `number`).\n",
    "2. Multiply it by two.\n",
    "3. Add 10 to the result.\n",
    "4. divide the result by 2.\n",
    "\n",
    "Perform this calculation for the variable _number_ and print the result. "
   ]
  },
  {
   "cell_type": "code",
   "execution_count": null,
   "metadata": {},
   "outputs": [],
   "source": [
    "number = 6\n",
    "\n",
    "# Write the calculation in the following line\n",
    "result = 0   #########################\n",
    "\n",
    "print(result)   "
   ]
  },
  {
   "cell_type": "markdown",
   "metadata": {},
   "source": [
    "**Suggestion:** These exercises are about the Python code.  \n",
    "\n",
    "So your task is to adjust the Python code above so that the calculation from the task is calculated correctly, and you can check whether the correct output then comes out with the \"correct output\" under this text. This is not about the result, but about the way / Python code ;) \n",
    "\n",
    "The notebook \"Python Fundamentals (sample solution)\" also contains the finished Python code - but I would recommend you to try developing the Python code yourself first.\n",
    "\n",
    "Correct output (no color needed):\n",
    "\n",
    "```python\n",
    "11.0\n",
    "```\n"
   ]
  },
  {
   "cell_type": "markdown",
   "metadata": {},
   "source": [
    "####  b.) \n",
    "The mathematician is not happy: The result is still displayed as a decimal number.\n",
    "\n",
    "Convert the result to an integer before you print it."
   ]
  },
  {
   "cell_type": "code",
   "execution_count": null,
   "metadata": {},
   "outputs": [],
   "source": [
    "#Output the result of the calculation here as an integer.\n",
    "\n",
    "\n",
    "#########################\n"
   ]
  },
  {
   "cell_type": "markdown",
   "metadata": {},
   "source": [
    "Correct output (no color needed):\n",
    "\n",
    "```python\n",
    "11\n",
    "```"
   ]
  },
  {
   "cell_type": "markdown",
   "metadata": {},
   "source": [
    "####  c.)\n",
    "The mathematician points out that magic tricks also depend on the presentation. Now give an answer sentence of the form \n",
    "\n",
    "**\"You chose 6, the magical result is 11!\"**\n",
    "\n",
    "where the variable `number` is to be used for the number 6 and the result (variable `result`) for the number 11.\n",
    "\n",
    "Note: In Python a `print` - command may go over several lines as follows. This could be handy, especially if you want to put many strings in a row:\n",
    "\n",
    "```python\n",
    "\n",
    "print(\"Hello\" + \n",
    "      \"World\")\n",
    "```"
   ]
  },
  {
   "cell_type": "code",
   "execution_count": null,
   "metadata": {
    "scrolled": true
   },
   "outputs": [],
   "source": [
    "# Print the magic trick as a sentence\n",
    "\n",
    "\n",
    "#########################"
   ]
  },
  {
   "cell_type": "markdown",
   "metadata": {},
   "source": [
    "Correct output:\n",
    "\n",
    "```\n",
    "You have chosen 6, the magical result is 11!\n",
    "```"
   ]
  },
  {
   "cell_type": "markdown",
   "metadata": {},
   "source": [
    "### Task 2: Sawed e-mail addresses\n",
    "\n",
    "The mathemagician is very happy with your work and asks you for help with her online shop. She only knows the mail addresses of her customers and you should create a simplified directory with their names based on the mail addresses. "
   ]
  },
  {
   "cell_type": "markdown",
   "metadata": {},
   "source": [
    "#### a. ) Draw a name from a email address in the form name@service.com\n",
    "\n",
    "If the email address is _Max-Mustermann@gmail.com_, you should output _Max-Mustermann_; if the mail address is _KlaraKlarnamen@uni-berlin.de_, you should output _KlaraKlarnamen_.\n",
    "\n",
    "**Note:** Be sure to check the `.split()` method again. This allows you to saw / split an e-mail address at the `@` symbol, for example."
   ]
  },
  {
   "cell_type": "code",
   "execution_count": null,
   "metadata": {},
   "outputs": [],
   "source": [
    "email = \"willy.wizard@magicschool.com\"\n",
    "\n",
    "#########################"
   ]
  },
  {
   "cell_type": "markdown",
   "metadata": {},
   "source": [
    "Correct output:\n",
    "\n",
    "```\n",
    "willy.wizard\n",
    "```"
   ]
  },
  {
   "cell_type": "markdown",
   "metadata": {},
   "source": [
    "#### b.) Draw a name from an email address in the form info@name.com\n",
    "\n",
    "Sometimes the names of a mail address are only after the @-sign. Also print the names for such cases; remove the ending _.com_ or _.de_. You may assume that there is no period within the name. If the mail address is _info@Max-Mustermann.com_, you should output _Max-Mustermann_.\n",
    "\n",
    "Note:*** It is okay if you need several `.split()` - functions for the calculation, or if you want to cache a result. You are also welcome to use the code from the `a)` subtask here."
   ]
  },
  {
   "cell_type": "code",
   "execution_count": null,
   "metadata": {},
   "outputs": [],
   "source": [
    "mail = \"info@helena-witch.com\"\n",
    "\n",
    "# Ouput the last part of the given email address here\n",
    "\n",
    "#########################"
   ]
  },
  {
   "cell_type": "markdown",
   "metadata": {},
   "source": [
    "Correct Output\n",
    "\n",
    "```\n",
    "helena-witch\n",
    "```"
   ]
  },
  {
   "cell_type": "markdown",
   "metadata": {},
   "source": [
    "#### c.) Calculate: How many customers are there in the online shop?\n",
    "\n",
    "Currently, all customers (`mail1`, `mail2`, `mail3`) str present as separate variables. We would like to build a list from it now, so that we would have the possibility to add further customers to this list later.\n",
    "\n",
    "Therefore transfer the customers `mail1`, `mail2` and `mail3` to the list `clients` and get the number of elements of the list `clients` printed using Python."
   ]
  },
  {
   "cell_type": "code",
   "execution_count": null,
   "metadata": {},
   "outputs": [],
   "source": [
    "mail1 = \"zarah.magic@magicberg.de\"\n",
    "mail2 = \"info@trixie-trickser.com\"\n",
    "mail3 = \"uwe_evil@darknet.de\" \n",
    "\n",
    "clients = []\n",
    "\n",
    "# Add mail1, mail2, mail3 to the clients list\n",
    "\n",
    "#########################\n",
    "\n",
    "\n",
    "\n",
    "\n",
    "print(clients)"
   ]
  },
  {
   "cell_type": "markdown",
   "metadata": {
    "scrolled": true
   },
   "source": [
    "Correct output\n",
    "\n",
    "```python\n",
    "['zarah.magic@magicberg.de', 'info@trixie-trickser.com', 'uwe_evil@darknet.de']\n",
    "```"
   ]
  },
  {
   "cell_type": "code",
   "execution_count": null,
   "metadata": {},
   "outputs": [],
   "source": [
    "# Enter here the number of elements in the clients list\n",
    "\n",
    "#########################\n"
   ]
  },
  {
   "cell_type": "markdown",
   "metadata": {},
   "source": [
    "Expected output:\n",
    "\n",
    "```\n",
    "3\n",
    "```"
   ]
  },
  {
   "cell_type": "markdown",
   "metadata": {},
   "source": [
    "#### d.) Assemble an email address from strings\n",
    "\n",
    "Suddenly the mathematician remembers that her most important online shop customer is still missing from the _clients_ list. The information about him was sawn into two parts during a failed trick and since then lies around in the list `[\"stageMagic\", \"magic.com\"]`. \n",
    "\n",
    "Use Python to reconstruct the customer's e-mail address (there is no `@` between \"stage magician\" and \"magic.com\") and print it so that the online shop customer service can inquire about his or her well-being."
   ]
  },
  {
   "cell_type": "code",
   "execution_count": null,
   "metadata": {},
   "outputs": [],
   "source": [
    "magician = [\"stageMagic\", \"magic.com\"]\n",
    "\n",
    "# add code here\n",
    "\n",
    "#########################"
   ]
  },
  {
   "cell_type": "markdown",
   "metadata": {},
   "source": [
    "Desired output:\n",
    "\n",
    "```\n",
    "stageMagic@magic.com\n",
    "```"
   ]
  },
  {
   "cell_type": "markdown",
   "metadata": {},
   "source": [
    "## End of Exercise!     :-)"
   ]
  },
  {
   "cell_type": "code",
   "execution_count": null,
   "metadata": {},
   "outputs": [],
   "source": []
  }
 ],
 "metadata": {
  "kernelspec": {
   "display_name": "Python 3 (ipykernel)",
   "language": "python",
   "name": "python3"
  },
  "language_info": {
   "codemirror_mode": {
    "name": "ipython",
    "version": 3
   },
   "file_extension": ".py",
   "mimetype": "text/x-python",
   "name": "python",
   "nbconvert_exporter": "python",
   "pygments_lexer": "ipython3",
   "version": "3.9.5"
  }
 },
 "nbformat": 4,
 "nbformat_minor": 2
}
