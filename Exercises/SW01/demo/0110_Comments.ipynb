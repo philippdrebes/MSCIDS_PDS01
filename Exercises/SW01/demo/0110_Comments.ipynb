{
 "cells": [
  {
   "cell_type": "markdown",
   "metadata": {},
   "source": [
    "Source: https://www.udemy.com/course/the-complete-python-masterclass/learn/lecture/10926614#overview\n",
    "revised and rearranged: `mae`\n",
    "\n",
    "\n",
    "# Comments in Python\n",
    "\n",
    "In this lesson you will learn:\n",
    "\n",
    "- How to use comments in Python"
   ]
  },
  {
   "cell_type": "code",
   "execution_count": null,
   "metadata": {},
   "outputs": [],
   "source": [
    "#!\n",
    "\n",
    "print(\"Hello Merkur\")\n",
    "print(\"Hello Venus\")\n",
    "print(\"Hello Erde\")\n",
    "print(\"Hello Mars\")\n",
    "print(\"Hello Jupiter\")\n",
    "print(\"Hello Saturn\")\n",
    "print(\"Hello Neptun\")\n",
    "print(\"Hello Uranus\")\n",
    "print(\"Hello Pluto\")                  # ... hmmm Pluto is no longer a planet!  "
   ]
  },
  {
   "cell_type": "code",
   "execution_count": null,
   "metadata": {},
   "outputs": [],
   "source": []
  }
 ],
 "metadata": {
  "kernelspec": {
   "display_name": "Python 3 (ipykernel)",
   "language": "python",
   "name": "python3"
  },
  "language_info": {
   "codemirror_mode": {
    "name": "ipython",
    "version": 3
   },
   "file_extension": ".py",
   "mimetype": "text/x-python",
   "name": "python",
   "nbconvert_exporter": "python",
   "pygments_lexer": "ipython3",
   "version": "3.9.5"
  }
 },
 "nbformat": 4,
 "nbformat_minor": 2
}
