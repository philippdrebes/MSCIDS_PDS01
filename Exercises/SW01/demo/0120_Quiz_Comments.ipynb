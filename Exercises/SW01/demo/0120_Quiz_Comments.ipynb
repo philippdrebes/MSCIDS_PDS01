{
 "cells": [
  {
   "cell_type": "markdown",
   "metadata": {},
   "source": [
    "Source: https://www.udemy.com/course/the-complete-python-masterclass/learn/lecture/10926616#overview\n",
    "revised and rearranged: `mae`\n",
    "\n",
    "## Quiz: Comments"
   ]
  },
  {
   "cell_type": "markdown",
   "metadata": {},
   "source": [
    "### Task 1    \n",
    "\n",
    "Which character(s) starts a comment with in Python?\n",
    "\n",
    "- A) `#`\n",
    "- B) `**`\n",
    "- C) `%`\n",
    "- D) `$`"
   ]
  },
  {
   "cell_type": "markdown",
   "metadata": {},
   "source": [
    "Correct solution: "
   ]
  },
  {
   "cell_type": "markdown",
   "metadata": {},
   "source": [
    "#### Task 2\n",
    "\n",
    "What are the numbers (ouput) when you run the following program?\n",
    "\n",
    "```\n",
    "print(1)\n",
    "# print(2)\n",
    "print(3)\n",
    "# print(4)\n",
    "```\n",
    "\n",
    "- A) 1, 2, 3, 4\n",
    "- B) No numbers!\n",
    "- C) 2, 4\n",
    "- D) 1, 3"
   ]
  },
  {
   "cell_type": "markdown",
   "metadata": {},
   "source": [
    "Correct solution: "
   ]
  }
 ],
 "metadata": {
  "kernelspec": {
   "display_name": "Python 3 (ipykernel)",
   "language": "python",
   "name": "python3"
  },
  "language_info": {
   "codemirror_mode": {
    "name": "ipython",
    "version": 3
   },
   "file_extension": ".py",
   "mimetype": "text/x-python",
   "name": "python",
   "nbconvert_exporter": "python",
   "pygments_lexer": "ipython3",
   "version": "3.9.5"
  }
 },
 "nbformat": 4,
 "nbformat_minor": 2
}
