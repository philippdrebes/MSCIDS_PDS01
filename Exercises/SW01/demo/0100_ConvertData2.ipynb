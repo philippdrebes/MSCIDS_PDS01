{
 "cells": [
  {
   "cell_type": "markdown",
   "metadata": {},
   "source": [
    "Source: https://www.udemy.com/course/the-complete-python-masterclass/learn/lecture/10926612#overview\n",
    "revised and rearranged: `mae`\n",
    "\n",
    "# Converting Data (part 2):  Lists and Strings\n",
    "We can use Python to combine elements into a list or break a list into individual elements.\n"
   ]
  },
  {
   "cell_type": "markdown",
   "metadata": {},
   "source": [
    "### Combine strings from a list into one string\n",
    "Combine strings from a list into one string.\\\n",
    "With the `join( )` command, which is applied to a string, we join the strings from a list into a new string: <br>\n",
    "<br>\n",
    "**`string.join(list)`**\n",
    "\n",
    "The string on the left hand side of `join()` is used as the\n",
    "separator. All the list elements are concatenated together into one string with\n",
    "the separator in between."
   ]
  },
  {
   "cell_type": "code",
   "execution_count": null,
   "metadata": {},
   "outputs": [],
   "source": [
    "students = [\"Max\", \"Monika\", \"Erik\", \"Franziska\"]\n",
    "\n",
    "#!\n",
    "#!\n",
    "\n",
    "#!  \n",
    "#!"
   ]
  },
  {
   "cell_type": "code",
   "execution_count": null,
   "metadata": {},
   "outputs": [],
   "source": [
    "#!\n",
    "\n",
    "print(\"Studying at our university: \" + students_as_string)"
   ]
  },
  {
   "cell_type": "code",
   "execution_count": null,
   "metadata": {},
   "outputs": [],
   "source": [
    "# other separator: - \n",
    "\n",
    "students = [\"Max\", \"Monika\", \"Erik\", \"Franziska\"]\n",
    "\n",
    "#!"
   ]
  },
  {
   "cell_type": "markdown",
   "metadata": {},
   "source": [
    "### Split a string into a list\n",
    "\n",
    "The **`split()`** command that is applied to a string, splits this string by its spaces and the resulting individual strings are saved in a list: <br>\n",
    "\n",
    "**`string.split()`**\n"
   ]
  },
  {
   "cell_type": "code",
   "execution_count": null,
   "metadata": {},
   "outputs": [],
   "source": [
    "i = \"Max, Monika, Erik, Franziska\""
   ]
  },
  {
   "cell_type": "code",
   "execution_count": null,
   "metadata": {},
   "outputs": [],
   "source": [
    "#!"
   ]
  },
  {
   "cell_type": "markdown",
   "metadata": {},
   "source": [
    "We can even specify where the `split()` command splits the string:"
   ]
  },
  {
   "cell_type": "code",
   "execution_count": null,
   "metadata": {},
   "outputs": [],
   "source": [
    "#!                                      # \", \"   is the 'default parameter' => What the heck is a default parameter? Ask! "
   ]
  },
  {
   "cell_type": "code",
   "execution_count": null,
   "metadata": {},
   "outputs": [],
   "source": [
    "#!"
   ]
  },
  {
   "cell_type": "markdown",
   "metadata": {},
   "source": [
    "Note: We can also combine several of the commands that we have already learned about:"
   ]
  },
  {
   "cell_type": "code",
   "execution_count": null,
   "metadata": {},
   "outputs": [],
   "source": [
    "# Here we count the number of words in the sentence s (a variable!)\n",
    "\n",
    "s = \"I am a sentence with many words!\"\n",
    "\n",
    "#!"
   ]
  },
  {
   "cell_type": "markdown",
   "metadata": {},
   "source": [
    "### Now play around a little with what you've learned:\n",
    "\n",
    "- Split strings into lists with `split()` and create a list from individual strings with `join()`. :-)\n",
    "- You can also try to combine the functions that you already know. :-)"
   ]
  },
  {
   "cell_type": "code",
   "execution_count": null,
   "metadata": {},
   "outputs": [],
   "source": []
  }
 ],
 "metadata": {
  "kernelspec": {
   "display_name": "Python 3 (ipykernel)",
   "language": "python",
   "name": "python3"
  },
  "language_info": {
   "codemirror_mode": {
    "name": "ipython",
    "version": 3
   },
   "file_extension": ".py",
   "mimetype": "text/x-python",
   "name": "python",
   "nbconvert_exporter": "python",
   "pygments_lexer": "ipython3",
   "version": "3.9.5"
  }
 },
 "nbformat": 4,
 "nbformat_minor": 2
}
