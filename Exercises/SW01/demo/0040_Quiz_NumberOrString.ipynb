{
 "cells": [
  {
   "cell_type": "markdown",
   "metadata": {},
   "source": [
    "Source: https://www.udemy.com/course/the-complete-python-masterclass/learn/lecture/10926572#overview\n",
    "revised and rearranged: `mae`\n",
    "\n",
    "\n",
    "## Quiz: Number oder String? "
   ]
  },
  {
   "cell_type": "markdown",
   "metadata": {},
   "source": [
    "#### Task 1\n",
    "\n",
    "```python\n",
    "v = \"Hallo Welt\"\n",
    "print(v)\n",
    "```\n",
    "\n",
    "What is the variable `v`?\n",
    "\n",
    "- A) String (list of characters)\n",
    "- B) Number"
   ]
  },
  {
   "cell_type": "markdown",
   "metadata": {},
   "source": [
    "Correct solution: "
   ]
  },
  {
   "cell_type": "markdown",
   "metadata": {},
   "source": [
    "#### Task 2\n",
    "\n",
    "```python\n",
    "v = 14\n",
    "print(v)\n",
    "```\n",
    "\n",
    "What is the variable `v`?\n",
    "\n",
    "- A) String (list of characters)\n",
    "- B) Number"
   ]
  },
  {
   "cell_type": "markdown",
   "metadata": {
    "collapsed": true
   },
   "source": [
    "Correct solution: "
   ]
  },
  {
   "cell_type": "markdown",
   "metadata": {},
   "source": [
    "#### Task 3\n",
    "\n",
    "```python\n",
    "v = str(14)\n",
    "print(v)\n",
    "```\n",
    "\n",
    "What is the variable `v`?\n",
    "\n",
    "- A) String (list of characters)\n",
    "- B) Number"
   ]
  },
  {
   "cell_type": "markdown",
   "metadata": {
    "collapsed": true
   },
   "source": [
    "Correct solution: "
   ]
  },
  {
   "cell_type": "markdown",
   "metadata": {
    "collapsed": true
   },
   "source": [
    "#### Task 4\n",
    "\n",
    "Which of the following lines of code is a valid Python program that does not generate an error when executed?\n",
    "\n",
    "- A) `print(\"Dein Guthaben beträgt \" & str(50) & \" Cent.\")`\n",
    "- B) `print(\"Du hast nur noch \" + str(10) + \"€ auf dem Konto.\")`\n",
    "- C) `print(\"Du hast \" + 50000 + \"€ gewonnen.\")`\n",
    "- D) `print(String(Du hast Schulden.))`"
   ]
  },
  {
   "cell_type": "markdown",
   "metadata": {},
   "source": [
    "Correct solution: "
   ]
  }
 ],
 "metadata": {
  "kernelspec": {
   "display_name": "Python 3 (ipykernel)",
   "language": "python",
   "name": "python3"
  },
  "language_info": {
   "codemirror_mode": {
    "name": "ipython",
    "version": 3
   },
   "file_extension": ".py",
   "mimetype": "text/x-python",
   "name": "python",
   "nbconvert_exporter": "python",
   "pygments_lexer": "ipython3",
   "version": "3.9.5"
  }
 },
 "nbformat": 4,
 "nbformat_minor": 2
}
