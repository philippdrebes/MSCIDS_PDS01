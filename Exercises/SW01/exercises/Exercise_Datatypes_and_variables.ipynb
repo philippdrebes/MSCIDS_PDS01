{
 "cells": [
  {
   "cell_type": "markdown",
   "metadata": {},
   "source": [
    "# Exercise Data Types and Variables   \n",
    "### Try and learn yourself: id(), type(), dir(), help()          \n",
    "\n",
    "<br>\n",
    "\n",
    "`We already got to know most of the content in the previous Jupyter Notebooks.\n",
    "BUT: It also has some new, important information here.`"
   ]
  },
  {
   "cell_type": "markdown",
   "metadata": {},
   "source": [
    "\n",
    "\n",
    "## Number Basics"
   ]
  },
  {
   "cell_type": "markdown",
   "metadata": {},
   "source": [
    "Here I show you some basic number operations ....<br>\n",
    "ALWAYS try to find out the result in advance ..."
   ]
  },
  {
   "cell_type": "code",
   "execution_count": null,
   "metadata": {},
   "outputs": [],
   "source": [
    "10 + 10 +10    "
   ]
  },
  {
   "cell_type": "code",
   "execution_count": null,
   "metadata": {},
   "outputs": [],
   "source": [
    "10 - 3    "
   ]
  },
  {
   "cell_type": "code",
   "execution_count": null,
   "metadata": {},
   "outputs": [],
   "source": [
    "10 * 2"
   ]
  },
  {
   "cell_type": "code",
   "execution_count": null,
   "metadata": {},
   "outputs": [],
   "source": [
    "5 / 2"
   ]
  },
  {
   "cell_type": "code",
   "execution_count": null,
   "metadata": {},
   "outputs": [],
   "source": [
    "5.0 / 2"
   ]
  },
  {
   "cell_type": "code",
   "execution_count": null,
   "metadata": {},
   "outputs": [],
   "source": [
    "5 % 2"
   ]
  },
  {
   "cell_type": "code",
   "execution_count": null,
   "metadata": {},
   "outputs": [],
   "source": [
    "10 % 3"
   ]
  },
  {
   "cell_type": "code",
   "execution_count": null,
   "metadata": {},
   "outputs": [],
   "source": [
    "3 ** 3"
   ]
  },
  {
   "cell_type": "code",
   "execution_count": null,
   "metadata": {},
   "outputs": [],
   "source": [
    "9 ** .5"
   ]
  },
  {
   "cell_type": "code",
   "execution_count": null,
   "metadata": {},
   "outputs": [],
   "source": [
    "10 + 3 * 3"
   ]
  },
  {
   "cell_type": "code",
   "execution_count": null,
   "metadata": {},
   "outputs": [],
   "source": [
    "(10 + 3) * 3"
   ]
  },
  {
   "cell_type": "markdown",
   "metadata": {},
   "source": [
    "### Numbers can be assigned to variables ..."
   ]
  },
  {
   "cell_type": "code",
   "execution_count": null,
   "metadata": {},
   "outputs": [],
   "source": [
    "\"\"\"\n",
    "Try to find out: What happens?\n",
    "\"\"\"\n",
    "\n",
    "a=23\n",
    "b=23\n",
    "\n",
    "print(a)\n",
    "print(id(a))                          # https://docs.python.org/3/library/functions.html#id \n",
    "                                      # Return the “identity” of an object. This is an integer \n",
    "                                      # which is guaranteed to be unique and constant for this \n",
    "                                      # object during its lifetime. Two objects with non-overlapping \n",
    "                                      # lifetimes may have the same id() value\n",
    "                \n",
    "print(type(a))                        # https://docs.python.org/3/library/functions.html#type\n",
    "                                      # With one argument, return the type of an object. \n",
    "                                      # The return value is a type object and generally the same object \n",
    "                                      # as returned by object.__class__.\n",
    "\n",
    "print(b)\n",
    "print(id(b))\n",
    "print(type(b))\n",
    "\n"
   ]
  },
  {
   "cell_type": "markdown",
   "metadata": {},
   "source": [
    "Copy the upper statements (part for part) into the lower cell and find out what happens. <br>As always (if possible): First predict the result yourself!!"
   ]
  },
  {
   "cell_type": "code",
   "execution_count": null,
   "metadata": {},
   "outputs": [],
   "source": []
  },
  {
   "cell_type": "code",
   "execution_count": null,
   "metadata": {},
   "outputs": [],
   "source": []
  },
  {
   "cell_type": "code",
   "execution_count": null,
   "metadata": {},
   "outputs": [],
   "source": [
    "\"\"\"\n",
    "change the value of variable 'a'\n",
    "\n",
    "\"\"\"\n",
    "\n",
    "a=123\n",
    "\n",
    "print(a)\n",
    "print(id(a))\n",
    "print(type(a))\n",
    "\n",
    "print(b)\n",
    "print(id(b))\n",
    "print(type(b))\n",
    "\n",
    "\n"
   ]
  },
  {
   "cell_type": "markdown",
   "metadata": {},
   "source": [
    "Copy the upper statements (part for part) into the lower cell and find out what happens. <br>As always (if possible): First predict the result yourself!!"
   ]
  },
  {
   "cell_type": "code",
   "execution_count": null,
   "metadata": {},
   "outputs": [],
   "source": []
  },
  {
   "cell_type": "code",
   "execution_count": null,
   "metadata": {},
   "outputs": [],
   "source": []
  },
  {
   "cell_type": "code",
   "execution_count": null,
   "metadata": {},
   "outputs": [],
   "source": [
    "\"\"\"\n",
    "what happens now? why? \n",
    "\n",
    "\"\"\"\n",
    "c = 23\n",
    "\n",
    "print(c)\n",
    "print(id(c))\n",
    "print(type(c))\n"
   ]
  },
  {
   "cell_type": "markdown",
   "metadata": {},
   "source": [
    "Copy the upper statements (part for part) into the lower cell and find out what happens. <br>As always (if possible): Try to say the result in advance!! <br>\n",
    "<br> \n",
    "Try to find out:  What does the command "
   ]
  },
  {
   "cell_type": "code",
   "execution_count": null,
   "metadata": {},
   "outputs": [],
   "source": []
  },
  {
   "cell_type": "code",
   "execution_count": null,
   "metadata": {},
   "outputs": [],
   "source": []
  },
  {
   "cell_type": "code",
   "execution_count": null,
   "metadata": {},
   "outputs": [],
   "source": [
    "\"\"\"\n",
    "try the same thing with a float variable!!!\n",
    "\n",
    "\"\"\"\n",
    "\n",
    "f = 3.14159\n",
    "pi = 3.14159\n",
    "\n",
    "\"\"\"\n",
    "... and so on - do it (programming ;-) !!)  yourself \n",
    "\"\"\"\n"
   ]
  },
  {
   "cell_type": "markdown",
   "metadata": {},
   "source": [
    "Copy the upper statements (part for part) into the lower cell and find out what happens. <br>As always (if possible): First predict the result yourself!!"
   ]
  },
  {
   "cell_type": "code",
   "execution_count": null,
   "metadata": {},
   "outputs": [],
   "source": []
  },
  {
   "cell_type": "code",
   "execution_count": null,
   "metadata": {},
   "outputs": [],
   "source": []
  },
  {
   "cell_type": "markdown",
   "metadata": {},
   "source": [
    "\n",
    "<div class=\"alert alert-block alert-info\">\n",
    "<b>Tip:</b> Remember for ever (!!!) : All variables are <b>objects references</b> in python!\n",
    "</div>\n",
    "\n"
   ]
  },
  {
   "cell_type": "markdown",
   "metadata": {},
   "source": [
    "# String Basics"
   ]
  },
  {
   "cell_type": "markdown",
   "metadata": {},
   "source": [
    "Here I show you some basic \"String\" operations ....<br>\n",
    "ALWAYS try to find out the result in advance ..."
   ]
  },
  {
   "cell_type": "code",
   "execution_count": null,
   "metadata": {},
   "outputs": [],
   "source": [
    "\"Welcome to HSLU!\""
   ]
  },
  {
   "cell_type": "code",
   "execution_count": null,
   "metadata": {},
   "outputs": [],
   "source": [
    "Welcome to HSLU!"
   ]
  },
  {
   "cell_type": "code",
   "execution_count": null,
   "metadata": {},
   "outputs": [],
   "source": [
    "'Welcome to HSLU'"
   ]
  },
  {
   "cell_type": "code",
   "execution_count": null,
   "metadata": {},
   "outputs": [],
   "source": [
    "'This python course is awesome isn't it?'"
   ]
  },
  {
   "cell_type": "code",
   "execution_count": null,
   "metadata": {},
   "outputs": [],
   "source": [
    "\"This python course is awesome isn't it?\"\""
   ]
  },
  {
   "cell_type": "code",
   "execution_count": null,
   "metadata": {},
   "outputs": [],
   "source": [
    "print (\"HSLU Python couse is cool\")"
   ]
  },
  {
   "cell_type": "code",
   "execution_count": null,
   "metadata": {},
   "outputs": [],
   "source": [
    "print(\"This is Line 1\")\n",
    "print(\"This is Line 2\")\n",
    "print(\"\\nWhat does the \\\\n control character do? Are you sure?\")"
   ]
  },
  {
   "cell_type": "code",
   "execution_count": null,
   "metadata": {},
   "outputs": [],
   "source": [
    "print(\"\\tWhat does the \\\\t control character do? Are you sure?\")"
   ]
  },
  {
   "cell_type": "code",
   "execution_count": null,
   "metadata": {},
   "outputs": [],
   "source": [
    "print(\"I want to learn python because....\")\n",
    "print(\"\\n\\n\\t....it's a cool data science language. Ok - there are also others ;-) !\")"
   ]
  },
  {
   "cell_type": "code",
   "execution_count": null,
   "metadata": {},
   "outputs": [],
   "source": [
    "print(\"What\" + \"is\" +\"wrong?\" + \"\\nPlease correct it! Don't delete the '+' signs!\")"
   ]
  },
  {
   "cell_type": "code",
   "execution_count": null,
   "metadata": {},
   "outputs": [],
   "source": [
    "print(\"My Name is \" + \"agatha christie\".title())"
   ]
  },
  {
   "cell_type": "markdown",
   "metadata": {},
   "source": [
    "## Strings can be assigned to variables ...\n",
    "\n",
    "1. What is the type of the variables g, h, p, q  (First think -- and then have a look in the )\n",
    "2. What are the id's of the variables g, h, p, q\n",
    "3. Is something strange? Why? \n"
   ]
  },
  {
   "cell_type": "code",
   "execution_count": null,
   "metadata": {},
   "outputs": [],
   "source": [
    "g='hslu'\n",
    "h='hslu'\n",
    "\n",
    "print(g)\n",
    "print(h)\n",
    "\n",
    "h=456\n",
    "print(h)\n",
    "\n",
    "p='hslu'\n",
    "q=p\n",
    "\n",
    "print(p==q)\n",
    "print(p is q)"
   ]
  },
  {
   "cell_type": "markdown",
   "metadata": {},
   "source": [
    "Copy the upper statements (part for part) into the lower cell and find out what happens.\\\n",
    "As always (if possible): First predict the result yourself!!"
   ]
  },
  {
   "cell_type": "code",
   "execution_count": null,
   "metadata": {},
   "outputs": [],
   "source": []
  },
  {
   "cell_type": "markdown",
   "metadata": {},
   "source": [
    "## A Challenge\n",
    "\n",
    "**Questions:** \n",
    "    \n",
    "1. What do the commands **dir(23)**, **dir(3.14)** and **dir(\"agatha\")** do?\n",
    "2. What do the commands **help(23)**, **help(3.14)** and **help(\"agatha\")** do?"
   ]
  },
  {
   "cell_type": "code",
   "execution_count": null,
   "metadata": {},
   "outputs": [],
   "source": [
    "# have first a look in \"internet\" (google ;-) ) \n",
    "# Keywords  :     python dir example\n",
    "#       or        python dir documentation"
   ]
  },
  {
   "cell_type": "code",
   "execution_count": null,
   "metadata": {},
   "outputs": [],
   "source": [
    "dir(23)"
   ]
  },
  {
   "cell_type": "code",
   "execution_count": null,
   "metadata": {},
   "outputs": [],
   "source": [
    "dir(3.14)"
   ]
  },
  {
   "cell_type": "code",
   "execution_count": null,
   "metadata": {},
   "outputs": [],
   "source": [
    "dir(\"agatha\")"
   ]
  },
  {
   "cell_type": "code",
   "execution_count": null,
   "metadata": {},
   "outputs": [],
   "source": [
    "help(23)"
   ]
  },
  {
   "cell_type": "code",
   "execution_count": null,
   "metadata": {},
   "outputs": [],
   "source": [
    "help(3.14)"
   ]
  },
  {
   "cell_type": "code",
   "execution_count": null,
   "metadata": {},
   "outputs": [],
   "source": [
    "help(\"agatha\")"
   ]
  },
  {
   "cell_type": "markdown",
   "metadata": {},
   "source": [
    "\n",
    "### Have a look to the 'eBook': `https://www.python-course.eu/` \n",
    "\n",
    "<br>\n",
    "\n",
    "**Data Types and Variables:  https://www.python-course.eu/python3_variables.php**<br>\n",
    "\n",
    "<br> \n",
    "\n",
    "**Strings:   https://www.python-course.eu/python3_variables.php#Strings**"
   ]
  },
  {
   "cell_type": "code",
   "execution_count": null,
   "metadata": {},
   "outputs": [],
   "source": []
  }
 ],
 "metadata": {
  "kernelspec": {
   "display_name": "Python 3 (ipykernel)",
   "language": "python",
   "name": "python3"
  },
  "language_info": {
   "codemirror_mode": {
    "name": "ipython",
    "version": 3
   },
   "file_extension": ".py",
   "mimetype": "text/x-python",
   "name": "python",
   "nbconvert_exporter": "python",
   "pygments_lexer": "ipython3",
   "version": "3.9.5"
  }
 },
 "nbformat": 4,
 "nbformat_minor": 2
}
