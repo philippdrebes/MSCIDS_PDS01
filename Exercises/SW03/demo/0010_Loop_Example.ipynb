{
 "cells": [
  {
   "cell_type": "markdown",
   "metadata": {},
   "source": [
    "# Intro Loop Examples   (while, for)\n",
    "\n",
    "Some ideas/pictures from https://www.python-course.eu/python3_loops.php  - 'Python Course' Bernd Klein\n"
   ]
  },
  {
   "cell_type": "code",
   "execution_count": null,
   "metadata": {},
   "outputs": [],
   "source": [
    "# Overview for loops Statement\n",
    "# based on Bernd Klein / Denis Panjuta "
   ]
  },
  {
   "cell_type": "markdown",
   "metadata": {},
   "source": [
    "## While loop"
   ]
  },
  {
   "cell_type": "code",
   "execution_count": null,
   "metadata": {},
   "outputs": [],
   "source": [
    "# if you have to repete some task (commands) => use a loop statment\n",
    "# simple while - loop\n",
    "\n",
    "print(\"before the loop ...!\") \n",
    "counter = 0\n",
    "\n",
    "while counter < 6:\n",
    "    print(counter)\n",
    "    counter = counter + 1                     # counter += 1 \n",
    "    \n",
    "print(\"further command 1\")\n",
    "print(\"further command 2\")    \n"
   ]
  },
  {
   "cell_type": "code",
   "execution_count": null,
   "metadata": {},
   "outputs": [],
   "source": []
  },
  {
   "cell_type": "code",
   "execution_count": null,
   "metadata": {},
   "outputs": [],
   "source": []
  },
  {
   "cell_type": "code",
   "execution_count": null,
   "metadata": {},
   "outputs": [],
   "source": [
    "# Rule:\n",
    "# Within a loop, a state must necessarily change in every step,\n",
    "# so that the loop condition is not permanently fulfilled  => Otherwise we have an endless loop\n",
    "# so that the program can exit the loop again:\n",
    "\n",
    "\n",
    "\n",
    "print(\"before the loop ...!\")\n",
    "students = [\"Jens\", \"Julia\", \"Emily\", \"Jessica\", \"Marc\"]    # and Tuple?\n",
    "i = 0\n",
    "\n",
    "while i < len(students):           # len(..)  ist hier 5!\n",
    "    print(students[i])\n",
    "    i += 1 \n",
    "    \n",
    "\n",
    "print(\"further command 1\")\n",
    "print(\"further command 2\")  "
   ]
  },
  {
   "cell_type": "markdown",
   "metadata": {},
   "source": [
    "## For - loop"
   ]
  },
  {
   "cell_type": "markdown",
   "metadata": {},
   "source": [
    "In addition to the while loop that we saw above, there is also the `for-loop`. <br>\n",
    "Here a loop variable runs through the values one after the other in a **sequence** that must also be specified.<br>\n",
    "\n",
    "Clarify and note (well ;-)): What is a `sequence` and what is an `iterable`<br>\n",
    "\n",
    "A Picture? => **https://www.pythoninformer.com/programming-techniques/functional-programming/iterators-vs-iterables/** <br>\n",
    "We set a Bookmark to **https://docs.python.org/**?\n",
    "\n",
    "Result: The `sequence` in a `for-loop` can be e.g. a **list** (logo according to the documentation above ;-)!)\n"
   ]
  },
  {
   "cell_type": "code",
   "execution_count": null,
   "metadata": {},
   "outputs": [],
   "source": [
    "print(\"before the loop ...!\")\n",
    "\n",
    "liste1 = [5, 8, 10]                             # List is a  ???\n",
    "\n",
    "for gugus_no_matter_what_or_what_else in liste1:    # please use instead of 'gugus_no_matter_what_or_what_else'  => i !!!\n",
    "    print(gugus_no_matter_what_or_what_else)\n",
    "\n",
    "    \n",
    "print(\"further command 1\")\n",
    "print(\"further command 2\")      "
   ]
  },
  {
   "cell_type": "code",
   "execution_count": null,
   "metadata": {},
   "outputs": [],
   "source": [
    "print(\"before the loop ...!\")\n",
    "\n",
    "liste2 = [\"Jens\", \"Julia\", \"Emily\"]\n",
    "\n",
    "\n",
    "for name in liste2:    # instead of 'gugus_no_matter_what_or_what_else'  => 'name' because the list-elements are 'names'!\n",
    "    print(name)\n",
    "\n",
    "\n",
    "    \n",
    "print(\"further command 1\")\n",
    "print(\"further command 2\")          "
   ]
  },
  {
   "cell_type": "markdown",
   "metadata": {},
   "source": [
    "### The range-Object <br>\n",
    "\n",
    "You don't necessarily need a `list` as the sequence for a for loop. Often we uses a `range object` instead.\n",
    "\n",
    "By the way: Range, String, List, Tuple, ... are sequence data typs!!!\n"
   ]
  },
  {
   "cell_type": "code",
   "execution_count": null,
   "metadata": {},
   "outputs": [],
   "source": [
    "# basics about range-Object\n",
    "\n",
    "print(range(0,6))\n",
    "print(type(range(0,6)))\n",
    "a = range(0,6)\n",
    "print(a)"
   ]
  },
  {
   "cell_type": "markdown",
   "metadata": {},
   "source": [
    "Ok ...the result of range (0.6) is not satisfactory. \n",
    "\n",
    "You don't actually \"see\" what's in `range (0.6)`.\\\n",
    "In this situation it often helps to call the `list ()` function\\\n",
    "to convert the range-object in a list"
   ]
  },
  {
   "cell_type": "code",
   "execution_count": null,
   "metadata": {},
   "outputs": [],
   "source": [
    "list(range(0,6))              # result: range()"
   ]
  },
  {
   "cell_type": "code",
   "execution_count": null,
   "metadata": {},
   "outputs": [],
   "source": [
    "# first use of a range-object in a for-loop: \n",
    "\n",
    "print(\"before the loop ...!\")\n",
    "\n",
    "for i in range(0,6):           # i= 0 bis 5 !!! => a list like [0, 1, 2, 3, 4, 5]\n",
    "    print(i)                   # print all numbers form 0 to 5 \n",
    "    \n",
    "print(\"further command 1\")\n",
    "print(\"further command 2\")           "
   ]
  },
  {
   "cell_type": "code",
   "execution_count": null,
   "metadata": {},
   "outputs": [],
   "source": [
    "# Now we add up all the numbers from 1 to 10 using a for loop and a range object\n",
    "\n",
    "print(\"before the loop ...!\")\n",
    "sum = 0\n",
    "\n",
    "for i in range(1,11):       # a list like [0, 1, 2, 3, 4, 5, 6, 7, 8, 9, 10]\n",
    "    sum = sum + i\n",
    "\n",
    "print(\"further command 1: e.g. 'sum()'\")    \n",
    "print(sum)\n",
    "print(\"further command 2\")  "
   ]
  },
  {
   "cell_type": "markdown",
   "metadata": {},
   "source": [
    "So far the increment of range() has been 1.\\\n",
    "We can specify a different increment with a third argument.\\\n",
    "The increment is called the `step`. It can be both negative and positive, but not zero:\n",
    "\n",
    "**range(begin,end, step)**\n",
    "\n",
    "Example with step:"
   ]
  },
  {
   "cell_type": "code",
   "execution_count": null,
   "metadata": {},
   "outputs": [],
   "source": [
    "# print out all numbers form 4 to 50 with step 5:\n",
    "\n",
    "list(range(4, 50, 5))"
   ]
  },
  {
   "cell_type": "code",
   "execution_count": null,
   "metadata": {},
   "outputs": [],
   "source": [
    "#It can be done backwards as well e.g. from 42 to -12 with `step` 7\n",
    "\n",
    "list(range(42, -12, -7))"
   ]
  },
  {
   "cell_type": "code",
   "execution_count": null,
   "metadata": {},
   "outputs": [],
   "source": [
    "# the same example as above but 'nicer':\n",
    "n = 100\n",
    "\n",
    "sum = 0\n",
    "for counter in range(1, n+1):\n",
    "    sum = sum + counter\n",
    "\n",
    "print(\"Sum of 1 until %d: %d\" % (n, sum))     # Output in C-style => more Explanations will follow later!\n",
    "print(f\"Sum of 1 until {n}: {sum}\")           # Output with f-Strings  => more Explanations will follow later!"
   ]
  },
  {
   "cell_type": "code",
   "execution_count": null,
   "metadata": {},
   "outputs": [],
   "source": []
  },
  {
   "cell_type": "markdown",
   "metadata": {},
   "source": [
    "## When which loop?"
   ]
  },
  {
   "cell_type": "markdown",
   "metadata": {},
   "source": [
    "The idea behind the while loop in Python is structured like in the other well-known programming languages.\n",
    "\n",
    "On the other hand: **There is no for-loop in Pyhton** as in other programming languages. Really not!!!\\\n",
    "The `for-loop` in Python is a `foreach-loop`!!!\n",
    "\n",
    "**Note:** If you use the \"for loop\" in Python, you always have to think like this:\n",
    "\n",
    "For each element in the \"sequence\" (list, range, string, ...) something is done ...!"
   ]
  },
  {
   "cell_type": "code",
   "execution_count": null,
   "metadata": {},
   "outputs": [],
   "source": [
    "# use of normal 'while'-loop:\n",
    "\n",
    "print(\"before the loop ...!\")\n",
    "counter = 0\n",
    "while counter < 6:\n",
    "    counter += 1\n",
    "    print(counter)\n",
    "\n",
    "print(\"further command 1\")\n",
    "print(\"further command 2\")        "
   ]
  },
  {
   "cell_type": "code",
   "execution_count": null,
   "metadata": {},
   "outputs": [],
   "source": [
    "# use of 'for'-loop: We think always: for each element in the sequence (list, tupel, range, ...)\n",
    "#                                     we do 'something' with the object 'i' (in this example)\n",
    "# IMPORTANT:  The name of object 'i' can be chosen arbitrarily!\n",
    "#             'i' is an object (variable) which goes through the sequence (list, tupel, range, ...)\n",
    "\n",
    "print(\"before the loop ...!\")\n",
    "\n",
    "for i in range(1,7):    \n",
    "    print(i)\n",
    "    \n",
    "print(\"further command 1\")\n",
    "print(\"further command 2\")         "
   ]
  },
  {
   "cell_type": "markdown",
   "metadata": {},
   "source": [
    "**Summary:**\n",
    "- When you need to iterate through a sequence, choose the `for-loop`.\n",
    "- In all other cases choose the `while-loop`"
   ]
  },
  {
   "cell_type": "markdown",
   "metadata": {},
   "source": [
    "### Continue\n",
    "We simply need to write the word **continue** in a loop if we want to jump to the new loop iteration at a certain point:"
   ]
  },
  {
   "cell_type": "code",
   "execution_count": null,
   "metadata": {},
   "outputs": [],
   "source": [
    "# In this example, the print() command is skipped for the value 3.\n",
    "# But we stay in the loop !!! => No interruption of the for-loop\n",
    "\n",
    "\n",
    "print(\"before the loop ...!\")\n",
    "for i in range(0, 6):\n",
    "\n",
    "    if i == 3:\n",
    "        continue             # no print(3) => go to next iteration-step of the for-loop\n",
    "    \n",
    "    print(i)\n",
    "    \n",
    "print(\"further command 1\")\n",
    "print(\"further command 2\")      "
   ]
  },
  {
   "cell_type": "markdown",
   "metadata": {},
   "source": [
    "### Break\n",
    "If we write **break** on a line (often after an if-condition) `the whole loop is aborted` (the loop is exited immediately)\\ and the program line(s) AFTER the loop are executed (if there are such program-lines)\n"
   ]
  },
  {
   "cell_type": "code",
   "execution_count": null,
   "metadata": {},
   "outputs": [],
   "source": [
    "# we go through the loop and if i = 3, the loop is left completely\n",
    "print(\"before the loop ...!\")\n",
    "for i in range(0, 6):\n",
    "    \n",
    "    if i == 3:\n",
    "        break              # if i=3 we will break the loop => go to the commands AFTER the loop!\n",
    "    \n",
    "    print(i)\n",
    "    \n",
    "print(\"further command 1\")\n",
    "print(\"further command 2\")          "
   ]
  },
  {
   "cell_type": "code",
   "execution_count": null,
   "metadata": {},
   "outputs": [],
   "source": [
    "# Another example: \n",
    "# Try to find out what this program does WITHOUT running it first. After: Check your answer!\n",
    "\n",
    "liste = [4, 6, 7, 2, 4, 6, 7]\n",
    "s = 0\n",
    "number_list = []\n",
    "number_sum_list = []\n",
    "\n",
    "print(\"before the loop ...!\")\n",
    "\n",
    "for element in liste:\n",
    "    s = s + element\n",
    "    number_list.append(element)\n",
    "    number_sum_list.append(s)\n",
    "    if s > 20:\n",
    "        break\n",
    "print(s)\n",
    "print(number_list)\n",
    "print(number_sum_list) \n",
    "        \n",
    "print(\"further command 1\")\n",
    "print(\"further command 2\")       "
   ]
  },
  {
   "cell_type": "code",
   "execution_count": null,
   "metadata": {},
   "outputs": [],
   "source": []
  },
  {
   "cell_type": "markdown",
   "metadata": {},
   "source": [
    "### else-part\n",
    "\n",
    "Similar to the if statement, the **while- and the for-loop** of Python has also an optional `else-part`. \n",
    "\n",
    "**Attention:** This is an unfamiliar construct for many programmers of traditional programming languages (Java, C#,...)\n",
    "\n",
    "Simple rule for the use of the `else-part`:\n",
    "The statements in the `else-part` are executed, when the condition is not fulfilled anymore. \n",
    "\n",
    "Some some experienced developers might ask themselves now, where the possible benefit of this extra branch is. \n",
    "If the statements of the additional `else-part` were placed right after the while loop without an else, they would have been executed anyway, wouldn't they? "
   ]
  },
  {
   "cell_type": "markdown",
   "metadata": {},
   "source": [
    "<div>\n",
    "<img src=\"https://www.python-course.eu/images/while_loop_with_else.png\" width=\"300\"/>\n",
    "</div>\n"
   ]
  },
  {
   "cell_type": "markdown",
   "metadata": {},
   "source": [
    "The experienced programmers among you are right, as long as you don't use a **break-command**. \\\n",
    "If a `break-command` is used, the whole loop (while- or for-loops!) `is left immediately`, i.e. also the \"else\" part is skipped!\n",
    "\n",
    "Look at the picture below this cell to understand ...!\n",
    "\n",
    "From experience we can tell you: The \"else\" part is rarely used (especially not by programmers who know other languages very well).\\\n",
    "You can also program without this feature"
   ]
  },
  {
   "cell_type": "markdown",
   "metadata": {},
   "source": [
    "<div>\n",
    "<img src=\"https://www.python-course.eu/images/while_loop_with_else_break.png\" width=\"300\"/>\n",
    "</div>"
   ]
  },
  {
   "cell_type": "markdown",
   "metadata": {},
   "source": [
    "Here are two examples where `else` and `break` are used:\n",
    "\n",
    "**Example 1:** With **else-Teil** (for C, C# and Java-programmer a NEW (!!!) thing)"
   ]
  },
  {
   "cell_type": "code",
   "execution_count": null,
   "metadata": {},
   "outputs": [],
   "source": [
    "# The loop can be broken off with e.g. -1 !\n",
    "import random\n",
    "n = 20\n",
    "to_be_guessed = random.randint(1, n)\n",
    "guess = 0\n",
    "while guess != to_be_guessed:\n",
    "    guess = int(input(\"New trial: \"))\n",
    "    if guess > 0:\n",
    "        if guess > to_be_guessed:\n",
    "            print(\"Number too large\")\n",
    "        elif guess < to_be_guessed:\n",
    "            print(\"Number too small\")\n",
    "    else:\n",
    "        print(\"Sorry that you are giving up!\")\n",
    "        break\n",
    "else:\n",
    "    print(\"Congratulation! You did it!\")\n"
   ]
  },
  {
   "cell_type": "markdown",
   "metadata": {},
   "source": [
    "**Example 2:**  You can also program a `foot-controlled` loop with a `break` command.\n",
    "    \n",
    "Normaly there is no (!!! realy not !!!) `foot-controlled` loop in python! )"
   ]
  },
  {
   "cell_type": "code",
   "execution_count": null,
   "metadata": {},
   "outputs": [],
   "source": [
    "# You can stop with e.g. -1 !\n",
    "import random\n",
    "n = 20\n",
    "to_be_guessed = random.randint(1,n)\n",
    "# print(to_be_guessed)\n",
    "guess = 0\n",
    "while True:\n",
    "    guess = int(input(\"New trial: \"))\n",
    "    if guess > 0:\n",
    "        if guess > to_be_guessed:\n",
    "            print(\"Number too large\")\n",
    "        elif guess < to_be_guessed:\n",
    "            print(\"Number too small\")\n",
    "    # repeat until:\n",
    "    if guess == to_be_guessed:\n",
    "        print(\"Congratulation! You did it!\")\n",
    "        break\n"
   ]
  },
  {
   "cell_type": "markdown",
   "metadata": {},
   "source": [
    "The above example still has a small error => Please correct"
   ]
  },
  {
   "cell_type": "code",
   "execution_count": null,
   "metadata": {},
   "outputs": [],
   "source": []
  },
  {
   "cell_type": "code",
   "execution_count": null,
   "metadata": {},
   "outputs": [],
   "source": []
  },
  {
   "cell_type": "code",
   "execution_count": null,
   "metadata": {},
   "outputs": [],
   "source": []
  },
  {
   "cell_type": "code",
   "execution_count": null,
   "metadata": {},
   "outputs": [],
   "source": []
  },
  {
   "cell_type": "code",
   "execution_count": null,
   "metadata": {},
   "outputs": [],
   "source": []
  },
  {
   "cell_type": "code",
   "execution_count": null,
   "metadata": {},
   "outputs": [],
   "source": []
  },
  {
   "cell_type": "code",
   "execution_count": null,
   "metadata": {},
   "outputs": [],
   "source": []
  },
  {
   "cell_type": "code",
   "execution_count": null,
   "metadata": {},
   "outputs": [],
   "source": [
    "# Solution for Example 2:  There was no feedback when a user stopped the 'game'!\n",
    "\n",
    "# This example still has a small error => Please correct\n",
    "# You can stop with e.g. -1 !\n",
    "import random\n",
    "n = 20\n",
    "to_be_guessed = random.randint(1,n)\n",
    "print(to_be_guessed)\n",
    "guess = 0\n",
    "while True:\n",
    "    guess = int(input(\"New trial: \"))\n",
    "    if guess > 0:\n",
    "        if guess > to_be_guessed:\n",
    "            print(\"Number too large\")\n",
    "        elif guess < to_be_guessed:\n",
    "            print(\"Number too small\")\n",
    "    # repeat until:\n",
    "    if guess == to_be_guessed:\n",
    "        print(\"Congratulation! You did it!\")\n",
    "        break\n",
    "    elif guess < 0:\n",
    "        print(\"Sorry that you are giving up!\")\n",
    "        break"
   ]
  }
 ],
 "metadata": {
  "kernelspec": {
   "display_name": "Python 3 (ipykernel)",
   "language": "python",
   "name": "python3"
  },
  "language_info": {
   "codemirror_mode": {
    "name": "ipython",
    "version": 3
   },
   "file_extension": ".py",
   "mimetype": "text/x-python",
   "name": "python",
   "nbconvert_exporter": "python",
   "pygments_lexer": "ipython3",
   "version": "3.10.2"
  }
 },
 "nbformat": 4,
 "nbformat_minor": 4
}
