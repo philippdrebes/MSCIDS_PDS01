{
 "cells": [
  {
   "cell_type": "markdown",
   "source": [
    "# Nested Loops ... and more "
   ],
   "metadata": {}
  },
  {
   "cell_type": "markdown",
   "source": [
    "There are always tasks where you have to use nested loops.\n",
    "\n",
    "\n",
    "The structure of a nested loop can look like this:\n",
    "\n",
    "`for [first iterating variable] in [outer loop]:        # outer loop\n",
    "    [do something]                                      # optional\n",
    "    for [second iterating variable] in [nested loop]:   # inner loop = nested loop\n",
    "        [do something]`"
   ],
   "metadata": {}
  },
  {
   "cell_type": "markdown",
   "source": [
    "**Example 1: Nested Loops** \n",
    "- You have to print out 5 asterisks (*) on 10 lines.\n",
    "- (Of course not with `print(\"*\" * 5)` ! :-))\n",
    "\n",
    "Such tasks can be solved with nested loops."
   ],
   "metadata": {}
  },
  {
   "cell_type": "code",
   "execution_count": null,
   "source": [
    "def demo_nested_for():                 # this is a definition of a 'function' => in next lession more!\r\n",
    "    row = 10\r\n",
    "    col = 5\r\n",
    "\r\n",
    "    for r in range(1, row + 1):        # outer loop: solve your task for 10 rows\r\n",
    "        for c in range(1, col + 1):    # inner loop: on one row print 5 stars (*)\r\n",
    "            print(\"*\", end=\"\")\r\n",
    "        print()   \r\n",
    "         \r\n",
    "demo_nested_for()        "
   ],
   "outputs": [],
   "metadata": {}
  },
  {
   "cell_type": "markdown",
   "source": [
    "**Just for demo purposes:**\n",
    "\n",
    "We could programm the same task with a `while` loop!\n",
    "\n",
    "You have to decide for yourself - what is easier for you!"
   ],
   "metadata": {}
  },
  {
   "cell_type": "code",
   "execution_count": null,
   "source": [
    "def demo_while_with_modulo():                 # this is a definition of a 'function' => in next lession more!\r\n",
    "    row = 10\r\n",
    "    col = 5\r\n",
    "    i = 1\r\n",
    "    while i <= row * col:\r\n",
    "        print(\"*\", end=\"\")\r\n",
    "        if i % col == 0:\r\n",
    "            print()\r\n",
    "        i += 1\r\n",
    "\r\n",
    "demo_while_with_modulo()"
   ],
   "outputs": [],
   "metadata": {}
  },
  {
   "cell_type": "markdown",
   "source": [
    "**Example 2: Nested Loops** \n",
    "- You have to print out the lists `num_list` and `alpha_list`\n",
    "- The result should look like this:\n",
    "\n",
    "1: a, b, c,\\\n",
    "2: a, b, c,\\\n",
    "3: a, b, c,\\\n",
    "4: a, b, c,\\\n",
    "5: a, b, c, \n"
   ],
   "metadata": {}
  },
  {
   "cell_type": "code",
   "execution_count": null,
   "source": [
    "num_list = [1, 2, 3, 4, 5]\n",
    "alpha_list = ['a', 'b', 'c']\n",
    "\n",
    "for number in num_list:\n",
    "    print(str(number) + \": \", end=\"\")    # end=\"\"  => no carrage retrun\n",
    "    for letter in alpha_list:\n",
    "        print(letter + \", \", end=\"\")\n",
    "    print()\n",
    "\n"
   ],
   "outputs": [],
   "metadata": {}
  }
 ],
 "metadata": {
  "kernelspec": {
   "display_name": "Python 3",
   "language": "python",
   "name": "python3"
  },
  "language_info": {
   "codemirror_mode": {
    "name": "ipython",
    "version": 3
   },
   "file_extension": ".py",
   "mimetype": "text/x-python",
   "name": "python",
   "nbconvert_exporter": "python",
   "pygments_lexer": "ipython3",
   "version": "3.8.5"
  }
 },
 "nbformat": 4,
 "nbformat_minor": 4
}