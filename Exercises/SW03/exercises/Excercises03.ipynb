{
 "cells": [
  {
   "cell_type": "markdown",
   "source": [
    "# Exercises: Conditional Statements and loops\n",
    "## Exercise 1:\n",
    "Write a Python program to construct the following pattern, using a nested for loop."
   ],
   "metadata": {
    "collapsed": false
   }
  },
  {
   "cell_type": "code",
   "execution_count": 28,
   "outputs": [
    {
     "name": "stdout",
     "output_type": "stream",
     "text": [
      "* \n",
      "* * \n",
      "* * * \n",
      "* * * * \n",
      "* * * * * \n",
      "* * * * \n",
      "* * * \n",
      "* * \n",
      "* \n",
      "\n"
     ]
    }
   ],
   "source": [
    "def draw():\n",
    "    max_width = 5\n",
    "    width = 0\n",
    "    grow = True\n",
    "\n",
    "    for i in range(0, 2):\n",
    "        for j in range(0, max_width):\n",
    "            if grow:\n",
    "                width += 1\n",
    "            else:\n",
    "                width -= 1\n",
    "            print(width * \"* \")\n",
    "\n",
    "        if grow:\n",
    "            width = max_width\n",
    "        else:\n",
    "            width = 0\n",
    "\n",
    "        grow = not grow\n",
    "\n",
    "\n",
    "if __name__ == '__main__':\n",
    "    draw()"
   ],
   "metadata": {
    "collapsed": false
   }
  },
  {
   "cell_type": "markdown",
   "source": [
    "## Exercise 2:\n",
    "Write a Python program that accepts a string and calculates the number of digits and\n",
    "letters."
   ],
   "metadata": {
    "collapsed": false
   }
  },
  {
   "cell_type": "code",
   "execution_count": 85,
   "outputs": [
    {
     "name": "stdout",
     "output_type": "stream",
     "text": [
      "Python 3.9\n",
      "Digits: 2\n",
      "Letters: 6\n"
     ]
    }
   ],
   "source": [
    "def main():\n",
    "    text = input('Please enter your string:')\n",
    "    print(text)\n",
    "    digits = 0\n",
    "    letters = 0\n",
    "\n",
    "    for c in text:\n",
    "        if c.isdigit():\n",
    "            digits += 1\n",
    "        elif c.isalpha():\n",
    "            letters += 1\n",
    "\n",
    "    print(\"Digits: {0}\\nLetters: {1}\".format(digits, letters))\n",
    "\n",
    "\n",
    "if __name__ == '__main__':\n",
    "    main()"
   ],
   "metadata": {
    "collapsed": false
   }
  },
  {
   "cell_type": "markdown",
   "source": [
    "## Exercise 3:\n",
    "Write a Python program to count the number of even and odd numbers from a series\n",
    "of numbers.\n",
    "\n",
    "Sample numbers :\n",
    "numbers = (11, 12, 13, 14, 15, 16, 17, 18, 19)\n",
    "Expected Output:\n",
    "Number of even numbers : 4\n",
    "Number of odd numbers : 5"
   ],
   "metadata": {
    "collapsed": false
   }
  },
  {
   "cell_type": "code",
   "execution_count": 32,
   "outputs": [
    {
     "name": "stdout",
     "output_type": "stream",
     "text": [
      "Number of even numbers: 4\n",
      "Number of odd numbers: 5\n"
     ]
    }
   ],
   "source": [
    "def main():\n",
    "    numbers = (11, 12, 13, 14, 15, 16, 17, 18, 19)\n",
    "    even = 0\n",
    "    odd = 0\n",
    "    for n in numbers:\n",
    "        if n % 2 == 0:\n",
    "            even += 1\n",
    "        else:\n",
    "            odd += 1\n",
    "\n",
    "    print(\"Number of even numbers: {0}\\nNumber of odd numbers: {1}\".format(even, odd))\n",
    "\n",
    "\n",
    "if __name__ == '__main__':\n",
    "    main()"
   ],
   "metadata": {
    "collapsed": false
   }
  },
  {
   "cell_type": "markdown",
   "source": [
    "## Exercise 4:\n",
    "Write a Python program which takes two digits m (row) and n (column) as input and\n",
    "generates a two-dimensional array. The element value in the i-th row and j-th column\n",
    "of the array should be i*j.\n",
    "\n",
    "Input Test Data - Rows = 3\n",
    "Input Test Data - Columns = 4\n",
    "Expected Result: [[0, 0, 0, 0], [0, 1, 2, 3], [0, 2, 4, 6]]"
   ],
   "metadata": {
    "collapsed": false
   }
  },
  {
   "cell_type": "code",
   "execution_count": 37,
   "outputs": [
    {
     "name": "stdout",
     "output_type": "stream",
     "text": [
      "[[0, 0, 0, 0], [0, 1, 2, 3], [0, 2, 4, 6]]\n"
     ]
    }
   ],
   "source": [
    "def main():\n",
    "    rows = 3\n",
    "    columns = 4\n",
    "    result = []\n",
    "\n",
    "    for i in range(0, rows):\n",
    "        row = [0]\n",
    "        for j in range(1, columns):\n",
    "            row.append(row[j - 1] + i)\n",
    "        result.append(row)\n",
    "\n",
    "    print(result)\n",
    "\n",
    "\n",
    "if __name__ == '__main__':\n",
    "    main()"
   ],
   "metadata": {
    "collapsed": false
   }
  },
  {
   "cell_type": "markdown",
   "source": [
    "## Exercise 5:\n",
    "Write a Python program to find numbers between 200 and 500 (both included)\n",
    "where each digit of a number is an even number. The numbers obtained should be\n",
    "printed in a comma-separated sequence.\n",
    "\n",
    "Result:\n",
    "200,202,204,206,208,220,222,224,226,228,240,242,244,246,248,260,262,264,266,268,280,282,284,286,288,400,402,404,406,408,420,422,424,426,428,440,442,444,446,448,460,462,464,466,468,480,482,484,486,488"
   ],
   "metadata": {
    "collapsed": false
   }
  },
  {
   "cell_type": "code",
   "execution_count": 60,
   "outputs": [
    {
     "name": "stdout",
     "output_type": "stream",
     "text": [
      "[200, 202, 204, 206, 208, 220, 222, 224, 226, 228, 240, 242, 244, 246, 248, 260, 262, 264, 266, 268, 280, 282, 284, 286, 288, 400, 402, 404, 406, 408, 420, 422, 424, 426, 428, 440, 442, 444, 446, 448, 460, 462, 464, 466, 468, 480, 482, 484, 486, 488]\n"
     ]
    }
   ],
   "source": [
    "def main():\n",
    "    result = []\n",
    "    for i in range(200, 500):\n",
    "        all_digits_even = True\n",
    "        for n in str(i):\n",
    "            if int(n) % 2 != 0:\n",
    "                all_digits_even = False\n",
    "\n",
    "        if all_digits_even:\n",
    "            result.append(i)\n",
    "\n",
    "    print(result)\n",
    "\n",
    "\n",
    "if __name__ == '__main__':\n",
    "    main()"
   ],
   "metadata": {
    "collapsed": false
   }
  },
  {
   "cell_type": "markdown",
   "source": [
    "## Exercise 6:\n",
    "Write a Python program to guess a number between 1 to 100.\n",
    "*First:* The program \"fetches\" a random number from a *self-defined function…*\n",
    "*then…* User is prompted to enter a guess. If the user guesses wrong then the user gets a message \"to big\" or \"to small\" on the console prompt and the prompt (user input) appears again until the guess is correct. On a successful guess, user will get a \"Well guessed!\" message, and the program will exit.\n",
    "\n",
    "Extension of Exercise 6:\n",
    "The number of trials should be prompted: \"Well done - you have tried it 4 times!\""
   ],
   "metadata": {
    "collapsed": false
   }
  },
  {
   "cell_type": "code",
   "execution_count": null,
   "outputs": [],
   "source": [
    "import random\n",
    "import time\n",
    "\n",
    "\n",
    "def main():\n",
    "    rnd = random.randint(0, 100)\n",
    "    found_number = False\n",
    "    counter = 0\n",
    "\n",
    "    while not found_number:\n",
    "        counter += 1\n",
    "        guess = int(input(\"Please enter your guess: \"))\n",
    "\n",
    "        if guess < rnd:\n",
    "            print(\"too small\")\n",
    "        elif guess > rnd:\n",
    "            print(\"too big\")\n",
    "        elif guess == rnd:\n",
    "            print(f\"Well done - you have tried it {counter} times!\")\n",
    "            found_number = True\n",
    "        else:\n",
    "            print(\"something went wrong\")\n",
    "            break\n",
    "\n",
    "\n",
    "if __name__ == '__main__':\n",
    "    random.seed(time.time())\n",
    "    main()"
   ],
   "metadata": {
    "collapsed": false,
    "pycharm": {
     "is_executing": true
    }
   }
  },
  {
   "cell_type": "markdown",
   "source": [
    "## Exercise 7:\n",
    "Suppose we wish to draw a Christmas tree, and its height (without tree trunk1!) is provided by the user.\n",
    "Christmas tree - desired height: 7\n",
    "\n",
    "Create a program that asks the user for the height of the Christmas tree (=input) and then draws the tree (output always with a trunk of 2 levels).\n",
    "If the height of the Christmas tree is <5, then the trunk should be 1 x wide, otherwise 3 x => xxx."
   ],
   "metadata": {
    "collapsed": false
   }
  },
  {
   "cell_type": "code",
   "execution_count": 82,
   "outputs": [
    {
     "name": "stdout",
     "output_type": "stream",
     "text": [
      "      X\n",
      "     XXX\n",
      "    XXXXX\n",
      "   XXXXXXX\n",
      "  XXXXXXXXX\n",
      " XXXXXXXXXXX\n",
      "XXXXXXXXXXXXX\n",
      "     XXX\n",
      "     XXX\n"
     ]
    }
   ],
   "source": [
    "def main():\n",
    "    height = int(input(\"Enter the height of the christmas tree\"))\n",
    "    trunk = 1\n",
    "    if height > 4:\n",
    "        trunk = 3\n",
    "\n",
    "    width = 1\n",
    "    max_width = width + (height - 1) * 2\n",
    "\n",
    "    for i in range(0, height):\n",
    "        spaces = int((max_width - width) / 2)\n",
    "        print(f\"{spaces * ' '}{width * 'X'}\")\n",
    "        width += 2\n",
    "\n",
    "    for i in range(0, 2):\n",
    "        spaces = int((max_width - trunk) / 2)\n",
    "        print(f\"{spaces * ' '}{trunk * 'X'}\")\n",
    "\n",
    "\n",
    "if __name__ == '__main__':\n",
    "    main()"
   ],
   "metadata": {
    "collapsed": false
   }
  }
 ],
 "metadata": {
  "kernelspec": {
   "display_name": "Python 3",
   "language": "python",
   "name": "python3"
  },
  "language_info": {
   "codemirror_mode": {
    "name": "ipython",
    "version": 2
   },
   "file_extension": ".py",
   "mimetype": "text/x-python",
   "name": "python",
   "nbconvert_exporter": "python",
   "pygments_lexer": "ipython2",
   "version": "2.7.6"
  }
 },
 "nbformat": 4,
 "nbformat_minor": 0
}
