{
 "cells": [
  {
   "cell_type": "markdown",
   "metadata": {},
   "source": [
    "# Dict, Set, List, Tupel - Exercise01       "
   ]
  },
  {
   "cell_type": "markdown",
   "metadata": {},
   "source": [
    "##  Dictionaries "
   ]
  },
  {
   "cell_type": "markdown",
   "metadata": {},
   "source": [
    "#### Part 4: Nested dictionaries"
   ]
  },
  {
   "cell_type": "code",
   "execution_count": null,
   "metadata": {},
   "outputs": [],
   "source": [
    "#################\n",
    "#  EXERCISE 01  #\n",
    "#################\n",
    "# How can you ensure that an English <-> French translation is also possible \n",
    "# with the existing dictionaries (and vice versa)? \n",
    "# For example: en_fr [\"red\"] => \"rouge\"\n",
    "  \n",
    "\n"
   ]
  },
  {
   "cell_type": "code",
   "execution_count": null,
   "metadata": {},
   "outputs": [],
   "source": []
  },
  {
   "cell_type": "markdown",
   "metadata": {},
   "source": [
    "#### Part 5: More methods on dictionaries\n",
    "\n",
    "Some more functions for dictionaries: **Try to understand what they do!**"
   ]
  },
  {
   "cell_type": "code",
   "execution_count": null,
   "metadata": {},
   "outputs": [],
   "source": [
    "#################\n",
    "#  EXERCISE 02  #\n",
    "#################"
   ]
  },
  {
   "cell_type": "code",
   "execution_count": null,
   "metadata": {},
   "outputs": [],
   "source": [
    "# pop (...): D.pop (k [, d]) removes the key 'k' together with its value from the dictionary.\n",
    "# The method returns the value D [k]. If 'k' does not correspond to a key, \n",
    "# a KeyError is generated, unless pop() was called with the optional parameter 'd'. \n",
    "# In this case D.pop (k, d) returns the value \"d\".\n",
    "\n",
    "\n",
    "en_ge = {\"red\" : \"rot\", \"green\" : \"grün\", \"blue\" : \"blau\", \"yellow\":\"gelb\"}\n",
    "x = en_ge.pop(\"red\")\n",
    "print(x)\n",
    "print(en_ge)\n",
    "\n",
    "print(\"*\"*80)\n",
    "# x = en_de.pop(\"brown\")            # try to uncomment: An error  occurs!\n",
    "print(x)\n",
    "x = en_ge.pop(\"brown\",\"spam\")       # if there is no \"brown\"-key in dictionary \n",
    "                                    # then \"spam\" will be returned!\n",
    "print(x)\n",
    "print(en_ge)\n"
   ]
  },
  {
   "cell_type": "code",
   "execution_count": null,
   "metadata": {},
   "outputs": [],
   "source": [
    "# popitem(...): D.popitem() wird ohne Parameter aufgerufen und liefert ein \n",
    "# beliebiges Schlüssel-Wert-Paar (k, v) zurück, was dann aus dem Dictionary \n",
    "# entfernt wird. Falls das Dictionary leer ist, wird ein KeyError generiert.\n",
    "\n",
    "# popitem (...): D.popitem () is called without parameters and returns \n",
    "# any key-value pair (k, v), which is then removed from the dictionary. \n",
    "# If the dictionary is empty, a KeyError is generated.\n",
    "\n",
    "# Form Docu: Remove and return a (key, value) pair from the dictionary. \n",
    "# Pairs are returned in LIFO order.\n",
    "\n",
    "en_ge = {\"red\" : \"rot\", \"green\" : \"grün\", \"blue\" : \"blau\", \"yellow\":\"gelb\"}\n",
    "\n",
    "print(en_ge.popitem())\n",
    "print(en_ge.popitem())\n",
    "print(en_ge.popitem())\n",
    "print(en_ge.popitem())\n",
    "print(en_ge.popitem())         # An error  occurs!\n",
    "\n"
   ]
  },
  {
   "cell_type": "code",
   "execution_count": null,
   "metadata": {},
   "outputs": [],
   "source": [
    "# setdefault (...); D.setdefault(k [, d]) sets D [k] to the value d if the\n",
    "# Key k is not yet in D. If k is already in D, this method does not change the dictionary D. \n",
    "# If the optional parameter 'd' is not specified, D [k] is set to the value 'None' \n",
    "# The method returns the value of D [k].\n",
    "\n",
    "en_ge = {\"red\" : \"rot\", \"green\" : \"grün\", \"blue\" : \"blau\"}\n",
    "print(en_ge)\n",
    "\n",
    "value1 = en_ge.setdefault(\"brown\", \"braun\")\n",
    "print(en_ge)\n",
    "print(value1)\n",
    "\n",
    "value2 = en_ge.setdefault(\"green\", \"verde\")      # nothing happens!\n",
    "print(en_ge)\n",
    "print(value2)\n",
    "\n",
    "value3 = en_ge.setdefault(\"yellow\")              # \"yellow\" is not in dictionary ... \n",
    "print(en_ge)  \n",
    "print(value3)"
   ]
  },
  {
   "cell_type": "code",
   "execution_count": null,
   "metadata": {},
   "outputs": [],
   "source": [
    "# d.update (d2): Adds a dictionary d2 to d and, if necessary, overwrites the values of existing keys in 'd'.\n",
    "\n",
    "en_ge = {\"red\" : \"rot\", \"green\" : \"grün\", \"blue\" : \"blau\"}   # this values are overwritten!\n",
    "en_ge2 = {\"yellow\":\"gelb\", \"red\":\"rötlich\"}\n",
    "en_ge.update(en_ge2)\n",
    "print(en_ge) \n",
    "\n",
    "print(\"*\"*80)\n",
    "# set the same default values as above!\n",
    "en_ge = {\"red\" : \"rot\", \"green\" : \"grün\", \"blue\" : \"blau\"}\n",
    "en_ge2 = {\"yellow\":\"gelb\", \"red\":\"rötlich\"}                  # this values are overwritten!\n",
    "en_ge2.update(en_ge)\n",
    "print(en_ge2) \n"
   ]
  },
  {
   "cell_type": "code",
   "execution_count": null,
   "metadata": {},
   "outputs": [],
   "source": []
  },
  {
   "cell_type": "markdown",
   "metadata": {},
   "source": [
    "### Exercise to Dict"
   ]
  },
  {
   "cell_type": "code",
   "execution_count": null,
   "metadata": {},
   "outputs": [],
   "source": [
    "#################\n",
    "#  EXERCISE 03  #\n",
    "#################"
   ]
  },
  {
   "cell_type": "markdown",
   "metadata": {},
   "source": [
    "Imagine we want to **internationalize the names** for a 'file menu' in a program (e.g. Word).\n",
    "The user should choose between German (=ge), English (=en), French (=fr) and Italian (=it) for his program. \n",
    "\n",
    "We want to use a **nested dictionary** in which we can do the translation for the menu items: \n",
    "\n",
    "For example from english to german\n",
    " - New      =>   Neu\n",
    " - Save     =>   Speichern\n",
    " - Save as  =>   Speichern unter\n",
    " - Print    =>   Drucken\n",
    " - ...\n",
    "\n",
    "\n",
    "**Here a table to translate the terms: **   \n",
    "      \n",
    "    \n",
    "Englisch – Deutsch – Französisch – Italienisch\\\n",
    "File – Datei – Fichier – File\\\n",
    "New – Neu – Nouveau – Nuovo\\\n",
    "Open – Öffnen – Ouvrir – Apri\\\n",
    "Save – Speichern – Enregistrer – Salva\\\n",
    "Save as – Speichern unter – Enregistrer sous – Salva come\\\n",
    "Print Preview – Druckansicht – Apercu avant impressioner – Anteprima di stampa\\\n",
    "Print – Drucken – Imprimer – Stampa\\\n",
    "Close – Schließen – Fermer – Chiudi\\\n",
    "Exit – Verlassen – Quitter – Esci\n",
    "\n",
    "#### Your task to do: \n",
    "Create a dictionary with all language information. \n",
    "Ask the user with the input-function: \"Which language?\"\n",
    "\n",
    "If the answer you entered is 'en' \n",
    "then the following output should be printed: \n",
    "\n",
    "**Which language? en\n",
    "{'file': 'File', 'new': 'New', 'open': 'Open', 'save': 'Save', 'save as': 'Save as', 'print preview': 'Print Preview', 'print': 'Print', 'close': 'Close', 'exit': 'Exit'}**\n",
    "\n",
    "If the answer you entered is 'ge' \n",
    "then the following output should be printed: \n",
    "\n",
    "**Which language? ge\n",
    "{'file': 'Datei', 'new': 'Neu', 'open': 'Öffnen', 'save': 'Speichern', 'save as': 'Speichern unter', 'print preview': 'Druckansicht', 'print': 'Drucken', 'close': 'Schließen', 'exit': 'Verlassen'}**\n",
    "\n",
    "and so on! \n"
   ]
  },
  {
   "cell_type": "code",
   "execution_count": null,
   "metadata": {},
   "outputs": [],
   "source": []
  },
  {
   "cell_type": "code",
   "execution_count": null,
   "metadata": {},
   "outputs": [],
   "source": []
  },
  {
   "cell_type": "markdown",
   "metadata": {},
   "source": [
    "###  Operations on 'set' objects: more examples\n",
    "\n",
    "Some more functions for Sets: **Try to understand what they do!**"
   ]
  },
  {
   "cell_type": "code",
   "execution_count": null,
   "metadata": {},
   "outputs": [],
   "source": [
    "#################\n",
    "#  EXERCISE 04  #\n",
    "#################\n",
    "\n",
    "# Some more functions for dictionaries: Try to understand what they do!"
   ]
  },
  {
   "cell_type": "markdown",
   "metadata": {},
   "source": [
    "#### difference()"
   ]
  },
  {
   "cell_type": "code",
   "execution_count": null,
   "metadata": {},
   "outputs": [],
   "source": [
    "# This method returns the difference between two or more quantities\n",
    "x = {\"a\",\"b\",\"c\",\"d\",\"e\"}\n",
    "y = {\"b\",\"c\"}\n",
    "z = {\"c\",\"d\"}\n",
    "print(\"x: \",x)\n",
    "print(\"y: \",y)\n",
    "print(\"z: \",z)\n",
    "\n",
    "print(\"The 'x.difference(y)' is: \", x.difference(y))\n",
    "print(\"The 'y.difference(x)' is: \", y.difference(x))    # result => empty set!!"
   ]
  },
  {
   "cell_type": "code",
   "execution_count": null,
   "metadata": {},
   "outputs": [],
   "source": [
    "# or more sophisticated\n",
    "print(x.difference(y).difference(z))"
   ]
  },
  {
   "cell_type": "code",
   "execution_count": null,
   "metadata": {},
   "outputs": [],
   "source": [
    "# instead of difference() we could use the operator '-':\n",
    "print(x - y)\n",
    "print(y - x)"
   ]
  },
  {
   "cell_type": "code",
   "execution_count": null,
   "metadata": {},
   "outputs": [],
   "source": [
    "# or\n",
    "print(x - y - z)"
   ]
  },
  {
   "cell_type": "code",
   "execution_count": null,
   "metadata": {},
   "outputs": [],
   "source": []
  },
  {
   "cell_type": "markdown",
   "metadata": {},
   "source": [
    "#### difference_update()"
   ]
  },
  {
   "cell_type": "code",
   "execution_count": null,
   "metadata": {},
   "outputs": [],
   "source": [
    "# Die Methode difference_update entfernt alle Elemente einer \n",
    "# anderen Menge aus einer Menge. „x.difference_update()” \n",
    "# ist gleichbedeutend mit „x = x - y\n",
    "\n",
    "# The method 'difference_update()' removes all elements of \n",
    "# another set out of a set. \"x.difference_update(y)\"\n",
    "# is synonymous with 'x = x - y'\n",
    "\n",
    "x = {\"a\",\"b\",\"c\",\"d\",\"e\"}\n",
    "y = {\"b\",\"c\"}\n",
    "x.difference_update(y)\n",
    "print(x)"
   ]
  },
  {
   "cell_type": "code",
   "execution_count": null,
   "metadata": {},
   "outputs": [],
   "source": [
    "# same example with 'x = x - y':\n",
    "x = {\"a\",\"b\",\"c\",\"d\",\"e\"}\n",
    "y = {\"b\",\"c\"}\n",
    "x = x - y\n",
    "print(x)"
   ]
  },
  {
   "cell_type": "markdown",
   "metadata": {},
   "source": [
    "#### discard(el)"
   ]
  },
  {
   "cell_type": "code",
   "execution_count": null,
   "metadata": {},
   "outputs": [],
   "source": [
    "# Das Element el wird aus einer Menge entfernt, falls es enthalten ist. \n",
    "# Falls el nicht in der Menge enthalten ist, passiert nichts.\n",
    "\n",
    "\n",
    "# The element 'el' ('a' in our example!) is removed from a set if it is contained.\n",
    "# If 'el' is not in the set, nothing happens.\n",
    "x = {\"a\",\"b\",\"c\",\"d\",\"e\"}\n",
    "x.discard(\"a\")\n",
    "print(x)"
   ]
  },
  {
   "cell_type": "code",
   "execution_count": null,
   "metadata": {},
   "outputs": [],
   "source": [
    "# or ... nothing happens\n",
    "x.discard(\"z\")    # z is not in the set!\n",
    "print(x)"
   ]
  },
  {
   "cell_type": "markdown",
   "metadata": {},
   "source": [
    "#### remove(el)"
   ]
  },
  {
   "cell_type": "code",
   "execution_count": null,
   "metadata": {},
   "outputs": [],
   "source": [
    "# Funktioniert wie discard(), aber falls el nicht in der Menge \n",
    "# enthalten ist, wird ein Fehler generiert, d.h. ein KeyError:\n",
    "\n",
    "# Works like discard(), but if 'el' isn't in the set\n",
    "# an error is generated, i.e. a KeyError:\n",
    "x = {\"a\",\"b\",\"c\",\"d\",\"e\"}\n",
    "x.remove(\"a\")\n",
    "print(x)"
   ]
  },
  {
   "cell_type": "code",
   "execution_count": null,
   "metadata": {},
   "outputs": [],
   "source": [
    "# or ... => now we generate an error (KeyError)\n",
    "x.remove(\"z\")\n",
    "print(x)"
   ]
  },
  {
   "cell_type": "markdown",
   "metadata": {},
   "source": [
    "#### intersection(s)"
   ]
  },
  {
   "cell_type": "code",
   "execution_count": null,
   "metadata": {},
   "outputs": [],
   "source": [
    "# Returns the intersection (= Schnittmenge) of s and the instance set.\n",
    "x = {\"a\",\"b\",\"c\",\"d\",\"e\"}\n",
    "y = {\"c\",\"d\",\"e\",\"f\",\"g\"}\n",
    "x.intersection(y)"
   ]
  },
  {
   "cell_type": "code",
   "execution_count": null,
   "metadata": {},
   "outputs": [],
   "source": [
    "# can also be formulated with the '&' sign (AND!)\n",
    "x = {\"a\",\"b\",\"c\",\"d\",\"e\"}\n",
    "y = {\"c\",\"d\",\"e\",\"f\",\"g\"}\n",
    "x & y"
   ]
  },
  {
   "cell_type": "markdown",
   "metadata": {},
   "source": [
    "#### isdisjoint()"
   ]
  },
  {
   "cell_type": "code",
   "execution_count": null,
   "metadata": {},
   "outputs": [],
   "source": [
    "# This method returns 'True', if two sets have an empty intersection\n",
    "x = {\"a\",\"b\"}\n",
    "y = {\"c\",\"d\"}\n",
    "z = {\"b\",\"c\"}\n",
    "x.isdisjoint(y)"
   ]
  },
  {
   "cell_type": "code",
   "execution_count": null,
   "metadata": {},
   "outputs": [],
   "source": [
    "# or ... 2. example: not an empty intersection\n",
    "x.isdisjoint(z)"
   ]
  },
  {
   "cell_type": "markdown",
   "metadata": {},
   "source": [
    "#### issubset()"
   ]
  },
  {
   "cell_type": "code",
   "execution_count": null,
   "metadata": {},
   "outputs": [],
   "source": [
    "# x.issubset (y) returns 'True' if x is a subset of y. \n",
    "# '<='' can be used instead of calling the method issubset().\n",
    "\n",
    "# '<' checks whether it is a real subset:\n",
    "# If x < y, then y contains at least one element that is not contained in x.\n",
    "\n",
    "# Warning: write down your solution BEFORE pressing Shift + Enter\n",
    "# on one sheet - otherwise the learning effect is very low!\n",
    "\n",
    "\n",
    "x = {\"a\",\"b\",\"c\",\"d\",\"e\"}\n",
    "y = {\"c\",\"d\"}\n",
    "print(\"x.issubset(y):\", x.issubset(y))\n",
    "print(\"y.issubset(x):\", y.issubset(x))\n",
    "\n",
    "x < y\n",
    "print(\"x < y:\", x < y)\n",
    "\n",
    "y < x                     # y is a proper subset of x\n",
    "print(\"y < x:\", y < x )\n",
    "\n",
    "x < x                     # a set can never be a true subset of itself.\n",
    "print(\"x < x:\", x < x )\n",
    "\n",
    "x <= x\n",
    "print(\"x <= x:\",x <= x )"
   ]
  },
  {
   "cell_type": "code",
   "execution_count": null,
   "metadata": {},
   "outputs": [],
   "source": []
  },
  {
   "cell_type": "markdown",
   "metadata": {},
   "source": [
    "#### issuberset()"
   ]
  },
  {
   "cell_type": "code",
   "execution_count": null,
   "metadata": {},
   "outputs": [],
   "source": [
    "# x.issuperset (y) returns True if x is a superset of y. \n",
    "# '> =' can be used instead of calling the issuperset()-method. \n",
    "# A single greater than sign '>' checks whether it is a true superset: \n",
    "# If x > y, then x contains at least one element that is not contained in y.\n",
    "\n",
    "# Warning: write down the solution BEFORE pressing Shift + Enter\n",
    "# on one sheet - otherwise the learning effect is very low!\n",
    "\n",
    "\n",
    "x = {\"a\",\"b\",\"c\",\"d\",\"e\"}\n",
    "y = {\"c\",\"d\"}\n",
    "\n",
    "x.issuperset(y)\n",
    "print(\"x.issuperset(y):\", x.issuperset(y) )\n",
    "\n",
    "x > y\n",
    "print(\"x > y:\", x > y )\n",
    "\n",
    "x >= y\n",
    "print(\"x >= y:\", x >= y )\n",
    "\n",
    "x >= x\n",
    "print(\"x >= x:\", x >= x )\n",
    "\n",
    "x > x\n",
    "print(\"x > x:\", x > x )\n",
    "\n",
    "x.issuperset(x)\n",
    "print(\"x.issuperset(x):\", x.issuperset(x) )\n"
   ]
  },
  {
   "cell_type": "markdown",
   "metadata": {},
   "source": [
    "#### pop()"
   ]
  },
  {
   "cell_type": "code",
   "execution_count": null,
   "metadata": {},
   "outputs": [],
   "source": [
    "# pop() remove and return an arbitrary element from the set. \n",
    "# This arbitraray element is removed from the set. The method generates a KeyError if the set is empty.\n",
    "\n",
    "\n",
    "# Attention: write down the solution BEFORE pressing Shift + Enter on a sheet of paper - \n",
    "# otherwise the learning effect is very small!\n",
    "\n",
    "x = {\"1\",\"a\",\"b\",\"c\",\"d\",\"e\"}\n",
    "print(\"x:\", x)\n",
    "\n",
    "print(\"x.pop():\", x.pop() )\n",
    "print(\"x:\", x)\n",
    "print(\"x.pop():\", x.pop() )\n",
    "print(\"x:\", x)"
   ]
  },
  {
   "cell_type": "code",
   "execution_count": null,
   "metadata": {},
   "outputs": [],
   "source": []
  },
  {
   "cell_type": "markdown",
   "metadata": {},
   "source": [
    "## Lists and tuples in detail"
   ]
  },
  {
   "cell_type": "markdown",
   "metadata": {},
   "source": [
    "####  '+'-Operator and append \n",
    "\n",
    "Try to find out what exactly the program below does. You will have a similar task to solve below."
   ]
  },
  {
   "cell_type": "code",
   "execution_count": null,
   "metadata": {},
   "outputs": [],
   "source": [
    "# This is the same code as in the theory file. So you don't have to copy it!\n",
    "\n",
    "\n",
    "# In addition to \"append (), you can also append something with the '+' operator\n",
    "L1 = [3,4]\n",
    "print(L1)\n",
    "\n",
    "L2 = L1 + [42]           # new way of attaching something\n",
    "print(L2)\n",
    "\n",
    "\n",
    "L3 = [3,4]\n",
    "print(L3)\n",
    "L3 += [42]              # a shorter way (C-style!!)\n",
    "print(L3)\n",
    "\n",
    "# Logically, both of the above approaches are equivalent,\n",
    "# i.e. they give the same results ... BUT: \n",
    "\n",
    "\n",
    "###############\n",
    "#  IMPORTANT  #\n",
    "###############\n",
    "# Question: What effect do these types of \"attachment\" have on\n",
    "#           the runtime behavior?\n",
    "#           We also investigate the append() method in the next scirpt: \n",
    "\n",
    "import time\n",
    "n= 100000\n",
    "start_time = time.time()\n",
    "l = []\n",
    "for i in range(n):\n",
    "    l = l + [i * 2]\n",
    "usedTime1 =  time.time() - start_time   \n",
    "print(\"runtime behavior for 'l = l + [i * 2]': Used time: \", usedTime1)\n",
    "\n",
    "start_time = time.time()\n",
    "l = []\n",
    "for i in range(n):\n",
    "    l += [i * 2]\n",
    "usedTime2 =  time.time() - start_time       \n",
    "print(\"runtime behavior for 'l += [i * 2]':    Used time: \", usedTime2)    \n",
    "\n",
    "start_time = time.time()\n",
    "l = []\n",
    "for i in range(n):\n",
    "    l.append(i * 2) \n",
    "usedTime3 =  time.time() - start_time      \n",
    "print(\"runtime behavior for 'l.append(i * 2)': Used time: \", usedTime3)       \n",
    "\n",
    "res1 = usedTime1/usedTime2\n",
    "res2 = usedTime1/usedTime3\n",
    "\n",
    "print(\"'l += [i * 2]' is \" + str(int(res1)) + \" faster then 'l = l + [i * 2]'\")\n",
    "print(\"'l.append(i * 2)' is \" + str(int(res2)) + \" faster then 'l = l + [i * 2]'\")\n",
    "\n",
    "# You have to remember this result for your entire Python-career! (IMPORTANT)"
   ]
  },
  {
   "cell_type": "markdown",
   "metadata": {},
   "source": [
    "### Exercise: insert(len,) VS append()\n",
    "\n",
    "Try to find out what's the impact of the different line of code in A) and B)!"
   ]
  },
  {
   "cell_type": "code",
   "execution_count": null,
   "metadata": {},
   "outputs": [],
   "source": [
    "#################\n",
    "#  EXERCISE 05  #\n",
    "#################\n",
    "\n",
    "\n",
    "# small academic gymnastics exercise: ;-)\n",
    "\n",
    "# A) The behavior of the \"append\" method can be simulated very easily with \"insert\":\n",
    "\n",
    "abc = [\"a\",\"b\",\"c\"]\n",
    "print(abc)\n",
    "abc.insert(len(abc),\"d\")\n",
    "print(abc)\n",
    "\n",
    "# B) with append it would work like this:\n",
    "abc = [\"a\",\"b\",\"c\"]\n",
    "print(abc)\n",
    "abc.append(\"d\")\n",
    "print(abc)\n",
    "\n",
    "\n",
    "\n",
    "################################################################\n",
    "# Do to: \n",
    "# Try to find out which of the version above (A or B) is faster\n",
    "# in a loop of 100'000 \n",
    "################################################################\n",
    "\n",
    "# A)\n",
    "import time\n",
    "n= 100000\n",
    "\n",
    "\n",
    "\n",
    "\n",
    "# B)\n",
    "import time\n",
    "n= 100000\n",
    "\n",
    "\n",
    "\n",
    "# result:  ??           \n",
    "\n",
    "\n",
    "\n"
   ]
  },
  {
   "cell_type": "code",
   "execution_count": null,
   "metadata": {},
   "outputs": [],
   "source": []
  },
  {
   "cell_type": "markdown",
   "metadata": {},
   "source": [
    "## Sorting lists"
   ]
  },
  {
   "cell_type": "markdown",
   "metadata": {},
   "source": [
    "####  What is the difference between 'sort ()' and 'sorted ()'?"
   ]
  },
  {
   "cell_type": "code",
   "execution_count": null,
   "metadata": {},
   "outputs": [],
   "source": [
    "# This is the same code as in the theory file. So you don't have to copy it!\n",
    "\n",
    "# There are 2 ways to sort lists:\n",
    "\n",
    "# A) the sort (...) method of the list class (which sorts the list 'inplace'\n",
    "#    => see: https://de.wikipedia.org/wiki/In-place)\n",
    "\n",
    "# B) the built-in function sorted (...), which turns an iterator object into a new sorted list\n",
    "#    (the term 'iterator': An object that 'runs' through something   => more later ...)\n",
    "\n",
    "# to A) i.e. sort (...):\n",
    "liste = [32,7,12,20,8]\n",
    "print(liste)\n",
    "res3 = liste.sort()         # 'inplace' sorted (no new list created)\n",
    "print(res3)                 # that means sort (...) returns NOTHING (= None)\n",
    "print(\"sort-list: \", liste)\n",
    "\n",
    "\n",
    "print(\"*\"* 80)\n",
    "# to B) i.e. sorted (...) => returns a new (!) sorted list !!!\n",
    "liste = [32,7,12,20,8]\n",
    "print(liste)\n",
    "res4 = sorted(liste)\n",
    "print(\"sorted-list:\", res4)\n",
    "print(liste)\n"
   ]
  },
  {
   "cell_type": "code",
   "execution_count": null,
   "metadata": {},
   "outputs": [],
   "source": [
    "#################\n",
    "#  EXERCISE 06  #\n",
    "#################\n",
    "\n",
    "# Do to: Try to find out which of the version above (A or B) is faster\n",
    "# in a loop of 100'000 \n",
    "\n",
    "# A)\n",
    "import time\n",
    "n= 100000\n",
    "\n",
    "\n",
    "\n",
    "# B)\n",
    "import time\n",
    "n= 100000\n",
    "\n"
   ]
  },
  {
   "cell_type": "code",
   "execution_count": null,
   "metadata": {},
   "outputs": [],
   "source": []
  },
  {
   "cell_type": "markdown",
   "metadata": {},
   "source": [
    "#### Define your own sorting functions\n",
    "Try to follow this examples!"
   ]
  },
  {
   "cell_type": "code",
   "execution_count": null,
   "metadata": {},
   "outputs": [],
   "source": [
    "#################\n",
    "#  EXERCISE 07  #\n",
    "#################\n",
    "\n",
    "\n",
    "# Advanced but helpful:\n",
    "# Write your own function for sorting\n",
    "# Example: Sort all list elements according to the 2nd letter of the list elements\n",
    "\n",
    "\n",
    "# Starting point: \n",
    "l = [\"yellow\", \"Green\", \"blue\", \"Black\", \"red\"]\n",
    "\n",
    "# our goal: A list sorted to the 2nd letter of the list elements:\n",
    "sec_letter_sort = [\"yellow\", \"red\", \"blue\", \"Black\", \"Green\"]\n",
    "\n",
    "\n",
    "# give back the second letter of a string\n",
    "def secondLetter(n):\n",
    "    # returnvalue = n[1]\n",
    "    return n[1]\n",
    "\n",
    "print(sorted(l, key=secondLetter))\n",
    "\n"
   ]
  },
  {
   "cell_type": "code",
   "execution_count": null,
   "metadata": {},
   "outputs": [],
   "source": [
    "# This section is a little bit too early for your level of knowledge. Sorry! ;-) \n",
    "# But: You should 'visit' this code again towards the end of the lecture!\n",
    "# Have fun! \n",
    "\n",
    "# We will look at the 'lambda notation' in detail later ... => ingenious feature!\n",
    "# Now simply as an \"outlook\", as you can later sort very elegantly!\n",
    "\n",
    "# With the lambda notation, telephone entries can be sorted according to e.g. \n",
    "# first names, surnames or numbers!\n",
    "\n",
    "phone = [(\"John\", \"Miller\", \"4567\"), (\"Tina\", \"Baker\", \"4289\"), \n",
    "         (\"Randy\", \"Steiner\", \"4103\")]\n",
    "\n",
    "print(sorted(phone, key=lambda x:x[0]))         # sort by x[0] i.e. First name\n",
    "\n",
    "# Result: [('John', 'Miller', '4567'), ('Randy', 'Steiner', '4103'), \n",
    "#          ('Tina', 'Baker', '4289')]\n",
    "\n",
    "\n",
    "print(sorted(phone, key=lambda x:x[1]))         # sort by x[1] i.e. Surname\n",
    "                                                                 \n",
    "# Result: [('Tina', 'Baker', '4289'), ('John', 'Miller', '4567'), \n",
    "#          ('Randy', 'Steiner', '4103')]\n",
    "\n",
    "\n",
    "sorted(phone, key=lambda x:x[2])                # sort by x[2] i.e. Postcode\n",
    "                                                                 \n",
    "# Result: [('Randy', 'Steiner', '4103'), ('Tina', 'Baker', '4289'), \n",
    "#          ('John', 'Miller', '4567')]\n"
   ]
  },
  {
   "cell_type": "code",
   "execution_count": null,
   "metadata": {},
   "outputs": [],
   "source": []
  }
 ],
 "metadata": {
  "kernelspec": {
   "display_name": "Python 3 (ipykernel)",
   "language": "python",
   "name": "python3"
  },
  "language_info": {
   "codemirror_mode": {
    "name": "ipython",
    "version": 3
   },
   "file_extension": ".py",
   "mimetype": "text/x-python",
   "name": "python",
   "nbconvert_exporter": "python",
   "pygments_lexer": "ipython3",
   "version": "3.9.5"
  }
 },
 "nbformat": 4,
 "nbformat_minor": 2
}
