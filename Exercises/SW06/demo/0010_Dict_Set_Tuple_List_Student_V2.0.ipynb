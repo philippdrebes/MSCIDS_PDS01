{
 "cells": [
  {
   "cell_type": "markdown",
   "metadata": {},
   "source": [
    "# Dict, Set, List, Tupel      "
   ]
  },
  {
   "cell_type": "markdown",
   "metadata": {},
   "source": [
    "##  Dictionaries "
   ]
  },
  {
   "cell_type": "markdown",
   "metadata": {},
   "source": [
    "### Part 1 to part 8: Miscellaneous about dictionaries"
   ]
  },
  {
   "cell_type": "markdown",
   "metadata": {},
   "source": [
    "#### Part1:  Definition and use of Dictionaries\n",
    "Go first to:  https://docs.python.org/3/library/stdtypes.html#dict"
   ]
  },
  {
   "cell_type": "code",
   "execution_count": null,
   "metadata": {},
   "outputs": [],
   "source": [
    "# simplest case of a dictionary:\n",
    "empty = {}\n",
    "print(empty)  "
   ]
  },
  {
   "cell_type": "code",
   "execution_count": null,
   "metadata": {},
   "outputs": [],
   "source": [
    "# The \"godfather\" of Python i.e. For Monty Python's sake:\n",
    "food = {\"ham\" : \"yes\", \"egg\" : \"yes\", \"spam\" : \"no\"}\n",
    "print(food)\n",
    " \n",
    "\n",
    "print(food[\"ham\"])          # print out the 'value' of the key 'ham'\n",
    "print(food[\"egg\"])\n",
    "print(food[\"spam\"])\n",
    "\n",
    "# change value of the key 'spam'\n",
    "food[\"spam\"] = \"yes\"\n",
    "\n",
    "\n",
    "print(food)"
   ]
  },
  {
   "cell_type": "code",
   "execution_count": null,
   "metadata": {},
   "outputs": [],
   "source": [
    "# Create a simple English-German dictionary:\n",
    "en_ge = {\"red\" : \"rot\", \"green\" : \"grün\", \"blue\" : \"blau\", \"yellow\":\"gelb\"}\n",
    "print(en_ge)\n",
    "\n",
    "print(en_ge[\"blue\"])        # print out the 'value' of the key 'blue'\n",
    "print(en_ge[\"green\"])\n"
   ]
  },
  {
   "cell_type": "code",
   "execution_count": null,
   "metadata": {},
   "outputs": [],
   "source": []
  },
  {
   "cell_type": "markdown",
   "metadata": {},
   "source": [
    "#### Part 2: Error-free access to dictionaries"
   ]
  },
  {
   "cell_type": "code",
   "execution_count": null,
   "metadata": {},
   "outputs": [],
   "source": [
    "# check if an element is in dictionary with 'in'\n",
    "en_ge = {\"red\" : \"rot\", \"green\" : \"grün\", \"blue\" : \"blau\"}\n",
    "\n",
    "print(\"red\" in en_ge)\n",
    "print(\"rot\" in en_ge)           # ?? ...why???\n",
    "\n",
    "print(\"brown\" in en_ge)\n",
    "\n",
    "# Note: We have not yet solved: Is 'rot' in en_ge? 'rot' is a 'value' not a key!!"
   ]
  },
  {
   "cell_type": "code",
   "execution_count": null,
   "metadata": {},
   "outputs": [],
   "source": [
    "# Start the program twice: a) with input 'red' b) with input 'brown'\n",
    "en_ge = {\"red\" : \"rot\", \"green\" : \"grün\", \"blue\" : \"blau\"}\n",
    "\n",
    "colour = input(\"Color? \")\n",
    "\n",
    "if colour in en_ge:\n",
    "    print(\"The color '\" + colour + \"' is a key.\")\n",
    "    print(\"The german word for '\" + colour + \"' is '\" + en_ge[colour] + \"'.\")\n",
    "else:\n",
    "    print(\"Th color \" + colour + \" is not yet a key.\")\n",
    "    colour_ge = input(\"German for \" + colour + \"? \")\n",
    "    en_ge[colour] = colour_ge\n",
    "    print(\"Now we know too \" + colour + \":\")\n",
    "    print(en_ge)\n",
    "     "
   ]
  },
  {
   "cell_type": "code",
   "execution_count": null,
   "metadata": {},
   "outputs": [],
   "source": [
    "# Example from a previous exam: Create a small program that allows you \n",
    "#                               to create a German - English dictionary (german \"Woerterbuch\")\n",
    "\n",
    "\n",
    "dictionary_ge_en = {}\n",
    "\n",
    "german_word = input(\"German word? \")\n",
    "\n",
    "if german_word in dictionary_ge_en:\n",
    "    print(\"The word \", german_word, \" has already been recorded!\")\n",
    "else:\n",
    "    eng_word = input(\"English word for '\" + german_word + \"'?\")\n",
    "    dictionary_ge_en[german_word] = eng_word\n",
    "    \n",
    "print(\"Current Ge <-> En dictionary: \", dictionary_ge_en)    \n",
    "\n",
    "# now there would be a loop to create more then one Ge <-> En word (with break off)\n",
    "# now the data would still be written to the file"
   ]
  },
  {
   "cell_type": "code",
   "execution_count": null,
   "metadata": {},
   "outputs": [],
   "source": []
  },
  {
   "cell_type": "markdown",
   "metadata": {},
   "source": [
    "#### Part 3: Allowed types for keys and values\n",
    "\n",
    "**Note:** Instances of all **immutable data types** can be used as **keys**!\\\n",
    "Please have a look at https://docs.python.org/3/library/stdtypes.html#index-20"
   ]
  },
  {
   "cell_type": "code",
   "execution_count": null,
   "metadata": {},
   "outputs": [],
   "source": [
    "\n",
    "city_GPS = { (52.520007, 13.404954): \"Berlin\",                       # a tuple as key => tuples are immutable!\n",
    "             (47.767097,8.872239):   \"Singen am Hohentwiel\" }\n",
    "\n",
    "ports = {21:\"File Transfer Protocol (FTP)\",                          # int as key  => int are immutable!\n",
    "         22:\"Secure Shell (SSH)\", \n",
    "         23:\"Telnet remote login service\"}\n",
    "\n",
    "adressen = {\"Henry\":[ (\"Henry\", \"Peterson\"), 20016, \"Hamburg\"]}      # 'string' as key => strings ar immutable!\n",
    "  \n",
    "print(city_GPS)\n",
    "print(ports)\n",
    "print(adressen)    "
   ]
  },
  {
   "cell_type": "code",
   "execution_count": null,
   "metadata": {},
   "outputs": [],
   "source": [
    "# If we use a 'variable value' as a key (e.g. a list)\n",
    "# what happens => ??? (logical!)\n",
    "\n",
    "dic = { [1,2,3]:\"abc\"}"
   ]
  },
  {
   "cell_type": "code",
   "execution_count": null,
   "metadata": {},
   "outputs": [],
   "source": [
    "# How can you get out of a tight spot?  => use tuples instead of list!\n",
    "dic1 = { (1,2,3):\"abc\"}\n",
    "print(dic1)\n",
    "\n",
    "dic2 = { 3.1415:\"abc\"}\n",
    "print(dic2)                       \n",
    "\n",
    "# in one step \n",
    "dic3 = { (1,2,3):\"abc\", 3.1415:\"abc\"}\n",
    "print(dic3)\n",
    "\n",
    "\n",
    "# PS Why does the example 'dict1' not work with  [1,2,3]?"
   ]
  },
  {
   "cell_type": "code",
   "execution_count": null,
   "metadata": {},
   "outputs": [],
   "source": []
  },
  {
   "cell_type": "markdown",
   "metadata": {},
   "source": [
    "#### Part 4: Nested dictionaries"
   ]
  },
  {
   "cell_type": "code",
   "execution_count": null,
   "metadata": {},
   "outputs": [],
   "source": [
    "# You can also nest dictionaries\n",
    "en_ge = {\"red\" : \"rot\", \"green\" : \"grün\", \"blue\" : \"blau\", \"yellow\":\"gelb\"}\n",
    "ge_en = {\"rot\" : \"red\", \"grün\" : \"green\", \"blau\" : \"blue\", \"gelb\":\"yellow\"}   \n",
    "fr_ge = {\"rouge\":\"rot\", \"vert\" : \"grün\",  \"bleu\" : \"blau\", \"jaune\": \"gelb\"}\n",
    "ge_fr = {\"rot\" : \"rouge\", \"grün\" : \"vert\", \"blau\" : \"bleu\",\"gelb\":\"jaune\"}\n",
    "\n",
    "\n",
    "dictionaries = {\"en_ge\" : en_ge, \"ge_fr\" : ge_fr, \"ge_en\" : ge_en, \"fr_ge\" : fr_ge }\n",
    "\n",
    "print(dictionaries)                     # You must understand this command line. \n",
    "                                        # Take a look at the output! This is important!!!\n",
    "    \n",
    "print(dictionaries[\"ge_fr\"])  \n",
    "# dito:\n",
    "print(ge_fr)\n",
    "    \n",
    "print(dictionaries[\"ge_fr\"][\"blau\"])    # if the line was understood before, then that's clearer!\n",
    "print(ge_fr[\"blau\"])\n",
    "\n",
    "\n",
    "# ... all right? Do another 2-3 examples yourself! It is worth it!"
   ]
  },
  {
   "cell_type": "code",
   "execution_count": null,
   "metadata": {},
   "outputs": [],
   "source": [
    "# more examples with nested dictionaries:\n",
    "print(dictionaries[\"en_ge\"][\"red\"])\n",
    "print(dictionaries[\"fr_ge\"][\"rouge\"])"
   ]
  },
  {
   "cell_type": "code",
   "execution_count": null,
   "metadata": {},
   "outputs": [],
   "source": [
    "#################\n",
    "#  EXERCISE 01  #\n",
    "#################\n",
    "# How can you ensure that an English <-> French translation is also possible \n",
    "# with the existing dictionaries (and vice versa)? \n",
    "# For example: en_fr [\"red\"] => \"rouge\"\n",
    "\n"
   ]
  },
  {
   "cell_type": "code",
   "execution_count": null,
   "metadata": {},
   "outputs": [],
   "source": []
  },
  {
   "cell_type": "code",
   "execution_count": null,
   "metadata": {},
   "outputs": [],
   "source": []
  },
  {
   "cell_type": "markdown",
   "metadata": {},
   "source": [
    "#### Part 5: Methods on dictionaries"
   ]
  },
  {
   "cell_type": "code",
   "execution_count": null,
   "metadata": {},
   "outputs": [],
   "source": [
    "# clear(....) : Deletes entries from the dictionary\n",
    "en_ge = {\"red\" : \"rot\", \"green\" : \"grün\", \"blue\" : \"blau\", \"yellow\":\"gelb\"}\n",
    "en_ge.clear()\n",
    "print(en_ge)"
   ]
  },
  {
   "cell_type": "code",
   "execution_count": 1,
   "metadata": {},
   "outputs": [
    {
     "name": "stdout",
     "output_type": "stream",
     "text": [
      "{'red': 'rot', 'green': 'grün', 'blue': 'blau', 'yellow': 'gelb'}\n",
      "{'red': 'rot', 'green': 'grün', 'blue': 'blau', 'yellow': 'gelblich'}\n",
      "{'red': 'rot', 'green': 'grün', 'blue': 'blau', 'yellow': 'gelblich'}\n"
     ]
    }
   ],
   "source": [
    "# Is with this example somethin \"wrong\"  ... what?\n",
    "# Are we creating a copy of an object?            Answer: NO! (Not even a \"shallow copy\"!)\n",
    "\n",
    "# Attention: Often a source of error for beginners !!!!\n",
    "\n",
    "en_ge = {\"red\" : \"rot\", \"green\" : \"grün\", \"blue\" : \"blau\", \"yellow\":\"gelb\"}\n",
    "print(en_ge)\n",
    "\n",
    "d_new1 = en_ge                    # create a new variable 'd_new1' => points to the same memory-point like 'en_ge'\n",
    "                                  # thats NO copy of the object en_ge .... why? \n",
    "\n",
    "d_new1[\"yellow\"] = \"gelblich\"     # change one value of the dictionary 'd_new1'\n",
    "print(d_new1)\n",
    "print(en_ge)                      # amazed! => what happes? "
   ]
  },
  {
   "cell_type": "code",
   "execution_count": null,
   "metadata": {},
   "outputs": [],
   "source": [
    "# ... and now a \"real\" copy with en_ge.copy ()\n",
    "en_ge = {\"red\" : \"rot\", \"green\" : \"grün\", \"blue\" : \"blau\", \"yellow\":\"gelb\"}\n",
    "d_new2 = en_ge.copy()\n",
    "d_new2[\"yellow\"] = \"gelblich\"\n",
    "print(d_new2)\n",
    "print(en_ge)\n",
    "\n",
    "# Can you explain with a sketch what exactly happened there?"
   ]
  },
  {
   "cell_type": "markdown",
   "metadata": {},
   "source": [
    "It's possible to create **lists from dictionaries** by using the methods **items(), keys() and values()**. \n",
    "- As the name implies the method **keys()** creates a list, which consists solely of the keys of the dictionary. \n",
    "- **values()** produces a list consisting of the values. \n",
    "- **items()** can be used to create a list consisting of 2-tuples of (key,value)-pairs:"
   ]
  },
  {
   "cell_type": "code",
   "execution_count": null,
   "metadata": {},
   "outputs": [],
   "source": [
    "# items (...): D.items () returns an object of the type \"dict_item\", \n",
    "# which corresponds to a 'view' (list of tuple) of the key-value pairs.\n",
    "\n",
    "en_ge = {\"red\" : \"rot\", \"green\" : \"grün\", \"blue\" : \"blau\", \"yellow\":\"gelb\"}\n",
    "items = en_ge.items()\n",
    "print(type(items))\n",
    "print(items)\n",
    "print(list(items))\n",
    "\n",
    "\n",
    "\n",
    "print(\"*\"*80)             \n",
    "# keys(...): D.keys() returns an object of the type \"dict_keys\", \n",
    "# which corresponds to a 'view' (list) of the keys.\n",
    "\n",
    "en_ge = {\"red\" : \"rot\", \"green\" : \"grün\", \"blue\" : \"blau\", \"yellow\":\"gelb\"}\n",
    "keys = en_ge.keys()\n",
    "print(type(keys))\n",
    "print(keys)\n",
    "print(list(keys))         \n",
    "\n",
    "print(\"*\"*80)    \n",
    "# values(...): D.values() returns an object of the type \"dict_values\", \n",
    "# which corresponds to a 'view' (list) of the values.\n",
    "\n",
    "en_ge = {\"red\" : \"rot\", \"green\" : \"grün\", \"blue\" : \"blau\", \"yellow\":\"gelb\"}\n",
    "values = en_ge.values()\n",
    "print(type(values))\n",
    "print(values) \n",
    "\n",
    "# small addition: \n",
    "# two additional frequently used commands\n",
    "print(\"*\"*80)\n",
    "print(', '.join(list(values)))            # convert a 'list of strings' to one string!\n",
    "print(str(list(values))[1:-1]  )          # How to remove square brackets from list in Python? \n",
    "\n"
   ]
  },
  {
   "cell_type": "code",
   "execution_count": null,
   "metadata": {},
   "outputs": [],
   "source": [
    "#################\n",
    "#  EXERCISE 02  #\n",
    "#################\n",
    "\n",
    "# In the exercise you will find some more for dictionaries: Try to understand what they do!"
   ]
  },
  {
   "cell_type": "markdown",
   "metadata": {},
   "source": [
    "#### Part 6: len operator on dictionaries"
   ]
  },
  {
   "cell_type": "code",
   "execution_count": null,
   "metadata": {},
   "outputs": [],
   "source": [
    "# Note:  on all Dictonaries the function len() is defined. It returns the number of items (key/value) pairs.\n",
    "en_ge = {\"red\" : \"rot\", \"green\" : \"grün\", \"blue\" : \"blau\", \"yellow\":\"gelb\"}\n",
    "print(len(en_ge))\n"
   ]
  },
  {
   "cell_type": "code",
   "execution_count": null,
   "metadata": {},
   "outputs": [],
   "source": []
  },
  {
   "cell_type": "markdown",
   "metadata": {},
   "source": [
    "#### Part 7: The 'zip' function \n",
    "'zip' is actually a class ... more later!"
   ]
  },
  {
   "cell_type": "code",
   "execution_count": null,
   "metadata": {},
   "outputs": [],
   "source": [
    "# 'zip' is used to create dictionaries from two lists with certain properties. \n",
    "# 'zip' can also be used to reverse certain dictionaries.\n",
    "\n",
    "names = [\"Peter\", \"Sarah\", \"Maria\", \"Frank\", \"Eddie\"]\n",
    "fruit = [\"Apples\", \"Pears\", \"Bananas\", \"Cherries\", \"Oranges\"]\n",
    "\n",
    "print(zip(names,fruit))\n",
    "print(list(zip(names,fruit)))\n",
    "print(tuple(zip(names,fruit)))\n",
    "print(dict(zip(names,fruit)))\n",
    "\n",
    "for n, f in zip(names, fruit):\n",
    "    print(n + \" loves \" + f) "
   ]
  },
  {
   "cell_type": "code",
   "execution_count": null,
   "metadata": {},
   "outputs": [],
   "source": [
    "# A first use case for 'zip' in 'linear algebra' or e.g. at Excel:\n",
    "# If you have to transpose a matrix => use the zip-function: \n",
    "\n",
    "z1 = [11, 12, 13]\n",
    "z2 = [21, 22, 23]\n",
    "z3 = [31, 32, 33]\n",
    "print(z1)\n",
    "print(z2)\n",
    "print(z3)\n",
    "\n",
    "T = zip(z1, z2, z3)           # transpose the matrix! \n",
    "print(T, type(T))\n",
    "print(list(T))                # how often list (...) only outputs values from the list.\n",
    "                              # our original matrix is transposed!\n",
    "\n",
    "# access this object again => we get an empty list! (More later ... !)\n",
    "print(list(T))                # From a 'zip object' T we can generate a list only one time! \n",
    "                              # After that, the zip object is \"used up\" i.e. we have iterated through each element.\n",
    "                            "
   ]
  },
  {
   "cell_type": "code",
   "execution_count": null,
   "metadata": {},
   "outputs": [],
   "source": [
    "# A second use case for 'zip': Link two flat lists or tuples together:\n",
    "l1 = [11, 12, 13, 14]\n",
    "l2 = [21, 22, 23, 24]\n",
    "print(l1)\n",
    "print(l2)\n",
    "print(zip(l1,l2))\n",
    "print(list(zip(l1,l2)))"
   ]
  },
  {
   "cell_type": "code",
   "execution_count": null,
   "metadata": {},
   "outputs": [],
   "source": []
  },
  {
   "cell_type": "markdown",
   "metadata": {},
   "source": [
    "#### Part 8: Create dictionaries from lists "
   ]
  },
  {
   "cell_type": "code",
   "execution_count": null,
   "metadata": {},
   "outputs": [],
   "source": [
    "# A third use case für 'zip' (now with 'strings instead of int's)\n",
    "\n",
    "dishes = [\"pizza\", \"sauerkraut\", \"paella\", \"hamburger\"]\n",
    "countries = [\"Italy\", \"Germany\", \"Spain\", \"USA\"]\n",
    "country_specialities_iterator = zip(countries, dishes)\n",
    "print(country_specialities_iterator)    # more about iterators later ....!\n",
    "\n",
    "country_specialities = list(country_specialities_iterator)\n",
    "print(country_specialities) \n",
    "\n",
    "country_specialities = list(country_specialities_iterator)\n",
    "print(country_specialities)             # only one time possible\n",
    "\n",
    "\n",
    "for country, dish in zip(countries, dishes):\n",
    "    print(country, dish)\n",
    "    \n",
    "# It's possible to generate dictionaries from list of tuple...    \n",
    "# above we saw: list(zip(counties, dishes)) produce a list of tuple!\n",
    "\n",
    "print(list(zip(countries, dishes))) \n",
    "\n",
    "\n",
    "# we can convert this list of tuples in a dictionary:\n",
    "dict01 = dict(list(zip(countries, dishes)))\n",
    "print(dict01)\n",
    "print(dict01)             # we can use dict01 more then one time!\n",
    "\n",
    "bestMenuItaly = dict01['Italy']\n",
    "print(bestMenuItaly)"
   ]
  },
  {
   "cell_type": "code",
   "execution_count": null,
   "metadata": {},
   "outputs": [],
   "source": [
    "#################\n",
    "#  EXERCISE 03  #\n",
    "#################\n",
    "\n",
    "# There is an 'Exercise to Dict' what you have to solve!"
   ]
  },
  {
   "cell_type": "markdown",
   "metadata": {},
   "source": [
    "##  Sets  "
   ]
  },
  {
   "cell_type": "markdown",
   "metadata": {},
   "source": [
    "In 1874 Georg Cantor defined what is a **'set'** in **'set theory'**:\n",
    "\n",
    "By a **'set'** we understand every combination M of certain well-differentiated objects m\\\n",
    "of our intuition or our thinking (which are called the **'elements'** of M) into a whole."
   ]
  },
  {
   "cell_type": "markdown",
   "metadata": {},
   "source": [
    "### Create a set\n",
    "A **set** can be created in Python as in mathematics. The **'mathematical notation'** is used:"
   ]
  },
  {
   "cell_type": "code",
   "execution_count": null,
   "metadata": {},
   "outputs": [],
   "source": [
    "cities1 = {'Bern', 'Lucerne', 'Zurich', 'Basel'}\n",
    "print(cities1)\n",
    "\n",
    "# So curly braces are not only used for dictionaries. \n",
    "# You can see the difference immediately, because no 'key':'value' pairs are noted in a 'set'!"
   ]
  },
  {
   "cell_type": "code",
   "execution_count": null,
   "metadata": {},
   "outputs": [],
   "source": [
    "# is one element in a set?\n",
    "# use'in' operator\n",
    "\n",
    "print('Lucerne' in cities1)\n",
    "print('Chur' in cities1)"
   ]
  },
  {
   "cell_type": "code",
   "execution_count": null,
   "metadata": {},
   "outputs": [],
   "source": [
    "# the built-in function 'set ()' can be used to e.g. convert a tuple, a list, etc. into a set.\n",
    "\n",
    "myCityList = ['Bern', 'Lucerne', 'Zurich', 'Basel', 'Chur', 'Geneva', 'Lucerne', 'Lucerne']\n",
    "myCityTuple = ('Bern', 'Lucerne', 'Zurich', 'Basel', 'Chur', 'Geneva', 'Lucerne', 'Lucerne')\n",
    "\n",
    "# we see: our List and our Tuple has redundant (repeating) values e.g. Lucerne\n",
    "# let's convert this List and Tuple in a 'set':\n",
    "\n",
    "myCitySetFromList    = set(myCityList)\n",
    "myCitySetFromTuple   = set(myCityTuple)\n",
    "\n",
    "print(myCitySetFromList)\n",
    "print(myCitySetFromTuple)\n",
    "\n",
    "# As expected, there are no duplicate elements in a set. Logical: This is set theory!"
   ]
  },
  {
   "cell_type": "code",
   "execution_count": null,
   "metadata": {},
   "outputs": [],
   "source": []
  },
  {
   "cell_type": "markdown",
   "metadata": {},
   "source": [
    "###  Sets of immutable elements"
   ]
  },
  {
   "cell_type": "markdown",
   "metadata": {},
   "source": [
    "**Sets** are implemented in Python in such a way that they **cannot have mutable objects** in them.\\\n",
    "That means: **All elements of a set are ALWAYS immutable!**\n",
    "\n",
    "We show this fact with four simple examples:"
   ]
  },
  {
   "cell_type": "code",
   "execution_count": null,
   "metadata": {},
   "outputs": [],
   "source": [
    "myCityListOfList   = [['Munich', 'Hamburg', 'Berlin', 'Stuttgart'],['Bern', 'Lucerne', 'Zurich']]\n",
    "myCityTupleOfList  = (['Munich', 'Hamburg', 'Berlin', 'Stuttgart'],['Bern', 'Lucerne', 'Zurich'])\n",
    "myCityListOfTuple  = [('Munich', 'Hamburg', 'Berlin', 'Stuttgart'),('Bern', 'Lucerne', 'Zurich')]\n",
    "myCityTupleOfTuple = (('Munich', 'Hamburg', 'Berlin', 'Stuttgart'),('Bern', 'Lucerne', 'Zurich'))"
   ]
  },
  {
   "cell_type": "code",
   "execution_count": null,
   "metadata": {},
   "outputs": [],
   "source": [
    "# We now want to convert the four examples above into a set.\n",
    "# Before you run this cell, consider: What examples will produce an error?\n",
    "\n",
    "# print(set(myCityListOfList))\n",
    "# print(set(myCityTupleOfList))\n",
    "print(set(myCityListOfTuple))\n",
    "print(set(myCityTupleOfTuple))\n"
   ]
  },
  {
   "cell_type": "code",
   "execution_count": null,
   "metadata": {},
   "outputs": [],
   "source": []
  },
  {
   "cell_type": "markdown",
   "metadata": {},
   "source": [
    "### Frozensets"
   ]
  },
  {
   "cell_type": "code",
   "execution_count": null,
   "metadata": {},
   "outputs": [],
   "source": [
    "# Attention: Even if 'sets' contain no changeable elements\n",
    "# they can change themselves.\n",
    "# For example: We can insert new elements in a set: \n",
    "\n",
    "cities2 = {\"Frankfurt\", \"Basel\",\"Freiburg\"}\n",
    "cities2.add(\"Strasbourg\")\n",
    "print(cities2)"
   ]
  },
  {
   "cell_type": "code",
   "execution_count": null,
   "metadata": {},
   "outputs": [],
   "source": [
    "# NEW term: Frozenset\n",
    "# 'Frozensets' are like 'sets', but they cannot be changed.\n",
    "# 'Frozensets' are REALLY immutable:\n",
    "# An attempt to change a 'Frozenset' leads to an error ....!\n",
    "\n",
    "cities3 = frozenset([\"Frankfurt\", \"Basel\",\"Freiburg\"])\n",
    "cities3.add(\"Strasbourg\")                   # an error occurs\n",
    "print(cities3)"
   ]
  },
  {
   "cell_type": "code",
   "execution_count": null,
   "metadata": {},
   "outputs": [],
   "source": []
  },
  {
   "cell_type": "markdown",
   "metadata": {},
   "source": [
    "###  Operations on 'set' objects: just a few examples"
   ]
  },
  {
   "cell_type": "markdown",
   "metadata": {},
   "source": [
    "#### add(element)"
   ]
  },
  {
   "cell_type": "code",
   "execution_count": null,
   "metadata": {},
   "outputs": [],
   "source": [
    "# with the method 'add(element)' you add a new 'element' to the set\n",
    "colours = {\"red\",\"green\"}\n",
    "print(colours)\n",
    "colours.add(\"yellow\")\n",
    "print(colours)"
   ]
  },
  {
   "cell_type": "markdown",
   "metadata": {},
   "source": [
    "#### clear()"
   ]
  },
  {
   "cell_type": "code",
   "execution_count": null,
   "metadata": {},
   "outputs": [],
   "source": [
    "# You can also \"empty\" a set\n",
    "\n",
    "cities4 = {'Bern', 'Lucerne', 'Zurich', 'Basel'}\n",
    "\n",
    "res = cities4.clear()\n",
    "print(res)"
   ]
  },
  {
   "cell_type": "markdown",
   "metadata": {},
   "source": [
    "#### copy()"
   ]
  },
  {
   "cell_type": "code",
   "execution_count": null,
   "metadata": {},
   "outputs": [],
   "source": [
    "# A set can be copied ... (\"shallow\" copy!)\n",
    "\n",
    "cities5 = ['Bern', 'Lucerne', 'Zurich', 'Basel']\n",
    "cities_backup = cities5.copy()\n",
    "cities5.clear()      # notthing happens with cities_backup\n",
    "print(cities5)\n",
    "print(cities_backup)"
   ]
  },
  {
   "cell_type": "markdown",
   "metadata": {},
   "source": [
    "#### discard()"
   ]
  },
  {
   "cell_type": "code",
   "execution_count": null,
   "metadata": {},
   "outputs": [],
   "source": [
    "# removes an element from the set (if element is not in the set: Nothing happens!)"
   ]
  },
  {
   "cell_type": "code",
   "execution_count": null,
   "metadata": {},
   "outputs": [],
   "source": [
    "cities6 = ['Bern', 'Lucerne', 'Zurich', 'Basel']\n",
    "city_removed = cities6.remove('Lucerne')\n",
    "\n",
    "print(cities6)\n",
    "print(city_removed)                              # 'None' is returned!"
   ]
  },
  {
   "cell_type": "markdown",
   "metadata": {},
   "source": [
    "#### remove()"
   ]
  },
  {
   "cell_type": "code",
   "execution_count": null,
   "metadata": {},
   "outputs": [],
   "source": [
    "# removes an element from the set (if element is not in the set: An error occurs!)\n",
    "cities7 = ['Bern', 'Lucerne', 'Zurich', 'Basel']\n",
    "print(cities7)\n",
    "city_removed = cities7.remove('Lucerne')           # 'None' is retruned!\n",
    "\n",
    "print(cities7)\n",
    "print(city_removed)\n",
    "\n",
    "try:\n",
    "    cities8 = cities7.remove('Geneva')\n",
    "except ValueError as err:\n",
    "    print(err)\n"
   ]
  },
  {
   "cell_type": "markdown",
   "metadata": {},
   "source": [
    "#### pop()        "
   ]
  },
  {
   "cell_type": "code",
   "execution_count": null,
   "metadata": {},
   "outputs": [],
   "source": [
    "# pop() used with a 'set' returns (random) an element of the set. \n",
    "# If there is no longer an element, then an error is generated.\n",
    "cities9 = ['Bern', 'Lucerne', 'Zurich', 'Basel']\n",
    "city_pop = cities9.pop()\n",
    "print(cities9)\n",
    "print(city_pop)\n"
   ]
  },
  {
   "cell_type": "markdown",
   "metadata": {},
   "source": [
    "### There are a number of **set- and frozenset-specific operations** such as \n",
    "\n",
    "- **difference()**, \n",
    "- **intersection()**, \n",
    "- **issubset()** \n",
    "- **union()**\n",
    "- ....\n",
    "\n",
    "These operations are used in mathematics. \\\n",
    "In the data science environment, these operations are also used. Consult the original documentation:\n",
    "\n",
    "https://docs.python.org/3/library/stdtypes.html#set"
   ]
  },
  {
   "cell_type": "code",
   "execution_count": null,
   "metadata": {},
   "outputs": [],
   "source": [
    "#################\n",
    "#  EXERCISE 04  #\n",
    "#################\n",
    "\n",
    "# You will find some more method-examples in the exercises!"
   ]
  },
  {
   "cell_type": "code",
   "execution_count": null,
   "metadata": {},
   "outputs": [],
   "source": []
  },
  {
   "cell_type": "markdown",
   "metadata": {},
   "source": [
    "## Lists and tuples in detail"
   ]
  },
  {
   "cell_type": "markdown",
   "metadata": {},
   "source": [
    "#### 'Stack-work' in Python\n",
    "\n",
    "A list can be seen as a **stack**. A stack in computer science is a data structure, which has at least two operations: \n",
    "- one which can be used to **put or push** data on the stack, and \n",
    "- another one to **take away** the most upper element of the stack. \n",
    "\n",
    "The way of working can be imagined with a stack of plates. If you need a plate you will usually take the most upper one. The used plates will be put back on the top of the stack after cleaning. \\\n",
    "If a programming language supports a **stack like data structure**, it will also supply at least two operations:\n",
    "\n",
    "- **push()**\n",
    "- **pop()**\n",
    "\n",
    "Description:\\\n",
    "**push():**\n",
    "(in Python: **append()**) This method is used to **put a new object on the stack**. Depending on the point of view, we say that we \"push\" the object on top or attach it to the right side. Python doesn't offer - contrary to other programming languages - a method with the name \"push\", but the method \"append\" has the same functionality.\n",
    "\n",
    "**pop():**\n",
    "This method **returns the top element of the stack**. The object will be removed from the stack as well.\n",
    "\n",
    "**Attention:**: pop() of a 'set' is not the same as pop() of a 'list' or 'tuple'!!!!"
   ]
  },
  {
   "cell_type": "code",
   "execution_count": null,
   "metadata": {},
   "outputs": [],
   "source": [
    "# Examples for 'pop' and 'push' (instead of 'push' we use in Python: append() !!!) \n",
    "\n",
    "myCityList2 = ['Bern', 'Lucerne', 'Zurich', 'Basel', 'Chur', 'Geneva', 'Lucerne', 'Lucerne']\n",
    "\n",
    "# instead of a push()-method Python use the append() method\n",
    "\n",
    "myCityList2.append('Bern')\n",
    "print(myCityList2)\n",
    "\n",
    "# the pop()-method takes the last element of the list:\n",
    "\n",
    "removedElement = myCityList2.pop()\n",
    "print(\"removedElement:\", removedElement)\n",
    "print(myCityList2)\n",
    "\n",
    "myCityList2.pop()    # here: removed element is NOT saved in a variable! \n",
    "myCityList2.pop()    # here: removed element is NOT saved in a variable! \n",
    "myCityList2.pop()    # here: removed element is NOT saved in a variable! \n",
    "\n",
    "print(myCityList2)\n",
    "\n",
    "\n"
   ]
  },
  {
   "cell_type": "code",
   "execution_count": null,
   "metadata": {},
   "outputs": [],
   "source": [
    "# Python has other functionality with the pop() command. \n",
    "# Not only can you remove the top-element from a list (or tuple) \n",
    "# you cann also remove any element if you know where it is (which position):\n",
    "\n",
    "# We want remove 'Lucerne' on the Position '2' and '7':\n",
    "\n",
    "\n",
    "myCityList3 = ['Bern', 'Lucerne', 'Zurich', 'Basel', 'Chur', 'Geneva', 'Lucerne', 'Lucerne']\n",
    "\n",
    "myCityList3.pop(1)\n",
    "print(myCityList3)\n",
    "myCityList3.pop(5)\n",
    "print(myCityList3)\n",
    "\n",
    "# Note:  The big disadvantage of this kind of 'element removal' is that the index changes with each removal."
   ]
  },
  {
   "cell_type": "code",
   "execution_count": null,
   "metadata": {},
   "outputs": [],
   "source": []
  },
  {
   "cell_type": "markdown",
   "metadata": {},
   "source": [
    "#### extend() VS  append( )"
   ]
  },
  {
   "cell_type": "code",
   "execution_count": 14,
   "metadata": {},
   "outputs": [
    {
     "name": "stdout",
     "output_type": "stream",
     "text": [
      "[0, 1, 1, 2, 3, 5]\n",
      "[0, 1, 1, 2, 3, 5, 8, 13, 21]\n",
      "[0, 1, 1, 2, 3, 5]\n",
      "[0, 1, 1, 2, 3, 5, [8, 13, 21]]\n"
     ]
    }
   ],
   "source": [
    "# The method \"extend\" is used to append several elements to a list.\n",
    "fib = [0,1,1,2,3,5]\n",
    "print(fib)\n",
    "fib.extend([8,13,21])            # add [8,13,21]!\n",
    "print(fib)\n",
    "\n",
    "# Note the difference to \"append\": (IMPORTANT !!!)\n",
    "fib = [0,1,1,2,3,5]\n",
    "print(fib)\n",
    "fib.append([8,13,21])           # what's the difference? => look the result!!! \n",
    "print(fib)"
   ]
  },
  {
   "cell_type": "markdown",
   "metadata": {},
   "source": [
    "####  '+'-Operator and extend "
   ]
  },
  {
   "cell_type": "code",
   "execution_count": 15,
   "metadata": {},
   "outputs": [
    {
     "name": "stdout",
     "output_type": "stream",
     "text": [
      "[3, 4]\n",
      "[3, 4, 42]\n",
      "[3, 4]\n",
      "[3, 4, 42]\n",
      "runtime behavior for 'l = l + [i * 2]': Used time:  24.181368112564087\n",
      "runtime behavior for 'l += [i * 2]':    Used time:  0.02329254150390625\n",
      "runtime behavior for 'l.append(i * 2)': Used time:  0.017157793045043945\n",
      "'l += [i * 2]' is 1038 faster then 'l = l + [i * 2]'\n",
      "'l.append(i * 2)' is 1409 faster then 'l = l + [i * 2]'\n"
     ]
    }
   ],
   "source": [
    "# In addition to \"extend(), you can also append something with the '+' operator\n",
    "L1 = [3,4]\n",
    "print(L1)\n",
    "\n",
    "L2 = L1 + [42]           # new way of attaching something\n",
    "print(L2)\n",
    "\n",
    "\n",
    "L3 = [3,4]\n",
    "print(L3)\n",
    "L3 += [42]              # a shorter way (C-style!!)\n",
    "print(L3)\n",
    "\n",
    "# Logically, both of the above approaches are equivalent,\n",
    "# i.e. they give the same results ... BUT: \n",
    "\n",
    "\n",
    "###############\n",
    "#  IMPORTANT  #\n",
    "###############\n",
    "# Question: What effect do these types of \"attachment\" have on\n",
    "#           the runtime behavior?\n",
    "#           We also investigate the append() method in the next scirpt: \n",
    "\n",
    "import time\n",
    "n= 50000                    # expand the number ... for trial! \n",
    "start_time = time.time()\n",
    "l = []\n",
    "for i in range(n):\n",
    "    l = l + [i * 2]\n",
    "usedTime1 =  time.time() - start_time   \n",
    "print(\"runtime behavior for 'l = l + [i * 2]': Used time: \", usedTime1)\n",
    "\n",
    "start_time = time.time()\n",
    "l = []\n",
    "for i in range(n):\n",
    "    l += [i * 2]\n",
    "usedTime2 =  time.time() - start_time       \n",
    "print(\"runtime behavior for 'l += [i * 2]':    Used time: \", usedTime2)    \n",
    "\n",
    "start_time = time.time()\n",
    "l = []\n",
    "for i in range(n):\n",
    "    l.append(i * 2) \n",
    "usedTime3 =  time.time() - start_time      \n",
    "print(\"runtime behavior for 'l.append(i * 2)': Used time: \", usedTime3)       \n",
    "\n",
    "res1 = usedTime1/usedTime2\n",
    "res2 = usedTime1/usedTime3\n",
    "\n",
    "print(\"'l += [i * 2]' is \" + str(int(res1)) + \" faster then 'l = l + [i * 2]'\")\n",
    "print(\"'l.append(i * 2)' is \" + str(int(res2)) + \" faster then 'l = l + [i * 2]'\")\n",
    "\n",
    "# You have to remember this result for your entire Python-career! (IMPORTANT)"
   ]
  },
  {
   "cell_type": "code",
   "execution_count": null,
   "metadata": {},
   "outputs": [],
   "source": []
  },
  {
   "cell_type": "markdown",
   "metadata": {},
   "source": [
    "#### Remove a value in a list"
   ]
  },
  {
   "cell_type": "code",
   "execution_count": null,
   "metadata": {},
   "outputs": [],
   "source": [
    "# Syntax: s.remove (x)\n",
    "# This call removes the first occurrence of the value x from the list s.\n",
    "# If x is not in the list when called, there is a ValueError.\n",
    "\n",
    "myCityList4 = ['Bern', 'Lucerne', 'Zurich', 'Basel', 'Chur', 'Geneva', 'Lucerne', 'Lucerne']\n",
    "\n",
    "removedElement = myCityList4.remove('Lucerne')\n",
    "print(removedElement)                             # note: the removedElement is NOT returned in the remove() method!!\n",
    "print(myCityList4)\n",
    "myCityList4.remove('Lucerne')                           \n",
    "print(myCityList4)"
   ]
  },
  {
   "cell_type": "markdown",
   "metadata": {},
   "source": [
    "#### Count the number of identical elements in the list"
   ]
  },
  {
   "cell_type": "code",
   "execution_count": null,
   "metadata": {},
   "outputs": [],
   "source": [
    "# How many elements with the name \"Lucerne\" are there in the list?\n",
    "myCityList5 = ['Bern', 'Lucerne', 'Zurich', 'Basel', 'Chur', 'Geneva', 'Lucerne', 'Lucerne']\n",
    "print(myCityList5)\n",
    "\n",
    "print(len(myCityList5))                               # counts all element\n",
    "print(\"Lucerne:\" , myCityList5.count(\"Lucerne\"))      # counts the number of 'Lucerne'-elements in the list\n",
    "\n",
    "print(\"Bern:\" , myCityList5.count(\"Bern\"))"
   ]
  },
  {
   "cell_type": "markdown",
   "metadata": {},
   "source": [
    "####  Position determination: Return the index position of an element"
   ]
  },
  {
   "cell_type": "code",
   "execution_count": null,
   "metadata": {},
   "outputs": [],
   "source": [
    "# Syntax: s.index(x [, i[, j]])\n",
    "# The index for the x is determined.\n",
    "\n",
    "# If the optional parameter 'i' is given, the search only starts from\n",
    "# this position and ends at position j (if j is given). It takes place\n",
    "# an error message if 'x' does not appear in 's'.\n",
    "\n",
    "myCityList6 = ['Bern', 'Lucerne', 'Zurich', 'Basel', 'Chur', 'Geneva', 'Lucerne', 'Lucerne']\n",
    "print(myCityList6)\n",
    "print(myCityList6.index(\"Lucerne\"))\n",
    "\n",
    "print(myCityList6.index(\"Lucerne\", 2))            # from position '2': where is the first 'Lucerne'?\n",
    "\n",
    "print(myCityList6.index(\"Chur\", 3,5))             # Chur found => position 4\n",
    "# print(colours.index(\"Chur\", 3,4))               # from 3 to 4 (without position 4) => error message!\n",
    "\n",
    "print(myCityList6.index(\"Basel\", 3,4))\n",
    "\n",
    "\n",
    "# print(myCityList6.index(\"Sursee\"))              # an ValueError ....! \n",
    "\n",
    "\n",
    "# try:                                              # an error-handling => later!\n",
    "#     print(myCityList6.index(\"Sursee\"))            \n",
    "# except (ValueError):\n",
    "#     print(\"Sursee is not in the list\")"
   ]
  },
  {
   "cell_type": "markdown",
   "metadata": {},
   "source": [
    "#### Insertion of elements at a specific index position"
   ]
  },
  {
   "cell_type": "code",
   "execution_count": null,
   "metadata": {},
   "outputs": [],
   "source": [
    "# Syntax: s.insert (index, object)\n",
    "# An object “object” is added to the list “s” at the 'index'-position.\n",
    "# The elements from position 'index' are moved one position to the right.\n",
    "\n",
    "\n",
    "myCityList6 = ['Bern', 'Lucerne', 'Zurich', 'Basel', 'Chur', 'Geneva', 'Lucerne', 'Lucerne']\n",
    "print(myCityList6)\n",
    "myCityList6.insert(2,\"Sursee\")\n",
    "print(myCityList6)\n"
   ]
  },
  {
   "cell_type": "code",
   "execution_count": null,
   "metadata": {},
   "outputs": [],
   "source": [
    "#################\n",
    "#  EXERCISE 05  #\n",
    "#################\n",
    "\n",
    "# Try to find out what's the impact of the different line of code in A) and B)!\n",
    "\n",
    "# small academic gymnastics exercise: ;-)\n",
    "\n",
    "# A) The behavior of the \"append\" method can be simulated very easily with \"insert\":\n",
    "\n",
    "abc = [\"a\",\"b\",\"c\"]\n",
    "print(abc)\n",
    "abc.insert(len(abc),\"d\")\n",
    "print(abc)\n",
    "\n",
    "# B) with append it would work like this:\n",
    "abc = [\"a\",\"b\",\"c\"]\n",
    "print(abc)\n",
    "abc.append(\"d\")\n",
    "print(abc)"
   ]
  },
  {
   "cell_type": "code",
   "execution_count": null,
   "metadata": {},
   "outputs": [],
   "source": []
  },
  {
   "cell_type": "markdown",
   "metadata": {},
   "source": [
    "##  Special features of tuples"
   ]
  },
  {
   "cell_type": "code",
   "execution_count": null,
   "metadata": {},
   "outputs": [],
   "source": [
    "# We know (forever ;-)): Tuples are immutable!\n",
    "# That means: elements cannot be removed, changed or\n",
    "# add new elements. That means the methods\n",
    "# “Pop”, “append” and “insert” for tuples do not exist.\n",
    "# A tuple cannot be changed via the index either,\n",
    "# as we see in one of the following example."
   ]
  },
  {
   "cell_type": "markdown",
   "metadata": {},
   "source": [
    "####  Empty tuple: It is possible to create an empty tuple"
   ]
  },
  {
   "cell_type": "code",
   "execution_count": null,
   "metadata": {},
   "outputs": [],
   "source": [
    "# Questions: How we can define a empty tuple?\n",
    "\n",
    "# simple Solution:    \n",
    "emptyTupel = ()\n",
    "print(type(emptyTupel))\n",
    "print(emptyTupel)"
   ]
  },
  {
   "cell_type": "markdown",
   "metadata": {},
   "source": [
    "#### 1-Tupel "
   ]
  },
  {
   "cell_type": "code",
   "execution_count": null,
   "metadata": {},
   "outputs": [],
   "source": [
    "# There is a challenge with tuples with only one element:\n",
    "\n",
    "# Since round brackets are also used for calculations e.g. with ((5 + 3) * 6), \n",
    "# you often have to generate '1-tuples' with a little \"trick\" ...\n",
    "\n",
    "# Unfortunately it doesn't work that way:\n",
    "tup1 = (5)\n",
    "print(type(tup1))\n",
    "print(\"tup1: \", tup1)\n",
    "\n",
    "# But it works with a little \"trick\": \n",
    "# A comma must follow after the value (e.g. 5):\n",
    "tup2 = (5,)\n",
    "print(type(tup2))\n",
    "print(\"tup2: \",tup2)"
   ]
  },
  {
   "cell_type": "markdown",
   "metadata": {},
   "source": [
    "####  Multiple assignments, packing and unpacking"
   ]
  },
  {
   "cell_type": "code",
   "execution_count": null,
   "metadata": {},
   "outputs": [],
   "source": [
    "# we have already got to know the following:\n",
    "# We can e.g. 'swap' two values without an intermediate variable.\n",
    "# You can't do that in Java, C, C #. An intermediate variable is always required there!\n",
    "\n",
    "x, y = 42, 11\n",
    "print(x, y)\n",
    "x, y = y, x          # swap 2 variables without an intermediate varialbe!!\n",
    "print(x, y)"
   ]
  },
  {
   "cell_type": "code",
   "execution_count": null,
   "metadata": {
    "scrolled": true
   },
   "outputs": [],
   "source": [
    "# The following two examples of code are 'tuple packing'\n",
    "\n",
    "# Example 1:\n",
    "t1 = \"Anna1\", \"Nicole1\"        # that's a 'tuple packing'\n",
    "print(type(t1))\n",
    "print(id(t1))\n",
    "print(t1)\n",
    "\n",
    "\n",
    "# Example 2:\n",
    "t2 = (\"Anna1\", \"Nicole1\")      # that's also a 'tuple packing'\n",
    "print(type(t2))\n",
    "print(id(t2))                # t2 is not the same object as t1, but has the same 'values' inside \n",
    "print(t2)\n",
    "\n",
    "print(\"*\"*80)    \n",
    "# on the other side: 'tuple unpacking':\n",
    "\n",
    "(first1, second1) = t1\n",
    "print(type((first1, second1)))\n",
    "print((first1, second1))\n",
    "print(first1, second1)\n",
    "\n",
    "(first2, second2) = t2\n",
    "print(type((first2, second2)))\n",
    "print((first2, second2))\n",
    "print(first2, second2)\n",
    "\n"
   ]
  },
  {
   "cell_type": "code",
   "execution_count": null,
   "metadata": {},
   "outputs": [],
   "source": [
    "##############################\n",
    "#   Important for SW 07 ;-)  #                 !!!!!!!!!!!!!!!!!!!!!!!!!!!!\n",
    "##############################\n",
    "\n",
    "\n",
    "# We will soon get to know the following when passing parameters:\n",
    "\n",
    "# The first value on the right side should be assigned to a variable (e.g. first) \n",
    "# and the rest of the values on the right side to another list-variable (e.g. rest)\n",
    "# We can do that with the *-operator:\n",
    "\n",
    "first, *rest = 10, 20, 30, 40, 50\n",
    "print(first)\n",
    "print(rest)"
   ]
  },
  {
   "cell_type": "code",
   "execution_count": null,
   "metadata": {},
   "outputs": [],
   "source": [
    "# the example from above can even be expanded a bit (to the last element)\n",
    "\n",
    "first, *middle, last =  10, 20, 30, 40, 50\n",
    "print(first)\n",
    "print(middle)\n",
    "print(last)"
   ]
  },
  {
   "cell_type": "code",
   "execution_count": null,
   "metadata": {},
   "outputs": [],
   "source": [
    "# One last example of 'unpacking'. \n",
    "# The string function 'split ()' allows us to be split several parts of a string  \n",
    "# into different variables at the same time:\n",
    "\n",
    "\n",
    "name0 = \"Colina\"\n",
    "res0 = list(name0)                # 'split' a string into a list of characters\n",
    "print(res0)\n",
    "\n",
    "name1 = \"Colina Mateo Mijo\"       \n",
    "res1 = name1.split()              # 'split' a string into 'words'    ***Important! Often used in old MEPs !! ***\n",
    "print(res1)\n",
    "\n",
    "# ... and now this example with 'unpacking:\n",
    "name2 = \"Colina Mateo Mijo\"       \n",
    "firstname, middlename, surname = name2.split()   # split() used for 'unpacking'\n",
    "print(firstname)\n",
    "print(middlename)\n",
    "print(surname)\n"
   ]
  },
  {
   "cell_type": "code",
   "execution_count": null,
   "metadata": {},
   "outputs": [],
   "source": []
  },
  {
   "cell_type": "markdown",
   "metadata": {},
   "source": [
    "####  For advanced users only: The changeable unchangeable"
   ]
  },
  {
   "cell_type": "code",
   "execution_count": null,
   "metadata": {},
   "outputs": [],
   "source": [
    "# We know: tuples cannot be changed - but look at the following code:\n",
    "\n",
    "galileo = ([],)           # we define a tuple with an empty list\n",
    "\n",
    "galileo[0].append(\"But it does move!\")\n",
    "print(galileo)\n",
    "\n",
    "# oops ?! Have we changed the tuple now?\n",
    "\n",
    "# The answer with a little more details:\n",
    "# The reference (= pointer) to the tuple has not changed, however\n",
    "# the content of the tuple (a list) does.\n",
    "# With the 'inplace' append()-method, the 'content' where the tuple reference points  (a list)\n",
    "# is replaced as whole - but the reference to this 'content' didn't change! \n",
    "\n",
    "# Please:  Such \"trickery\" should be avoided whenever possible!\n",
    "\n",
    "print(\"*\"*80)   \n",
    "# If we try to change the first element of the tuple (a list) without an 'inplace' operation, \n",
    "# we immediately get the expected error message.\n",
    "\n",
    "galileo[0] = \"But it does not move\"\n",
    "print(galileo)"
   ]
  },
  {
   "cell_type": "code",
   "execution_count": null,
   "metadata": {},
   "outputs": [],
   "source": []
  },
  {
   "cell_type": "markdown",
   "metadata": {},
   "source": [
    "## Sorting lists"
   ]
  },
  {
   "cell_type": "markdown",
   "metadata": {},
   "source": [
    "####  What is the difference between 'sort ()' and 'sorted ()'?"
   ]
  },
  {
   "cell_type": "code",
   "execution_count": null,
   "metadata": {},
   "outputs": [],
   "source": [
    "# There are 2 ways to sort lists:\n",
    "\n",
    "# A) the sort (...) method of the list class (which sorts the list 'inplace'\n",
    "#    => see: https://de.wikipedia.org/wiki/In-place)\n",
    "\n",
    "# B) the built-in function sorted (...), which turns an iterator object into a new sorted list\n",
    "#    (the term 'iterator': An object that 'runs' through something   => more later ...)\n",
    "\n",
    "# to A) i.e. sort (...):\n",
    "liste = [32,7,12,20,8]\n",
    "print(liste)\n",
    "res3 = liste.sort()         # 'inplace' sorted (no new list created)\n",
    "print(res3)                 # that means sort (...) returns NOTHING (= None)\n",
    "print(\"sort-list: \", liste)\n",
    "\n",
    "\n",
    "print(\"*\"* 80)\n",
    "# to B) i.e. sorted (...) => returns a new (!) sorted list !!!\n",
    "liste = [32,7,12,20,8]\n",
    "print(liste)\n",
    "res4 = sorted(liste)\n",
    "print(\"sorted-list:\", res4)\n",
    "print(liste)\n"
   ]
  },
  {
   "cell_type": "code",
   "execution_count": null,
   "metadata": {},
   "outputs": [],
   "source": [
    "#################\n",
    "#  EXERCISE 06  #\n",
    "#################\n",
    "\n",
    "# Do to: Try to find out which of the version above (A or B) is faster\n",
    "# in a loop of 100'000 "
   ]
  },
  {
   "cell_type": "code",
   "execution_count": null,
   "metadata": {},
   "outputs": [],
   "source": []
  },
  {
   "cell_type": "markdown",
   "metadata": {},
   "source": [
    "####  Reverse the sort order"
   ]
  },
  {
   "cell_type": "code",
   "execution_count": null,
   "metadata": {},
   "outputs": [],
   "source": [
    "# To reverse the sorting order, we set the keyword parameter 'reverse' to 'True' \n",
    "# for both \"sort()\" and \"sorted()\".\n",
    "# By default the 'reverse'-parameter is 'False'.\n",
    "\n",
    "liste2 = [32,7,12,20,8]\n",
    "print(liste2)\n",
    "x = sorted(liste2, reverse=True)    # returns a new reverse sorted list!\n",
    "print(x)\n",
    "\n",
    "\n",
    "print(\"*\"* 80)\n",
    "liste3 = [32,7,12,20,8]             \n",
    "print(liste3)\n",
    "liste3.sort(reverse=True)\n",
    "print(liste3)"
   ]
  },
  {
   "cell_type": "markdown",
   "metadata": {},
   "source": [
    "#### Define your own sorting functions"
   ]
  },
  {
   "cell_type": "code",
   "execution_count": null,
   "metadata": {},
   "outputs": [],
   "source": [
    "# The following list should be sorted according to the letters.\n",
    "\n",
    "l = [\"yellow\", \"Green\", \"blue\", \"Black\", \"red\"]\n",
    "print(l)\n",
    "print(sorted(l))        # returns a new sorted list\n",
    "print(l)                # Original list remains unchanged\n",
    "\n",
    "# Result: This sorting is not \"usual\" for us:\n",
    "# Upper and lower case letters should be \"equivalent\" ...!\n",
    "\n",
    "\n",
    "print(\"*\"* 80)\n",
    "# Solution: We 'activate' the 'key parameter' of sorted() and \n",
    "# tell the sorted()-function how we want sort the list.\n",
    "\n",
    "# Let's think: If all the colors had been written in lower case, everything would be OK ...!\n",
    "# That means: We pass the function 'str.lower' to the parameter 'key' \n",
    "# and everything works as expected!\n",
    "\n",
    "\n",
    "l = [\"yellow\", \"Green\", \"blue\", \"Black\", \"red\"]\n",
    "print(l)\n",
    "correct_sorted = sorted(l, key=str.lower)\n",
    "print(correct_sorted)   # returns a new sorted list\n",
    "print(l)                # Original list remains unchanged\n",
    "\n",
    "\n"
   ]
  },
  {
   "cell_type": "code",
   "execution_count": 1,
   "metadata": {},
   "outputs": [],
   "source": [
    "#################\n",
    "#  EXERCISE 07  #\n",
    "#################\n",
    "\n",
    "# Have a look to some advanced features for 'sort'! "
   ]
  },
  {
   "cell_type": "code",
   "execution_count": null,
   "metadata": {},
   "outputs": [],
   "source": []
  }
 ],
 "metadata": {
  "kernelspec": {
   "display_name": "Python 3 (ipykernel)",
   "language": "python",
   "name": "python3"
  },
  "language_info": {
   "codemirror_mode": {
    "name": "ipython",
    "version": 3
   },
   "file_extension": ".py",
   "mimetype": "text/x-python",
   "name": "python",
   "nbconvert_exporter": "python",
   "pygments_lexer": "ipython3",
   "version": "3.10.2"
  }
 },
 "nbformat": 4,
 "nbformat_minor": 2
}
