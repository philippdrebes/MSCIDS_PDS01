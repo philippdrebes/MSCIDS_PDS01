{
 "cells": [
  {
   "cell_type": "markdown",
   "id": "immune-invite",
   "metadata": {},
   "source": [
    "# Closures and Callables"
   ]
  },
  {
   "cell_type": "markdown",
   "id": "revolutionary-calibration",
   "metadata": {},
   "source": [
    "## Closures"
   ]
  },
  {
   "cell_type": "markdown",
   "id": "backed-first",
   "metadata": {},
   "source": [
    "### Definition"
   ]
  },
  {
   "cell_type": "markdown",
   "id": "burning-sheffield",
   "metadata": {},
   "source": [
    "Recall that functions are first-class objects in Python: e.g., they can be passed to higher-order functions such as `filter`:"
   ]
  },
  {
   "cell_type": "code",
   "execution_count": 1,
   "id": "bound-coffee",
   "metadata": {},
   "outputs": [
    {
     "data": {
      "text/plain": [
       "[2, 4, 6]"
      ]
     },
     "execution_count": 1,
     "metadata": {},
     "output_type": "execute_result"
    }
   ],
   "source": [
    "def iseven(x):\n",
    "    return x%2 == 0\n",
    "list(filter(iseven, [1, 2, 3, 4, 5, 6]))"
   ]
  },
  {
   "cell_type": "markdown",
   "id": "incorporate-surfing",
   "metadata": {},
   "source": [
    "Side note: this is where lambdas come in handy:"
   ]
  },
  {
   "cell_type": "code",
   "execution_count": 2,
   "id": "useful-utilization",
   "metadata": {},
   "outputs": [
    {
     "data": {
      "text/plain": [
       "[2, 4, 6]"
      ]
     },
     "execution_count": 2,
     "metadata": {},
     "output_type": "execute_result"
    }
   ],
   "source": [
    "list(filter(lambda x: x%2 == 0, [1, 2, 3, 4, 5, 6]))"
   ]
  },
  {
   "cell_type": "markdown",
   "id": "palestinian-tutorial",
   "metadata": {},
   "source": [
    "But functions can also be _returned_ by other functions:\n"
   ]
  },
  {
   "cell_type": "code",
   "execution_count": 3,
   "id": "taken-period",
   "metadata": {},
   "outputs": [
    {
     "data": {
      "text/plain": [
       "16"
      ]
     },
     "execution_count": 3,
     "metadata": {},
     "output_type": "execute_result"
    }
   ],
   "source": [
    "def make_squarer():\n",
    "    def f(x): # nested function\n",
    "        return x**2\n",
    "    return f # NOTE: no parentheses!\n",
    "my_squarer = make_squarer()\n",
    "my_squarer(4)        "
   ]
  },
  {
   "cell_type": "markdown",
   "id": "lovely-exposure",
   "metadata": {},
   "source": [
    "This is not terribly useful in and of itself. The usefulness comes from the fact that nested functions have access to their parent's scope:"
   ]
  },
  {
   "cell_type": "code",
   "execution_count": 4,
   "id": "smooth-sydney",
   "metadata": {},
   "outputs": [
    {
     "data": {
      "text/plain": [
       "8"
      ]
     },
     "execution_count": 4,
     "metadata": {},
     "output_type": "execute_result"
    }
   ],
   "source": [
    "def make_power(n): # known as a \"function factory\"\n",
    "    def f(x):\n",
    "        return x**n # n is from enclosing scope\n",
    "    return f\n",
    "my_power = make_power(3) # my_power is a closure\n",
    "my_power(2)"
   ]
  },
  {
   "cell_type": "markdown",
   "id": "urban-trader",
   "metadata": {},
   "source": [
    "So what happens here is that the function `f(x)` returned by `make_power` memorizes the parent scope; it carries a copy of `n` (and any other local variable in `make_power`) around with it! It is this returned function, stored in `my_power`, that's called a _closure_.\n",
    "\n",
    "This is useful when you need to pass a function to a higher order function that expects a function with only one parameter. Lets say we want to compute the integral $$\\int_{0}^5 f(x, data)\\mathrm{d}x.$$ I.e., we have a function of two variables, but we want to only integrate w.r.t. $x$. "
   ]
  },
  {
   "cell_type": "code",
   "execution_count": 5,
   "id": "likely-revolution",
   "metadata": {},
   "outputs": [
    {
     "name": "stdout",
     "output_type": "stream",
     "text": [
      "Requirement already satisfied: scipy in c:\\users\\sabro\\anaconda3\\lib\\site-packages (1.4.1)\n",
      "Requirement already satisfied: numpy>=1.13.3 in c:\\users\\sabro\\anaconda3\\lib\\site-packages (from scipy) (1.18.1)\n"
     ]
    }
   ],
   "source": [
    "# Install scipy\n",
    "import sys\n",
    "!{sys.executable} -m pip install scipy"
   ]
  },
  {
   "cell_type": "code",
   "execution_count": 6,
   "id": "future-economics",
   "metadata": {},
   "outputs": [],
   "source": [
    "from scipy.integrate import quad\n",
    "from math import exp\n",
    "\n",
    "def make_integrand(data):\n",
    "    def f(x):\n",
    "        return exp(-x*sum(data))\n",
    "    return f"
   ]
  },
  {
   "cell_type": "code",
   "execution_count": 7,
   "id": "rental-collapse",
   "metadata": {},
   "outputs": [
    {
     "data": {
      "text/plain": [
       "0.10000000000000002"
      ]
     },
     "execution_count": 7,
     "metadata": {},
     "output_type": "execute_result"
    }
   ],
   "source": [
    "data = [1, 2, 3, 4]\n",
    "my_integrand_1 = make_integrand(data)    \n",
    "quad(my_integrand_1, 0, 5)[0]"
   ]
  },
  {
   "cell_type": "markdown",
   "id": "concerned-cradle",
   "metadata": {},
   "source": [
    "This process of turning a function of several variables into a function of a single variable is called _partial function application_. Closures are a way to achieve this."
   ]
  },
  {
   "cell_type": "markdown",
   "id": "difficult-bankruptcy",
   "metadata": {},
   "source": [
    "You can think of closures the following way:\n",
    " * An _object_ is data with functions (methods) attached.\n",
    " * A _closure_ is a function with data attached.\n",
    " \n",
    "In principle, the two can do similar things. Closures originate from functional programming languages that do not \n",
    "support OOP, where they serve as the poor man's object. Python is a multi-paradigm language, so it supports both. \n",
    "\n",
    "Objects are probably more common in Python, but there a situations where closures are idiomatic (such as the above)."
   ]
  },
  {
   "cell_type": "markdown",
   "id": "polar-chapter",
   "metadata": {},
   "source": [
    "# Callables"
   ]
  },
  {
   "cell_type": "markdown",
   "id": "cleared-pottery",
   "metadata": {},
   "source": [
    "A similar effect can be achieved with callable objects: in Python, instances of any class can be made callable by adding a `__call__` method to the class:"
   ]
  },
  {
   "cell_type": "code",
   "execution_count": 8,
   "id": "diagnostic-beginning",
   "metadata": {},
   "outputs": [],
   "source": [
    "class Integrand:\n",
    "    def __init__(self, data):\n",
    "        self.data = data\n",
    "    def __call__(self, x):\n",
    "        return exp(-x*sum(data))"
   ]
  },
  {
   "cell_type": "markdown",
   "id": "certain-dancing",
   "metadata": {},
   "source": [
    "The effect is that instances of the class can be called like a function:"
   ]
  },
  {
   "cell_type": "code",
   "execution_count": 9,
   "id": "liberal-pursuit",
   "metadata": {},
   "outputs": [
    {
     "data": {
      "text/plain": [
       "0.36787944117144233"
      ]
     },
     "execution_count": 9,
     "metadata": {},
     "output_type": "execute_result"
    }
   ],
   "source": [
    "data = [1, 2, 3, 4]\n",
    "my_integrand_2 = Integrand(data) # an instance of Integrand\n",
    "my_integrand_2(.1)"
   ]
  },
  {
   "cell_type": "markdown",
   "id": "given-forest",
   "metadata": {},
   "source": [
    "We can use this the same way as the closure:"
   ]
  },
  {
   "cell_type": "code",
   "execution_count": 10,
   "id": "furnished-sending",
   "metadata": {},
   "outputs": [
    {
     "data": {
      "text/plain": [
       "0.10000000000000002"
      ]
     },
     "execution_count": 10,
     "metadata": {},
     "output_type": "execute_result"
    }
   ],
   "source": [
    "quad(my_integrand_2, 0, 5)[0]"
   ]
  },
  {
   "cell_type": "markdown",
   "id": "governmental-keyboard",
   "metadata": {},
   "source": [
    "The technical term for a callable object is \"functor\". The built-in function `callable` can be used to determine whether any object or class is callable:"
   ]
  },
  {
   "cell_type": "code",
   "execution_count": 11,
   "id": "attractive-might",
   "metadata": {},
   "outputs": [
    {
     "data": {
      "text/plain": [
       "function"
      ]
     },
     "execution_count": 11,
     "metadata": {},
     "output_type": "execute_result"
    }
   ],
   "source": [
    "type(my_integrand_1) # closure"
   ]
  },
  {
   "cell_type": "code",
   "execution_count": 12,
   "id": "several-marker",
   "metadata": {},
   "outputs": [
    {
     "data": {
      "text/plain": [
       "True"
      ]
     },
     "execution_count": 12,
     "metadata": {},
     "output_type": "execute_result"
    }
   ],
   "source": [
    "callable(my_integrand_1)"
   ]
  },
  {
   "cell_type": "code",
   "execution_count": 13,
   "id": "extra-scoop",
   "metadata": {},
   "outputs": [
    {
     "data": {
      "text/plain": [
       "__main__.Integrand"
      ]
     },
     "execution_count": 13,
     "metadata": {},
     "output_type": "execute_result"
    }
   ],
   "source": [
    "type(my_integrand_2) # functor = callable type"
   ]
  },
  {
   "cell_type": "code",
   "execution_count": 14,
   "id": "worse-intellectual",
   "metadata": {},
   "outputs": [
    {
     "data": {
      "text/plain": [
       "True"
      ]
     },
     "execution_count": 14,
     "metadata": {},
     "output_type": "execute_result"
    }
   ],
   "source": [
    "callable(my_integrand_2)"
   ]
  },
  {
   "cell_type": "code",
   "execution_count": 15,
   "id": "confident-fault",
   "metadata": {},
   "outputs": [
    {
     "data": {
      "text/plain": [
       "method"
      ]
     },
     "execution_count": 15,
     "metadata": {},
     "output_type": "execute_result"
    }
   ],
   "source": [
    "type(my_integrand_2.__call__) # method"
   ]
  },
  {
   "cell_type": "code",
   "execution_count": 16,
   "id": "sporting-dominican",
   "metadata": {},
   "outputs": [
    {
     "data": {
      "text/plain": [
       "True"
      ]
     },
     "execution_count": 16,
     "metadata": {},
     "output_type": "execute_result"
    }
   ],
   "source": [
    "callable(my_integrand_2.__call__)"
   ]
  },
  {
   "cell_type": "code",
   "execution_count": 17,
   "id": "dependent-cooperation",
   "metadata": {},
   "outputs": [
    {
     "data": {
      "text/plain": [
       "type"
      ]
     },
     "execution_count": 17,
     "metadata": {},
     "output_type": "execute_result"
    }
   ],
   "source": [
    "type(Integrand) # class"
   ]
  },
  {
   "cell_type": "code",
   "execution_count": 18,
   "id": "reverse-genius",
   "metadata": {},
   "outputs": [
    {
     "data": {
      "text/plain": [
       "True"
      ]
     },
     "execution_count": 18,
     "metadata": {},
     "output_type": "execute_result"
    }
   ],
   "source": [
    "callable(Integrand)"
   ]
  }
 ],
 "metadata": {
  "kernelspec": {
   "display_name": "Python 3",
   "language": "python",
   "name": "python3"
  },
  "language_info": {
   "codemirror_mode": {
    "name": "ipython",
    "version": 3
   },
   "file_extension": ".py",
   "mimetype": "text/x-python",
   "name": "python",
   "nbconvert_exporter": "python",
   "pygments_lexer": "ipython3",
   "version": "3.7.3"
  }
 },
 "nbformat": 4,
 "nbformat_minor": 5
}
