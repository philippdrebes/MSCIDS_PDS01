{
 "cells": [
  {
   "cell_type": "markdown",
   "metadata": {},
   "source": [
    "# help(), docstrings, dir(), vars()\n",
    "*2020-04, Bruno Grossniklaus, https://github.com/it-gro*\n",
    "\n",
    "**Some useful built-in helper functions**\n",
    "<hr>"
   ]
  },
  {
   "cell_type": "markdown",
   "metadata": {},
   "source": [
    "**built-in-functions**\n",
    "\n",
    "* [https://docs.python.org/3/library/functions.html#built-in-functions](https://docs.python.org/3/library/functions.html#built-in-functions) \\\n",
    "    The Python interpreter has a number of functions and types built into it that\n",
    "    are always available.\n",
    "\n",
    "\n",
    "**help()**\n",
    "\n",
    "*  [https://docs.python.org/3/library/functions.html#help](https://docs.python.org/3/library/functions.html#help) \\\n",
    "    Invoke the built-in help system. (This function is intended for interactive\n",
    "    use.) If no argument is given, the interactive help system starts on the\n",
    "    interpreter console. If the argument is a string, then the string is looked up\n",
    "    as the name of a module, function, class, method, keyword, or documentation\n",
    "    topic, and a help page is printed on the console.\n",
    "\n",
    "\n",
    "**docstrings**\n",
    "\n",
    "* [https://www.python.org/dev/peps/pep-0008/#documentation-strings](https://www.python.org/dev/peps/pep-0008/#documentation-strings) \\\n",
    "    Write docstrings for all public modules, functions, classes, and\n",
    "    methods. Docstrings are not necessary for non-public methods, but you should\n",
    "    have a comment that describes what the method does. This comment should appear\n",
    "    after the def line.\n",
    "  * [https://realpython.com/documenting-python-code](https://realpython.com/documenting-python-code)\n",
    "    * [https://realpython.com/documenting-python-code/#documenting-your-python-code-base-using-docstrings](https://realpython.com/documenting-python-code/#documenting-your-python-code-base-using-docstrings)\n",
    "\n",
    "\n",
    "**dir()**\n",
    "\n",
    "* [https://docs.python.org/3/library/functions.html#dir](https://docs.python.org/3/library/functions.html#dir) \\\n",
    "    Without arguments, return the list of names in the current local scope. With an\n",
    "    argument, attempt to return a list of valid attributes for that object.\n",
    "\n",
    "\n",
    "**vars()**\n",
    "\n",
    "* [https://docs.python.org/3/library/functions.html#vars](https://docs.python.org/3/library/functions.html#vars) \\\n",
    "    Return the __dict__ attribute for a module, class, instance, or any other\n",
    "    object with a __dict__ attribute.\n",
    "    \n"
   ]
  },
  {
   "cell_type": "markdown",
   "metadata": {},
   "source": [
    "<hr>"
   ]
  },
  {
   "cell_type": "markdown",
   "metadata": {},
   "source": [
    "## help()\n",
    "* [https://docs.python.org/3/library/functions.html#help](https://docs.python.org/3/library/functions.html#help)"
   ]
  },
  {
   "cell_type": "code",
   "execution_count": 1,
   "metadata": {
    "scrolled": false
   },
   "outputs": [],
   "source": [
    "# help()"
   ]
  },
  {
   "cell_type": "code",
   "execution_count": 2,
   "metadata": {},
   "outputs": [
    {
     "name": "stdout",
     "output_type": "stream",
     "text": [
      "Help on built-in function print in module builtins:\n",
      "\n",
      "print(...)\n",
      "    print(value, ..., sep=' ', end='\\n', file=sys.stdout, flush=False)\n",
      "    \n",
      "    Prints the values to a stream, or to sys.stdout by default.\n",
      "    Optional keyword arguments:\n",
      "    file:  a file-like object (stream); defaults to the current sys.stdout.\n",
      "    sep:   string inserted between values, default a space.\n",
      "    end:   string appended after the last value, default a newline.\n",
      "    flush: whether to forcibly flush the stream.\n",
      "\n"
     ]
    }
   ],
   "source": [
    "help(print)"
   ]
  },
  {
   "cell_type": "markdown",
   "metadata": {},
   "source": [
    "## docstrings\n",
    "* [https://www.python.org/dev/peps/pep-0008/#documentation-strings](https://www.python.org/dev/peps/pep-0008/#documentation-strings)\n",
    "* [https://www.python.org/dev/peps/pep-0257](https://www.python.org/dev/peps/pep-0257)"
   ]
  },
  {
   "cell_type": "code",
   "execution_count": 3,
   "metadata": {},
   "outputs": [
    {
     "name": "stdout",
     "output_type": "stream",
     "text": [
      "7797114118105110\n"
     ]
    }
   ],
   "source": [
    "\"\"\"\n",
    "This is our Robot class\n",
    "\n",
    "Lorem ipsum dolor sit amet, consectetur adipiscing elit. Pellentesque nulla ex,\n",
    "auctor varius est vel, aliquam semper dui. Ut auctor quam dui, ac volutpat nisi\n",
    "fringilla et. Aenean lobortis lacus ac eros vehicula cursus. Duis varius\n",
    "tristique tincidunt. Nullam euismod sodales ante, vitae aliquam felis volutpat\n",
    "et.\n",
    "\n",
    "\"\"\"\n",
    "\n",
    "class Robot:\n",
    "    '''\n",
    "    Our Robot\n",
    "    \n",
    "    They are everywhere...\n",
    "    Etiam auctor eu quam a ornare. Vivamus purus nisi, dapibus volutpat tortor et,\n",
    "    aliquet laoreet lectus. Phasellus id lectus vel turpis elementum\n",
    "    porttitor. Nunc iaculis interdum massa eget gravida.\n",
    "    '''\n",
    "\n",
    "    def __init__(self, name):\n",
    "        '''\n",
    "        @param name: the robots name\n",
    "        \n",
    "        Morbi placerat aliquet quam in accumsan. Maecenas et mauris tincidunt,\n",
    "        ultricies mi id, imperdiet velit. Suspendisse at ultrices lacus, eget rutrum\n",
    "        massa. Donec et elit ac diam porttitor aliquam. Nunc tristique convallis elit\n",
    "        sed porttitor. Curabitur eu nibh mollis, facilisis tortor id, cursus augue.\n",
    "        \n",
    "        '''\n",
    "        self.name = name\n",
    "        self._broken = False\n",
    "\n",
    "    def say_hi(self):\n",
    "        '''\n",
    "        Be friendly    \n",
    "        :return:\n",
    "        '''\n",
    "        print(\"Hi, I am \" + self.name)\n",
    "\n",
    "    def get_id(self):\n",
    "        '''\n",
    "        Get the internal id string \n",
    "        :return: id string\n",
    "        '''\n",
    "        id = \"\"\n",
    "        for i in self.name:\n",
    "            id += str(ord(i))\n",
    "        return id\n",
    "\n",
    "r = Robot(\"Marvin\")\n",
    "print(r.get_id())\n",
    "\n"
   ]
  },
  {
   "cell_type": "code",
   "execution_count": 4,
   "metadata": {
    "scrolled": true
   },
   "outputs": [
    {
     "name": "stdout",
     "output_type": "stream",
     "text": [
      "Help on class Robot in module __main__:\n",
      "\n",
      "class Robot(builtins.object)\n",
      " |  Our Robot\n",
      " |  \n",
      " |  They are everywhere...\n",
      " |  Etiam auctor eu quam a ornare. Vivamus purus nisi, dapibus volutpat tortor et,\n",
      " |  aliquet laoreet lectus. Phasellus id lectus vel turpis elementum\n",
      " |  porttitor. Nunc iaculis interdum massa eget gravida.\n",
      " |  \n",
      " |  Methods defined here:\n",
      " |  \n",
      " |  __init__(self, name)\n",
      " |      @param name: the robots name\n",
      " |      \n",
      " |      Morbi placerat aliquet quam in accumsan. Maecenas et mauris tincidunt,\n",
      " |      ultricies mi id, imperdiet velit. Suspendisse at ultrices lacus, eget rutrum\n",
      " |      massa. Donec et elit ac diam porttitor aliquam. Nunc tristique convallis elit\n",
      " |      sed porttitor. Curabitur eu nibh mollis, facilisis tortor id, cursus augue.\n",
      " |  \n",
      " |  get_id(self)\n",
      " |      Get the internal id string \n",
      " |      :return: id string\n",
      " |  \n",
      " |  say_hi(self)\n",
      " |      Be friendly    \n",
      " |      :return:\n",
      " |  \n",
      " |  ----------------------------------------------------------------------\n",
      " |  Data descriptors defined here:\n",
      " |  \n",
      " |  __dict__\n",
      " |      dictionary for instance variables (if defined)\n",
      " |  \n",
      " |  __weakref__\n",
      " |      list of weak references to the object (if defined)\n",
      "\n"
     ]
    }
   ],
   "source": [
    "help(Robot)"
   ]
  },
  {
   "cell_type": "code",
   "execution_count": 5,
   "metadata": {},
   "outputs": [
    {
     "name": "stdout",
     "output_type": "stream",
     "text": [
      "Help on method get_id in module __main__:\n",
      "\n",
      "get_id() method of __main__.Robot instance\n",
      "    Get the internal id string \n",
      "    :return: id string\n",
      "\n"
     ]
    }
   ],
   "source": [
    "help(r.get_id)"
   ]
  },
  {
   "cell_type": "markdown",
   "metadata": {},
   "source": [
    "<hr>"
   ]
  },
  {
   "cell_type": "markdown",
   "metadata": {},
   "source": [
    "## dir()\n",
    "* [https://docs.python.org/3/library/functions.html#dir](https://docs.python.org/3/library/functions.html#dir) \\\n",
    "The default dir() mechanism behaves differently with different types of\n",
    "objects, as it attempts to produce the most relevant, rather than complete,\n",
    "information:\n",
    "     * If the object is a module object, the list contains the names of the module’s\n",
    "       attributes.\n",
    "     * If the object is a type or class object, the list contains the names of its\n",
    "       attributes, and recursively of the attributes of its bases.\n",
    "     * Otherwise, the list contains the object’s attributes’ names, the names of\n",
    "       its class’s attributes, and recursively of the attributes of its class’s\n",
    "       base classes.\n",
    "\n",
    "\n",
    "* [https://docs.python.org/3/library/stdtypes.html#special-attributes](https://docs.python.org/3/library/stdtypes.html#special-attributes)\n"
   ]
  },
  {
   "cell_type": "code",
   "execution_count": 6,
   "metadata": {
    "scrolled": true
   },
   "outputs": [
    {
     "data": {
      "text/plain": [
       "['In',\n",
       " 'Out',\n",
       " 'Robot',\n",
       " '_',\n",
       " '__',\n",
       " '___',\n",
       " '__builtin__',\n",
       " '__builtins__',\n",
       " '__doc__',\n",
       " '__loader__',\n",
       " '__name__',\n",
       " '__package__',\n",
       " '__spec__',\n",
       " '_dh',\n",
       " '_i',\n",
       " '_i1',\n",
       " '_i2',\n",
       " '_i3',\n",
       " '_i4',\n",
       " '_i5',\n",
       " '_i6',\n",
       " '_ih',\n",
       " '_ii',\n",
       " '_iii',\n",
       " '_oh',\n",
       " 'exit',\n",
       " 'get_ipython',\n",
       " 'quit',\n",
       " 'r']"
      ]
     },
     "execution_count": 6,
     "metadata": {},
     "output_type": "execute_result"
    }
   ],
   "source": [
    "dir()"
   ]
  },
  {
   "cell_type": "code",
   "execution_count": 7,
   "metadata": {},
   "outputs": [
    {
     "data": {
      "text/plain": [
       "['__class__',\n",
       " '__delattr__',\n",
       " '__dict__',\n",
       " '__dir__',\n",
       " '__doc__',\n",
       " '__eq__',\n",
       " '__format__',\n",
       " '__ge__',\n",
       " '__getattribute__',\n",
       " '__gt__',\n",
       " '__hash__',\n",
       " '__init__',\n",
       " '__init_subclass__',\n",
       " '__le__',\n",
       " '__lt__',\n",
       " '__module__',\n",
       " '__ne__',\n",
       " '__new__',\n",
       " '__reduce__',\n",
       " '__reduce_ex__',\n",
       " '__repr__',\n",
       " '__setattr__',\n",
       " '__sizeof__',\n",
       " '__str__',\n",
       " '__subclasshook__',\n",
       " '__weakref__',\n",
       " 'get_id',\n",
       " 'say_hi']"
      ]
     },
     "execution_count": 7,
     "metadata": {},
     "output_type": "execute_result"
    }
   ],
   "source": [
    "dir(Robot)"
   ]
  },
  {
   "cell_type": "code",
   "execution_count": 8,
   "metadata": {},
   "outputs": [
    {
     "data": {
      "text/plain": [
       "['__class__',\n",
       " '__delattr__',\n",
       " '__dict__',\n",
       " '__dir__',\n",
       " '__doc__',\n",
       " '__eq__',\n",
       " '__format__',\n",
       " '__ge__',\n",
       " '__getattribute__',\n",
       " '__gt__',\n",
       " '__hash__',\n",
       " '__init__',\n",
       " '__init_subclass__',\n",
       " '__le__',\n",
       " '__lt__',\n",
       " '__module__',\n",
       " '__ne__',\n",
       " '__new__',\n",
       " '__reduce__',\n",
       " '__reduce_ex__',\n",
       " '__repr__',\n",
       " '__setattr__',\n",
       " '__sizeof__',\n",
       " '__str__',\n",
       " '__subclasshook__',\n",
       " '__weakref__',\n",
       " '_broken',\n",
       " 'get_id',\n",
       " 'name',\n",
       " 'say_hi']"
      ]
     },
     "execution_count": 8,
     "metadata": {},
     "output_type": "execute_result"
    }
   ],
   "source": [
    "dir(r)"
   ]
  },
  {
   "cell_type": "code",
   "execution_count": 9,
   "metadata": {},
   "outputs": [
    {
     "data": {
      "text/plain": [
       "{'name': 'Marvin', '_broken': False}"
      ]
     },
     "execution_count": 9,
     "metadata": {},
     "output_type": "execute_result"
    }
   ],
   "source": [
    "r.__dict__"
   ]
  },
  {
   "cell_type": "code",
   "execution_count": 10,
   "metadata": {},
   "outputs": [
    {
     "data": {
      "text/plain": [
       "'\\n    Our Robot\\n    \\n    They are everywhere...\\n    Etiam auctor eu quam a ornare. Vivamus purus nisi, dapibus volutpat tortor et,\\n    aliquet laoreet lectus. Phasellus id lectus vel turpis elementum\\n    porttitor. Nunc iaculis interdum massa eget gravida.\\n    '"
      ]
     },
     "execution_count": 10,
     "metadata": {},
     "output_type": "execute_result"
    }
   ],
   "source": [
    "r.__doc__"
   ]
  },
  {
   "cell_type": "markdown",
   "metadata": {},
   "source": [
    "<hr>"
   ]
  },
  {
   "cell_type": "markdown",
   "metadata": {},
   "source": [
    "## vars()\n",
    "* [https://docs.python.org/3/library/functions.html#vars](https://docs.python.org/3/library/functions.html#var) \\\n",
    "    Return the __dict__ attribute for a module, class, instance, or any other\n",
    "    object with a __dict__ attribute.\n"
   ]
  },
  {
   "cell_type": "code",
   "execution_count": 11,
   "metadata": {},
   "outputs": [
    {
     "data": {
      "text/plain": [
       "{'name': 'Marvin', '_broken': False}"
      ]
     },
     "execution_count": 11,
     "metadata": {},
     "output_type": "execute_result"
    }
   ],
   "source": [
    "vars(r)"
   ]
  }
 ],
 "metadata": {
  "kernelspec": {
   "display_name": "Python 3",
   "language": "python",
   "name": "python3"
  },
  "language_info": {
   "codemirror_mode": {
    "name": "ipython",
    "version": 3
   },
   "file_extension": ".py",
   "mimetype": "text/x-python",
   "name": "python",
   "nbconvert_exporter": "python",
   "pygments_lexer": "ipython3",
   "version": "3.6.9"
  }
 },
 "nbformat": 4,
 "nbformat_minor": 2
}
