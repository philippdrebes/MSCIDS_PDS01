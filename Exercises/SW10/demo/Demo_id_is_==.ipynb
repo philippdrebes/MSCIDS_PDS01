{
 "cells": [
  {
   "cell_type": "markdown",
   "metadata": {},
   "source": [
    "# Variable with id(), is and ==\n",
    "*2020-04 mae, it-gro*\n",
    "\n",
    "**identical or just the same?**\n",
    "<hr>\n"
   ]
  },
  {
   "cell_type": "markdown",
   "metadata": {},
   "source": [
    "**id()**\n",
    "\n",
    "* [https://docs.python.org/3/library/functions.html#id](https://docs.python.org/3/library/functions.html#id) \\\n",
    "  Return the “identity” of an object. \n",
    "  This is an integer which is guaranteed to be unique and \n",
    "  constant for this object during its lifetime.\n",
    "\n",
    "\n",
    "**is**\n",
    "  \n",
    "* [https://docs.python.org/3/reference/expressions.html#is](https://docs.python.org/3/reference/expressions.html#is) \\\n",
    "  The operators is and is not test for an object’s identity: \n",
    "  x is y is true if and only if x and y are the same object. \n",
    "  An Object’s identity is determined using the id() function.\n",
    "\n",
    "\n",
    "**value-comparisons**\n",
    "\n",
    "* [https://docs.python.org/3/reference/expressions.html#value-comparisons ](https://docs.python.org/3/reference/expressions.html#value-comparisons) \\\n",
    "  The operators <, >, ==, >=, <=, and != compare the values of two objects. \n",
    "  The objects do not need to have the same type.    "
   ]
  },
  {
   "cell_type": "markdown",
   "metadata": {},
   "source": [
    "Use [http://pythontutor.com/visualize.html#mode=edit](http://pythontutor.com/visualize.html#mode=edit) to see what is going on"
   ]
  },
  {
   "cell_type": "markdown",
   "metadata": {},
   "source": [
    "## id()\n",
    "### int"
   ]
  },
  {
   "cell_type": "code",
   "execution_count": 1,
   "metadata": {
    "scrolled": true
   },
   "outputs": [
    {
     "name": "stdout",
     "output_type": "stream",
     "text": [
      "10914496\n",
      "10914496\n"
     ]
    }
   ],
   "source": [
    "a = 1\n",
    "b = 1\n",
    "print(id(a))\n",
    "print(id(b))"
   ]
  },
  {
   "cell_type": "code",
   "execution_count": 2,
   "metadata": {},
   "outputs": [
    {
     "name": "stdout",
     "output_type": "stream",
     "text": [
      "139937693694608\n",
      "139937693694032\n"
     ]
    }
   ],
   "source": [
    "a = 257\n",
    "b = 257\n",
    "print(id(a))\n",
    "print(id(b))"
   ]
  },
  {
   "cell_type": "markdown",
   "metadata": {},
   "source": [
    "## id(), is, ===\n",
    "### Lists"
   ]
  },
  {
   "cell_type": "code",
   "execution_count": 3,
   "metadata": {},
   "outputs": [
    {
     "name": "stdout",
     "output_type": "stream",
     "text": [
      "139937702443208\n",
      "139937702443656\n",
      "False\n",
      "True\n",
      "139937702443208\n",
      "True\n",
      "True\n"
     ]
    }
   ],
   "source": [
    "a = [81, 82, 83]\n",
    "print(id(a))\n",
    "\n",
    "b = [81, 82, 83]\n",
    "print (id(b))\n",
    "print(a is b)\n",
    "print(a == b)\n",
    "\n",
    "c = a\n",
    "print (id(c))\n",
    "print(a is c)\n",
    "print(a == c)"
   ]
  },
  {
   "cell_type": "code",
   "execution_count": 4,
   "metadata": {},
   "outputs": [
    {
     "name": "stdout",
     "output_type": "stream",
     "text": [
      "139937693709064\n",
      "139937702422728\n",
      "False\n",
      "True\n"
     ]
    }
   ],
   "source": [
    "a = []\n",
    "print(id(a))\n",
    "b = []\n",
    "print (id(b))\n",
    "print(a is b)\n",
    "print(a == b)"
   ]
  },
  {
   "cell_type": "markdown",
   "metadata": {},
   "source": [
    "### Tuples"
   ]
  },
  {
   "cell_type": "code",
   "execution_count": 5,
   "metadata": {},
   "outputs": [
    {
     "name": "stdout",
     "output_type": "stream",
     "text": [
      "139937702429320\n",
      "139937702430544\n",
      "False\n",
      "True\n",
      "139937702429320\n",
      "True\n",
      "True\n"
     ]
    }
   ],
   "source": [
    "a = (81, 82, 83)\n",
    "print(id(a))\n",
    "\n",
    "b = (81, 82, 83)\n",
    "print (id(b))\n",
    "print(a is b)\n",
    "print(a == b)\n",
    "\n",
    "c = a\n",
    "print (id(c))\n",
    "print(a is c)\n",
    "print(a == c)"
   ]
  },
  {
   "cell_type": "code",
   "execution_count": 6,
   "metadata": {},
   "outputs": [
    {
     "name": "stdout",
     "output_type": "stream",
     "text": [
      "139937908756552\n",
      "139937908756552\n",
      "True\n",
      "True\n"
     ]
    }
   ],
   "source": [
    "a = ()\n",
    "print(id(a))\n",
    "b = ()\n",
    "print (id(b))\n",
    "print(a is b)\n",
    "print(a == b)"
   ]
  },
  {
   "cell_type": "markdown",
   "metadata": {},
   "source": [
    "### Strings"
   ]
  },
  {
   "cell_type": "code",
   "execution_count": 7,
   "metadata": {},
   "outputs": [
    {
     "name": "stdout",
     "output_type": "stream",
     "text": [
      "139937693793264\n",
      "139937693858224\n",
      "False\n",
      "True\n",
      "139937693793264\n",
      "True\n",
      "True\n"
     ]
    }
   ],
   "source": [
    "a = \"Python is cool\"\n",
    "print(id(a))\n",
    "\n",
    "b = \"Python is cool\"\n",
    "print (id(b))\n",
    "print(a is b)\n",
    "print(a == b)\n",
    "\n",
    "c = a\n",
    "print (id(c))\n",
    "print(a is c)\n",
    "print(a == c)"
   ]
  },
  {
   "cell_type": "code",
   "execution_count": 8,
   "metadata": {},
   "outputs": [
    {
     "name": "stdout",
     "output_type": "stream",
     "text": [
      "139937907589952\n",
      "139937907589952\n",
      "True\n",
      "True\n"
     ]
    }
   ],
   "source": [
    "a = \"Python\"\n",
    "print(id(a)) \n",
    "b = \"Python\"\n",
    "print (id(b))\n",
    "print(a is b)\n",
    "print(a == b)"
   ]
  },
  {
   "cell_type": "markdown",
   "metadata": {},
   "source": [
    "### Lists (Colors)\n",
    "\n",
    "Run also with [http://pythontutor.com/visualize.html#mode=edit](http://pythontutor.com/visualize.html#mode=edit)"
   ]
  },
  {
   "cell_type": "markdown",
   "metadata": {},
   "source": [
    "#### Example 1"
   ]
  },
  {
   "cell_type": "code",
   "execution_count": 9,
   "metadata": {},
   "outputs": [
    {
     "name": "stdout",
     "output_type": "stream",
     "text": [
      "colours1, id: ['red', 'blue'] 139937685103176\n",
      "colours2, id: ['red', 'blue'] 139937685103176\n",
      "colours3, id: ['red', 'blue'] 139937685103176\n",
      "colours1 == colours2:  True, colours1 is colours2:  True\n",
      "colours1 == colours3:  True, colours1 is colours3:  True\n",
      "\n",
      " ********* we change colours2 and colors3 now *********\n",
      "colours1, id: ['red', 'blue'] 139937685103176\n",
      "colours2, id: ['rot', 'blau'] 139937685103432\n",
      "colours3, id: ['red', 'blue'] 139937685103240\n",
      "\n",
      "After update of 'colours2 and colors3': \n",
      "colours1 == colours2: False, colours1 is colours2: False\n",
      "colours1 == colours3:  True, colours1 is colours3: False\n"
     ]
    }
   ],
   "source": [
    "colours1 = [\"red\", \"blue\"]\n",
    "colours2 = colours1\n",
    "colours3 = colours1\n",
    "print(\"colours1, id:\", colours1, id(colours1))\n",
    "print(\"colours2, id:\", colours2, id(colours2))\n",
    "print(\"colours3, id:\", colours3, id(colours3))\n",
    "\n",
    "print(\"%s %5r, %s %5r\" % (\"colours1 == colours2:\", colours1 == colours2, \n",
    "                          \"colours1 is colours2:\", colours1 is colours2) )\n",
    "print(\"%s %5r, %s %5r\" % (\"colours1 == colours3:\", colours1 == colours3, \n",
    "                          \"colours1 is colours3:\", colours1 is colours3))\n",
    "\n",
    "print(\"\\n ********* we change colours2 and colors3 now *********\")\n",
    "colours2 = [\"rot\", \"blau\"]\n",
    "colours3 = [\"red\", \"blue\"]\n",
    "print(\"colours1, id:\", colours1, id(colours1))\n",
    "print(\"colours2, id:\", colours2, id(colours2))\n",
    "print(\"colours3, id:\", colours3, id(colours3))\n",
    "\n",
    "print(\"\\nAfter update of 'colours2 and colors3': \")\n",
    "print(\"%s %5r, %s %5r\" % (\"colours1 == colours2:\", colours1 == colours2, \n",
    "                          \"colours1 is colours2:\", colours1 is colours2))\n",
    "print(\"%s %5r, %s %5r\" % (\"colours1 == colours3:\", colours1 == colours3, \n",
    "                          \"colours1 is colours3:\", colours1 is colours3))\n"
   ]
  },
  {
   "cell_type": "markdown",
   "metadata": {},
   "source": [
    "#### Example 2"
   ]
  },
  {
   "cell_type": "code",
   "execution_count": 10,
   "metadata": {},
   "outputs": [
    {
     "name": "stdout",
     "output_type": "stream",
     "text": [
      "colours1, id: ['red', 'blue'] 139937685104584\n",
      "colours2, id: ['red', 'blue'] 139937685104456\n",
      "colours3, id: ['red', 'blue'] 139937685103176\n",
      "colours1 == colours2:  True, colours1 is colours2: False\n",
      "colours1 == colours3:  True, colours1 is colours3: False\n",
      "\n",
      " ********* we change colours2 now *********\n",
      "colours1, id: ['red', 'blue'] 139937685104584\n",
      "colours2, id: ['rot', 'blau'] 139937685104712\n",
      "\n",
      "After update of 'colours2': \n",
      "colours1 == colours2: False, colours1 is colours2: False\n",
      "\n",
      " ********* we change blue and colors3 now *********\n",
      "colours1, id: ['red', 'blue'] 139937685104584\n",
      "colours3, id: ['red', 'blau'] 139937685103240\n",
      "\n",
      "After update of 'colours3': \n",
      "colours1 == colours3: False, colours1 is colours3: False\n"
     ]
    }
   ],
   "source": [
    "red = \"red\"\n",
    "blue = \"blue\"\n",
    "colours1 = [red, blue]\n",
    "colours2 = [red, blue]\n",
    "colours3 = [red, blue]\n",
    "\n",
    "print(\"colours1, id:\", colours1, id(colours1))\n",
    "print(\"colours2, id:\", colours2, id(colours2))\n",
    "print(\"colours3, id:\", colours3, id(colours3))\n",
    "\n",
    "print(\"%s %5r, %s %5r\" % (\"colours1 == colours2:\", colours1 == colours2, \n",
    "                          \"colours1 is colours2:\", colours1 is colours2))\n",
    "print(\"%s %5r, %s %5r\" % (\"colours1 == colours3:\", colours1 == colours3, \n",
    "                          \"colours1 is colours3:\", colours1 is colours3))\n",
    "\n",
    "print(\"\\n ********* we change colours2 now *********\")\n",
    "colours2 = [\"rot\", \"blau\"] \n",
    "print(\"colours1, id:\", colours1, id(colours1))\n",
    "print(\"colours2, id:\", colours2, id(colours2))\n",
    "\n",
    "print(\"\\nAfter update of 'colours2': \")\n",
    "print(\"%s %5r, %s %5r\" % (\"colours1 == colours2:\", colours1 == colours2, \n",
    "                          \"colours1 is colours2:\", colours1 is colours2))\n",
    "\n",
    "print(\"\\n ********* we change blue and colors3 now *********\")\n",
    "blue = \"blau\"\n",
    "colours3 = [red, blue]\n",
    "print(\"colours1, id:\", colours1, id(colours1))\n",
    "print(\"colours3, id:\", colours3, id(colours3))\n",
    "\n",
    "print(\"\\nAfter update of 'colours3': \")\n",
    "print(\"%s %5r, %s %5r\" % (\"colours1 == colours3:\", colours1 == colours3, \n",
    "                          \"colours1 is colours3:\", colours1 is colours3))\n"
   ]
  },
  {
   "cell_type": "code",
   "execution_count": null,
   "metadata": {},
   "outputs": [],
   "source": []
  }
 ],
 "metadata": {
  "kernelspec": {
   "display_name": "Python 3",
   "language": "python",
   "name": "python3"
  },
  "language_info": {
   "codemirror_mode": {
    "name": "ipython",
    "version": 3
   },
   "file_extension": ".py",
   "mimetype": "text/x-python",
   "name": "python",
   "nbconvert_exporter": "python",
   "pygments_lexer": "ipython3",
   "version": "3.6.9"
  }
 },
 "nbformat": 4,
 "nbformat_minor": 2
}
